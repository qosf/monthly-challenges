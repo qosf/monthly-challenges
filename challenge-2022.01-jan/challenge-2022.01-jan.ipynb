{
 "cells": [
  {
   "cell_type": "markdown",
   "id": "3c832024",
   "metadata": {},
   "source": [
    "# Challenge: Decompose\n",
    "\n",
    "Unitary Decomposition is the process of translating an arbitrary unitary1 gate into a specific (universal) set of single and two-qubit gates. Unitary decomposition is necessary because it is not otherwise possible to execute an arbitrary quantum gate on either a simulator or quantum accelerator. This makes it a required feature for algorithms that use any type of gate that is not supported by the target platform, or just produce an arbitrary unitary gate that will need to be translate [[1]](#References).\n",
    "\n",
    "\n",
    "\n",
    "This challenge will be divided into 3 sections where each section will increase the difficulty of each task so that those interested can self-assess themselves and see what they can improve.\n",
    "\n",
    "# Part 1: How to design a quantum circuit \n",
    "\n",
    "When one begins to delve into the area of quantum computing it is important to talk about the essential components, these are the quantum bits or qubits that represent the input information to be manipulated; the quantum gates, which manage to modify the states of the qubits and can be represented as matrices of size $2^kx2^k$, where $k$ is the number of qubits; the measurements that manage to pass the values of a quantum state to a classical value and can be read in a classical computer and we can interpret it; and the quantum circuit, the structure that manages to contain all the qubits; the measurements that manage to pass the values of a quantum state to a classical value and can be read in a classical computer and interpreted; and the quantum circuit, the structure that manages to contain all of the above components and depending on the configuration can represent a particular quantum algorithm.\n",
    "\n",
    "\n",
    "\n",
    "<div class=\"alert alert-block alert-danger\"> The proposal of this challenge is <b>NOT to use any framework like qiskit, pennylane, cirq, etc,</b> it is to do everything in numpy, python or any other language you feel comfortable with. </div>"
   ]
  },
  {
   "cell_type": "code",
   "execution_count": null,
   "id": "3eef262b-d0d3-4c97-b304-54716368c602",
   "metadata": {},
   "outputs": [],
   "source": [
    "import numpy as np"
   ]
  },
  {
   "cell_type": "markdown",
   "id": "f24d49b3-4dbd-4992-832b-e3ba7464067f",
   "metadata": {},
   "source": [
    "## Qubit\n",
    "\n",
    "Qubits describe abstract mathematical objects with certain specific properties of two states (like the bit), |0〉 and |1〉, these are known as computational ground states, and are orthonormal. The qubit is a two-dimensional H-vector.\n",
    "The difference between bit and qubit is that the latter can be in a state other than |0〉. state other than |0〉 or |1〉, i.e., form linear combinations of states, often called superpositions. often called superpositions:\n",
    "\n",
    "$$|ψ〉= α_0|0〉+  α_1|1〉, (1)$$\n",
    "\n",
    "where α_0 and α_1 are complex numbers.\n",
    "\n",
    "## Initial state and quantum gates"
   ]
  },
  {
   "cell_type": "markdown",
   "id": "55d5b2a5-f457-4468-966f-e03188938b2e",
   "metadata": {},
   "source": [
    "The initial state in the circuit is:\n",
    "\n",
    "$$|\\Psi_{0}\\rangle =  |0\\rangle $$ \n",
    "\n",
    "or \n",
    "\n",
    "$$|\\Psi_{1}\\rangle =  |1\\rangle $$ \n",
    "\n",
    "$$|0> = \\begin{bmatrix} 1 \\cr 0  \\end{bmatrix}  \\qquad |1> = \\begin{bmatrix} 0  \\cr 1   \\end{bmatrix} $$"
   ]
  },
  {
   "cell_type": "markdown",
   "id": "7a668576-52bb-4775-90e5-2d0e1f9e6539",
   "metadata": {},
   "source": [
    "With NumPy define the vectors (kets) $|0\\rangle$ and $|1\\rangle$ and build the initial state $|\\Psi_{0}\\rangle$ "
   ]
  },
  {
   "cell_type": "code",
   "execution_count": null,
   "id": "07ac3279",
   "metadata": {},
   "outputs": [],
   "source": [
    "##################\n",
    "# YOUR CODE HERE #\n",
    "ket_0 = \n",
    "ket_1 = \n",
    "\n",
    "\n",
    "\n",
    "\n",
    "##################"
   ]
  },
  {
   "cell_type": "markdown",
   "id": "82bbc516",
   "metadata": {},
   "source": [
    "\n",
    "For the state vector of the qubit to be valid, the sum of the absolute square of scalars must be equal to one, where the scalar values of (1) are\n",
    "\n",
    "$$|\\alpha_0|^2+ |\\alpha_1|^2 = 1.   (2)$$ \n",
    "\n",
    "\n",
    "In a general way we can say \n",
    "\n",
    "$$\\sum_{i=0}^{n=2^k - 1}|\\alpha_i|^2 = 1 , (2.1)$$\n",
    "\n",
    "where k is the number of qubits\n",
    "\n",
    "\n",
    "Valid the following states:\n",
    "\n",
    "- $|q0\\rangle= \\frac{i}{\\sqrt{2}}|0\\rangle + \\frac{1}{\\sqrt{2}}|1\\rangle$\n",
    "- $|q1\\rangle =  \\sqrt{\\frac{2}{3}}i|0\\rangle - \\frac{i}{\\sqrt{3}}|1\\rangle$\n",
    "- $|q2\\rangle = \\frac{1}{\\sqrt{2}}|0\\rangle - \\frac{i}{\\sqrt{2}}|1\\rangle$    \n",
    "- $|q3\\rangle = \\frac{1}{2}|0\\rangle - \\sqrt{\\frac{3}{4}}i|1\\rangle$\n",
    "\n",
    "- $|q4\\rangle = \\frac{1+i}{2}|0\\rangle + \\frac{1-i}{2}|1\\rangle$\n",
    "\n",
    "- $|q5\\rangle = \\frac{2\\sqrt{2}}{5}|0\\rangle + \\frac{1-4i}{5}|1\\rangle$\n",
    "\n"
   ]
  },
  {
   "cell_type": "code",
   "execution_count": null,
   "id": "6cb1d804",
   "metadata": {},
   "outputs": [],
   "source": [
    "##################\n",
    "# YOUR CODE HERE #\n",
    "ket_0  \n",
    "ket_1 \n",
    "\n",
    "def check_statevector(q):\n",
    "    return #True or False\n",
    "\n",
    "q0 =\n",
    "q1 =\n",
    "q2 =\n",
    "q3 =\n",
    "\n",
    "\n",
    "## print the statevector and is a valid or not\n",
    "\n",
    "##################"
   ]
  },
  {
   "cell_type": "markdown",
   "id": "db5cd185",
   "metadata": {},
   "source": [
    "## Multiple Qubits\n",
    "\n",
    "The qubit is described in terms of the $| 0\\rangle$ and $|1\\rangle$ states, as there are more qubits, they are compacted into a single ket ($| \\rangle$). This is possible if we apply the *[tensor product](https://en.wikipedia.org/wiki/Tensor_product)* ($\\otimes$)\n",
    "\n",
    "Generate the following qubits and check if are statevectors.\n",
    "\n",
    "- $|ψ〉= \\frac{i}{\\sqrt{6}} |00〉+ \\frac{1}{\\sqrt{6}} |01〉− \\frac{i}{\\sqrt{3}}|01〉+ \\frac{1}{\\sqrt{3}} |01〉$\n",
    "- $|φ〉= \\frac{i}{\\sqrt{3}} |00〉- \\frac{i}{\\sqrt{3}} |01〉+ \\frac{1}{\\sqrt{3}} |01〉$\n",
    "- $|σ〉= \\frac{1}{\\sqrt{8}} |000〉− \\frac{i}{\\sqrt{2}} |101〉−i\\frac{3}{\\sqrt{8}} |111\\rangle$\n"
   ]
  },
  {
   "cell_type": "code",
   "execution_count": null,
   "id": "b4a6dc8e",
   "metadata": {},
   "outputs": [],
   "source": [
    "##################\n",
    "# YOUR CODE HERE #\n",
    "ket_0  \n",
    "ket_1 \n",
    "\n",
    "def tensor_product(q0,q1):\n",
    "    return #True or False\n",
    "\n",
    "psi =\n",
    "phi =\n",
    "sigma =\n",
    "\n",
    "## print the statevector and is a valid or not\n",
    "##################"
   ]
  },
  {
   "cell_type": "markdown",
   "id": "b923d5b6",
   "metadata": {},
   "source": [
    "## Quantum gates\n",
    "\n",
    "Quantum gates are described by unitary matrices (U), which are unitary if and only if their inverse is equal to their conjugate transpose, i.e. $U^{-1} = U^†$ . If this holds, then it follows that:\n",
    "- $U^†$ and $U^{-1}$ are unitary,\n",
    "- $U^{-1}$ = $U^{†}$ ,\n",
    "- $U^†U = 1$,\n",
    "- $|det(U)|= 1$,\n",
    "- the rows of U form a set of orthonormal vectors,\n",
    "Moreover, it is guaranteed that the operation can be undone, i.e., that they are logically reversible.\n",
    "\n",
    "\n",
    "Design the Pauli gates and Hadamard  in numpy and apply all in the states $|0\\rangle, |1\\rangle $\n",
    "\n",
    "Pauli gates:\n",
    "\n",
    "$\\mathrm{X}=\\left[\\begin{array}{cc}{0} & {1} \\\\ {1} & {0}\\end{array}\\right]$\n",
    "\n",
    "$\\mathrm{Y}=\\left[\\begin{array}{cc}{0} & {-i} \\\\ {i} & {0}\\end{array}\\right]$\n",
    "\n",
    "$\\mathrm{Z}=\\left[\\begin{array}{cc}{1} & {0} \\\\ {0} & {-1}\\end{array}\\right]$\n",
    "\n",
    "Hadamard gate:\n",
    "\n",
    "$\\mathrm{H}=\\frac{1}{\\sqrt{2}}\\left[\\begin{array}{cc}{1} & {1} \\\\ {1} & {-1}\\end{array}\\right]$\n"
   ]
  },
  {
   "cell_type": "code",
   "execution_count": null,
   "id": "048aeb4a",
   "metadata": {},
   "outputs": [],
   "source": [
    "##################\n",
    "# YOUR CODE HERE #\n",
    "ket_0  \n",
    "ket_1 \n",
    "\n",
    "\n",
    "pauli_x =\n",
    "pauli_y =\n",
    "pauli_z =\n",
    "hadamard = \n",
    "\n",
    "## APPLY  pauli_x to ket_0 and ket_1  and print the statevector output##\n",
    "\n",
    "\n",
    "## APPLY  pauli_y to ket_0 and ket_1  and print the statevector output##\n",
    "\n",
    "\n",
    "## APPLY  pauli_z to ket_0 and ket_1  and print the statevector output##\n",
    "\n",
    "## APPLY  hadamard to ket_0 and ket_1  and print the statevector output##\n",
    "\n",
    "\n",
    "##################"
   ]
  },
  {
   "cell_type": "markdown",
   "id": "5d589d26-8f7a-4c68-b6dc-d0f1d305ab60",
   "metadata": {},
   "source": [
    "## Entanglement\n",
    "\n",
    "A state in the Hilbert space $ H $ is entangled or non-separable if it cannot be written as a tensor product of the state $ | \\alpha>_{1} $ that belongs to $ H_{1} $ and the state $ | \\beta> 2 $ belonging to $ H 2 $. In contrast, if we can write \n",
    "\n",
    "$$|\\psi> = |\\alpha>_{1} \\otimes |\\beta>_{2} $$\n",
    "\n",
    "the state $|\\psi>$ is separable."
   ]
  },
  {
   "cell_type": "markdown",
   "id": "f74116b2-29e8-44cd-88a6-25fd833be948",
   "metadata": {},
   "source": [
    "For example, the satate $|\\psi_{1}>$ is entangled:\n",
    "\n",
    "$$|\\psi_{1}> = \\frac{1}{\\sqrt{2}}(|00> + |11> )$$\n",
    "\n",
    "The state $|\\psi_{2}>$ is separable (non-entangled):\n",
    "\n",
    "$$|\\psi_{2}> =  \\frac{1}{\\sqrt{2}}(|01> + |11> ) = \\frac{1}{\\sqrt{2}}(|0> + |1> ) \\otimes |1>  $$"
   ]
  },
  {
   "attachments": {
    "bellpair_circuit.png": {
     "image/png": "[encoded data removed]"
    }
   },
   "cell_type": "markdown",
   "id": "e578afa1-bfcb-4196-bd48-e9c856e672bd",
   "metadata": {},
   "source": [
    "![bellpair_circuit.png](attachment:bellpair_circuit.png)"
   ]
  },
  {
   "cell_type": "markdown",
   "id": "0d72dc42-f39a-4fbb-bbba-d366b5103090",
   "metadata": {},
   "source": [
    "The effects of the hadamard gate $H$ (a $2 \\times 2$ matrix) over the vectors $|0>$ and $|1>$ are:\n",
    "\n",
    "$$H|0> = \\frac{1}{\\sqrt{2}} \\Big(|0> + |1> \\Big) \\quad  H|1> = \\frac{1}{\\sqrt{2}} \\Big(|0> - |1> \\Big)  $$\n",
    "\n",
    "And with the CNOT gate (a $4 \\times 4$ matrix):\n",
    "\n",
    "$$U_{f} | 0 0 > =  CNOT | 0 0 > = | 0 0 >  $$\n",
    "\n",
    "$$U_{f} | 0 1 > =  CNOT | 0 1> = | 0 1 >  $$\n",
    "\n",
    "$$U_{f} | 1 0 > =  CNOT |  1 0 > = | 1 1 >  $$\n",
    "\n",
    "$$U_{f} | 1 1 > =  CNOT | 1 1 > = | 1 0 >  $$\n",
    "\n",
    "With this information build the matrix representation of the hadamard and CNOT gate:"
   ]
  },
  {
   "cell_type": "code",
   "execution_count": null,
   "id": "57663d53-4c88-4919-be91-248f6b34eb84",
   "metadata": {},
   "outputs": [],
   "source": [
    "##################\n",
    "# YOUR CODE HERE #\n",
    "Hadamard = \n",
    "Cnot = \n",
    "##################"
   ]
  },
  {
   "cell_type": "markdown",
   "id": "bf56a890-8c2c-4dd5-b9e1-7b7efd86bc57",
   "metadata": {},
   "source": [
    "## Build the circuit"
   ]
  },
  {
   "cell_type": "markdown",
   "id": "cc28e41a-cbfb-456d-be6a-76dd9fa2e775",
   "metadata": {},
   "source": [
    "The hadamard gate is apply in the qubit $|0>_{0}$\n",
    "\n",
    "$$|\\Psi_{1}> = (H \\otimes I) |\\Psi_{0}> =  H|0>_{0}I|0>_{1} = \\Big[\\frac{1}{\\sqrt{2}} \\Big(|0>_{0} +  |1>_{0} \\Big) \\Big] |0>_{1}  = \\frac{1}{\\sqrt{2}} \\Big(|0>_{0}|0>_{1} +  |1>_{0}|0>_{1} \\Big) $$ \n",
    "\n",
    "Write this transformation with the states and gates that you have define:"
   ]
  },
  {
   "cell_type": "code",
   "execution_count": null,
   "id": "f9c1bba1-8736-4249-9112-f5286c3e62f4",
   "metadata": {},
   "outputs": [],
   "source": [
    "##################\n",
    "# YOUR CODE HERE #\n",
    "state_one = \n",
    "##################"
   ]
  },
  {
   "cell_type": "markdown",
   "id": "0c2df413-981f-4f1b-a1ad-e52a2c245298",
   "metadata": {},
   "source": [
    "The CNOT gate is apply to the state $|\\Psi_{1}>$\n",
    "\n",
    "$$|\\Psi_{2}> = CNOT_{01}|\\Psi_{1}> =  \\frac{1}{\\sqrt{2}} \\Big(CNOT_{01}|0>_{0}|0>_{1} +  CNOT_{01}|1>_{0}|0>_{1} \\Big) = \\frac{1}{\\sqrt{2}} \\Big(|0>_{0}|0>_{1} + |1>_{0}|1>_{1} \\Big)  $$ \n",
    "\n",
    "The result is a entangled state. One of the four bell states.\n",
    "\n",
    "Write this transformation with the states and gates that you have define:"
   ]
  },
  {
   "cell_type": "code",
   "execution_count": null,
   "id": "fbadd97c-2c3c-4931-ab5d-825b03f9dcf9",
   "metadata": {},
   "outputs": [],
   "source": [
    "##################\n",
    "# YOUR CODE HERE #\n",
    "state_two = \n",
    "##################"
   ]
  },
  {
   "cell_type": "markdown",
   "id": "eff6ce1a-c333-48a7-bcb1-385e0a20767a",
   "metadata": {},
   "source": [
    "## Bell states"
   ]
  },
  {
   "cell_type": "markdown",
   "id": "be61f94a-a7be-4616-af15-85c632e8a15b",
   "metadata": {},
   "source": [
    "The following four vectors make up a particular Ortonormal Basis in the space $H^{AB} = H_{2}^{A} \\otimes H_{2}^{B}$ of a 2-qubit vectors\n",
    "\n",
    "\n",
    "$$|\\Phi^{+} > =  \\frac{1}{\\sqrt{2}} \\Big( | 00 > + |11 > \\Big) $$\n",
    "\n",
    "$$|\\Phi^{-} > =  \\frac{1}{\\sqrt{2}} \\Big( | 00 > - |11 > \\Big) $$\n",
    "\n",
    "$$|\\Psi^{+} > =  \\frac{1}{\\sqrt{2}} \\Big( | 01 > + |10 > \\Big) $$\n",
    "\n",
    "$$|\\Psi^{-} > =  \\frac{1}{\\sqrt{2}} \\Big( | 01 > - |10 > \\Big) $$\n",
    "\n",
    "This basis plays a crucial role in many investigations. These frequently used Bell states are maximally entangled. "
   ]
  },
  {
   "cell_type": "markdown",
   "id": "098d0549-7e0d-4832-a497-c156c2e0b281",
   "metadata": {},
   "source": [
    "Modify the circuit used in part III to create all the bell states"
   ]
  },
  {
   "cell_type": "code",
   "execution_count": null,
   "id": "f93076a2-5c31-49e8-ad46-6e62b42ba9d4",
   "metadata": {},
   "outputs": [],
   "source": [
    "##################\n",
    "# YOUR CODE HERE #\n",
    "##################"
   ]
  },
  {
   "cell_type": "markdown",
   "id": "75340e85-1042-4bd3-9519-eb3fd1ec172e",
   "metadata": {},
   "source": [
    "With the gates and states that you have define build a quantum circuit that converts pairs of Bell states into pairs of Bell states."
   ]
  },
  {
   "cell_type": "code",
   "execution_count": null,
   "id": "ff4485e9-fdfa-4a97-be88-bc740f7a3c24",
   "metadata": {},
   "outputs": [],
   "source": [
    "##################\n",
    "# YOUR CODE HERE #\n",
    "##################"
   ]
  },
  {
   "cell_type": "markdown",
   "id": "d96871c4-5d1a-4600-8f1f-e6134d01551b",
   "metadata": {},
   "source": [
    "## Bell measurement "
   ]
  },
  {
   "cell_type": "markdown",
   "id": "eb39d097-1457-4a85-a897-7dae9e17646d",
   "metadata": {},
   "source": [
    "Build a circuit that perfoms a measurment in the basis of the Bell states. More information *[here]( https://en.wikipedia.org/wiki/Bell_state#Bell_state_measurement)*"
   ]
  },
  {
   "cell_type": "code",
   "execution_count": null,
   "id": "71275c26-a121-4b98-97cc-0c31409f3272",
   "metadata": {},
   "outputs": [],
   "source": [
    "##################\n",
    "# YOUR CODE HERE #\n",
    "##################"
   ]
  },
  {
   "cell_type": "markdown",
   "id": "a7cba62a-3d02-400a-bc53-273db6474c67",
   "metadata": {},
   "source": [
    "##  Entanglement swapping"
   ]
  },
  {
   "cell_type": "markdown",
   "id": "b598f975-bc00-48f1-addf-2012d85d008e",
   "metadata": {},
   "source": [
    "Entanglement swapping allows entangling two quantum systems that have never interacted before. Due to the protocol’s close relation to quantum teleportation, it is often referred to as teleportation of entanglement.\n",
    "\n",
    "For entanglement swapping, Alice prepares an entangled pair, for the state $|\\Phi^{+}>_{AC_{1}}$ and sends the $C_{1}$ member of the pair to Charlie. Bob also prepares an entangled state, for $|\\Phi^{+}>_{BC_{2}}$ and sends the $C_{2}$ member of the pair to Charlie. Once Charlie receives both members, one from Alice and one from Bob, he performs a Bell State Measurement on them. If the Measurement is successful, entanglement is swapped to particles $A$ and $B$, which are with Alice and Bob, respectively.\n",
    "\n",
    "**For this task you will need to read the first chapters of this** *[thesis](https://www.iqst.ca/media/pdf/publications/ucalgary_2017_valivarthi_venkataramanaraju.pdf)*\n",
    "\n",
    "With the gates and states that you have define build a circuit for Entanglement swapping"
   ]
  },
  {
   "cell_type": "code",
   "execution_count": null,
   "id": "52aeb816-9f7c-4a8b-86c0-f7541a452f1e",
   "metadata": {},
   "outputs": [],
   "source": [
    "##################\n",
    "# YOUR CODE HERE #\n",
    "##################"
   ]
  },
  {
   "cell_type": "markdown",
   "id": "7a2ad172-fe3b-4403-85fb-60b385055853",
   "metadata": {},
   "source": [
    "# Part 2: Decomposition of unitary matrices\n",
    "For this section, two basic gates are considered, the Ugate and the CNOT gate,\n",
    "\n",
    "$U = \\left(\\begin{array}{cc}\n",
    "\\cos \\left(\\frac{\\theta}{2}\\right) & -e^{i \\lambda} \\sin \\left(\\frac{\\theta}{2}\\right) \\\\\n",
    "e^{i \\phi} \\sin \\left(\\frac{\\theta}{2}\\right) & e^{i(\\phi+\\lambda)} \\cos \\left(\\frac{\\theta}{2}\\right)\n",
    "\\end{array}\\right)$\n",
    "\n",
    "\n",
    "$CNOT = \\left[\\begin{array}{cccc}\n",
    "{1} & {0} & {0} & {0} \\\\\n",
    "{0} & {1} & {0} & {0} \\\\\n",
    "{0} & {0} & {0} & {1} \\\\\n",
    "{0} & {0} & {1} & {0}\n",
    "\\end{array}\\right]$\n",
    "\n",
    "from these generate the following gates: \n",
    "- X,\n",
    "- Y,\n",
    "- Z,\n",
    "- H,\n",
    "- Rx,\n",
    "- Ry,\n",
    "- RZ,\n",
    "- Cz,\n",
    "- Swap,\n",
    "- CSwap,\n",
    "- Toffoli.\n",
    "\n"
   ]
  },
  {
   "cell_type": "code",
   "execution_count": null,
   "id": "7a165d3b-b6b5-4b85-831c-f482f0a62963",
   "metadata": {},
   "outputs": [],
   "source": [
    "##################\n",
    "# YOUR CODE HERE #\n",
    "##################"
   ]
  },
  {
   "attachments": {
    "zero_img.png": {
     "image/png": "[encoded data removed]"
    }
   },
   "cell_type": "markdown",
   "id": "d1581ba5",
   "metadata": {},
   "source": [
    "# Part 3: decomposition of statevectors\n",
    "\n",
    "To encode information of our interest in a quantum computer it is important to process them so that they can be understood by a quantum computer, an example of this is in Quantum Machine Learning that has amplitude encoding, this is to pass the information from an instance to a state vector, for this point we consider the following two images that will be encoded in an input vector.\n",
    "\n",
    "\n",
    "(a) Image of a zero in size $8x8$\n",
    "\n",
    "![zero_img.png](attachment:zero_img.png)\n",
    "\n",
    "\n",
    "\n",
    "\n",
    "\n",
    "\n",
    "\n",
    "\n"
   ]
  },
  {
   "attachments": {
    "lenna_4x4.png": {
     "image/png": "[encoded data removed]"
    }
   },
   "cell_type": "markdown",
   "id": "4b06868c",
   "metadata": {},
   "source": [
    "(b) Image of Lenna in size $4x4$ in grayscale\n",
    "\n",
    "![lenna_4x4.png](attachment:lenna_4x4.png)\n",
    "\n",
    "\n",
    "<div class=\"alert alert-block alert-success\"><b> The steps to follow are:</b> <li> Change from a matrix to a vector\n",
    "<li> The vector must be a state vector for which eq(2.1) must be satisfied.\n",
    "<li> Generate a quantum circuit from the gates performed in step 2 which represents the state vector of the two images at its output.\n",
    "  </div> "
   ]
  },
  {
   "cell_type": "code",
   "execution_count": 4,
   "id": "cf159fcc",
   "metadata": {},
   "outputs": [],
   "source": [
    "img_zero_8x8 = ([[[0.        ],\n",
    "        [0.        ],\n",
    "        [0.        ],\n",
    "        [0.        ],\n",
    "        [0.        ],\n",
    "        [0.        ],\n",
    "        [0.        ],\n",
    "        [0.        ]],\n",
    "\n",
    "       [[0.        ],\n",
    "        [0.        ],\n",
    "        [0.        ],\n",
    "        [0.        ],\n",
    "        [0.93333333],\n",
    "        [0.92941176],\n",
    "        [0.        ],\n",
    "        [0.        ]],\n",
    "\n",
    "       [[0.        ],\n",
    "        [0.        ],\n",
    "        [0.        ],\n",
    "        [0.98823529],\n",
    "        [0.99215686],\n",
    "        [0.74117647],\n",
    "        [0.        ],\n",
    "        [0.        ]],\n",
    "\n",
    "       [[0.        ],\n",
    "        [0.        ],\n",
    "        [0.69803922],\n",
    "        [0.0745098 ],\n",
    "        [0.        ],\n",
    "        [0.        ],\n",
    "        [0.76470588],\n",
    "        [0.        ]],\n",
    "\n",
    "       [[0.        ],\n",
    "        [0.        ],\n",
    "        [0.98823529],\n",
    "        [0.        ],\n",
    "        [0.        ],\n",
    "        [0.        ],\n",
    "        [0.58039216],\n",
    "        [0.        ]],\n",
    "\n",
    "       [[0.        ],\n",
    "        [0.        ],\n",
    "        [0.88235294],\n",
    "        [0.        ],\n",
    "        [0.44705882],\n",
    "        [0.        ],\n",
    "        [0.        ],\n",
    "        [0.        ]],\n",
    "\n",
    "       [[0.        ],\n",
    "        [0.        ],\n",
    "        [0.98823529],\n",
    "        [0.98823529],\n",
    "        [0.        ],\n",
    "        [0.        ],\n",
    "        [0.        ],\n",
    "        [0.        ]],\n",
    "\n",
    "       [[0.        ],\n",
    "        [0.        ],\n",
    "        [0.        ],\n",
    "        [0.        ],\n",
    "        [0.        ],\n",
    "        [0.        ],\n",
    "        [0.        ],\n",
    "        [0.        ]]])"
   ]
  },
  {
   "cell_type": "code",
   "execution_count": null,
   "id": "7b555b36",
   "metadata": {},
   "outputs": [],
   "source": [
    "#Realize a quantum circuit that represents the image of size 8x8\n",
    "\n",
    "\n",
    "##################\n",
    "# YOUR CODE HERE #\n",
    "##################"
   ]
  },
  {
   "cell_type": "code",
   "execution_count": null,
   "id": "05a825a9",
   "metadata": {},
   "outputs": [],
   "source": [
    "img_lenna_4x4 = [[123 137 144 114]\n",
    " [118 118 160 128]\n",
    " [108  94 116 160]\n",
    " [ 98  87 152 121]]"
   ]
  },
  {
   "cell_type": "code",
   "execution_count": null,
   "id": "d95789c4",
   "metadata": {},
   "outputs": [],
   "source": [
    "#Realize a quantum circuit that represents the  image of size 4x4\n",
    "\n",
    "\n",
    "##################\n",
    "# YOUR CODE HERE #\n",
    "##################"
   ]
  },
  {
   "cell_type": "markdown",
   "id": "3d56cbc7",
   "metadata": {},
   "source": [
    "# References\n",
    "\n",
    "[1] Krol, Anneriet & Sarkar, Aritra & Ashraf, Imran & Al-Ars, Z. & Bertels, Koen. (2021). Efficient decomposition of unitary matrices in quantum circuit compilers. "
   ]
  }
 ],
 "metadata": {
  "kernelspec": {
   "display_name": "Python 3",
   "language": "python",
   "name": "python3"
  },
  "language_info": {
   "codemirror_mode": {
    "name": "ipython",
    "version": 3
   },
   "file_extension": ".py",
   "mimetype": "text/x-python",
   "name": "python",
   "nbconvert_exporter": "python",
   "pygments_lexer": "ipython3",
   "version": "3.8.8"
  }
 },
 "nbformat": 4,
 "nbformat_minor": 5
}
