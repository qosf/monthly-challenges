{
 "cells": [
  {
   "cell_type": "markdown",
   "metadata": {},
   "source": [
    "## Challenge 03: Minimum Makespan with Quantum Annealing\n",
    "\n",
    "### Introduction\n",
    "\n",
    "The core of this challenge is about translating a real-world problem into a mathematical representation that fits a quantum computer. In this challenge we encourage you to use two representations which even though equivalent, are used in different contexts. \n",
    "\n",
    "The first is Quadratic Unconstrained Binary Optimization (QUBO) which is used primarily for the quantum annealers (D-Wave) and the other is Ising Hamiltonian, which is often used with an algorithm called Quantum Approximate Optimization Algorithm (QAOA).\n",
    "\n",
    "This challenge might require spending some time going through the references (especially 1-3), as we are not aware of any \"quick introductions\" worth mentioning. If you have a hard time understanding something, feel free to reach out for help on [QOSF Slack](https://join.slack.com/t/qosf/shared_invite/zt-bw59w8b9-WJ~k0~FAMHukTZov4AnLfA).\n",
    "\n",
    "Unless you have a prior background with these kinds of problems, we encourage you to start from QUBO and then perhaps trying Ising Hamiltonians as well, as there are more materials about it.\n",
    "\n",
    "It is also worth mentioning that D-Wave allows you to use their machines for free for a limited amount of time, so you can try running your QUBO on a real machine after signing up [here](https://cloud.dwavesys.com/leap/signup/).\n",
    "\n",
    "### Problem\n",
    "\n",
    "Niranjan owns a catering service and receives orders one day in advance. Each of the chefs he employs is paid by the hour. In order to optimize the cost of running his business, every night, he looks at all of the dishes he needs to deliver for the next day and asks his employees to work the specific hours he requires them for.\n",
    "\n",
    "Given an order queue ($Q$) of length $N$ with each order $i$ taking $L_i$ time to prepare, if there are $m$ chefs, design a QUBO/Ising Hamiltonian to help Niranjan find the shortest time ($T$) it would take for the $m$ chefs to prepare all $N$ dishes. Assume each chef can only work on one dish at a time and each dish is worked on by only one chef. We can also safely assume that at any given point, all chefs can be actively working on a dish. \n",
    "\n",
    "Since Niranjan wants to ensure that he can run his algorithms on the near term devices, keep track and try to minimize the number of:\n",
    "1. Gates & Qubits (for Ising Hamiltonian)\n",
    "2. Variables (for QUBO. For embedding on a real machine also keep track of the lenghts of chains)\n",
    "\n",
    "**Optional:** \n",
    "For the advanced reader, you can also attempt to build the Cost Hamiltonian or Mixer Hamiltonian as described in [7,8].\n",
    "\n",
    "### Examples\n",
    "\n",
    "#### Case #1: \n",
    "\n",
    "*If,*\n",
    "\n",
    "$N = 5$\n",
    "\n",
    "$m = 1$\n",
    "\n",
    "Order Queue = {2, 3, 7, 2, 1}\n",
    "\n",
    "*then,*\n",
    "\n",
    "$T = 15$\n",
    "\n",
    "*since* there is only one chef, the shortest time it would take to complete all the orders is simply the sum of the times it would take for each individual order.\n",
    "\n",
    "#### Case #2:\n",
    "\n",
    "*If,*\n",
    "\n",
    "$N = 5$\n",
    "\n",
    "$m = 2$\n",
    "\n",
    "Order Queue = {2, 3, 7, 2, 1}\n",
    "\n",
    "*then,*\n",
    "\n",
    "$T = 8$\n",
    "\n",
    "*since* there are two chefs $m_1$ and $m_2$, the distribution that yields the shortest time is:\n",
    "\n",
    "$m_1 = \\{2, 3, 2\\}  $\n",
    "\n",
    "$m_2 = \\{ 7, 1 \\} $\n",
    "\n",
    "\n",
    "#### Case #3:\n",
    "\n",
    "*If,*\n",
    "\n",
    "$N = 5$\n",
    "\n",
    "$m = 3$\n",
    "\n",
    "Order Queue = {2, 3, 2, 2, 1}\n",
    "\n",
    "*then,*\n",
    "\n",
    "$T = 4$\n",
    "\n",
    "*since* there are three chefs $m_1$, $m_2$ and $m_3$, the distribution that yields the shortest time is:\n",
    "\n",
    "$m_1 = \\{3 \\} $\n",
    "\n",
    "$m_2 = \\{2,2 \\} $ \n",
    "\n",
    "$m_3 = \\{2,1 \\} $ \n",
    "\n",
    "Note that there could be another possible distribution of tasks, but the shortest time does not change:\n",
    "\n",
    "$m_1 = \\{3,1 \\} $ \n",
    "\n",
    "$m_2 = \\{2,2 \\} $ \n",
    "\n",
    "$m_3 = \\{2 \\} $"
   ]
  },
  {
   "cell_type": "markdown",
   "metadata": {},
   "source": [
    "## My Solution"
   ]
  },
  {
   "cell_type": "markdown",
   "metadata": {},
   "source": [
    "By: [Shiro-Raven](https://github.com/Shiro-Raven)"
   ]
  },
  {
   "cell_type": "markdown",
   "metadata": {},
   "source": [
    "### Preliminaries\n",
    "While going through the literature, I came across the [number partitioning problem](https://en.wikipedia.org/wiki/Partition_problem), which aims at dividing a set, $S = \\{s_1, s_2, s_3, \\cdots, s_m \\}$, of numbers into two sets such that the difference between the summation of the numbers of both sets is minimised. In a QUBO context, this translates to having a binary variable, $x_j$, which is equal to one if $s_j$ belongs to subset 1, and 0 otherwise. We then have the following function minimise:\n",
    "$$\n",
    "diff^2 = \\left(\\sum_{j = 1}^{m} s_j - 2\\sum_{j = 1}^{m} s_j x_j\\right)^2\n",
    "$$\n",
    "\n",
    "A general form of this problem, the [multiway number partitioning problem](https://en.wikipedia.org/wiki/Multiway_number_partitioning), attempts to divide the set into $n > 2$ subsets, such that the pairwise difference between the subsets is minimised. We therefore use a binary variable, $x_{ij}$, if $s_i$ belongs to subset $j$. Thus, the function to minimse becomes:\n",
    "$$\n",
    "sum_j = \\sum_{i = 1}^{n} s_{i}x_{ij}\n",
    "$$\n",
    "\n",
    "$$\n",
    "global\\_diff = (sum_1 - sum_2)^2 + (sum_1 - sum_3)^2 + \\cdots + (sum_{m - 1} - sum_m)^2\n",
    "$$\n",
    "\n",
    "This function needs to be constrained so that no number is assigned to more than one subset, so we have the following constraints:\n",
    "$$\n",
    "\\sum_{j = 1}^{n} x_{ij} = 1 \\;\\;\\;\\; \\forall i = 1, \\cdots, m\n",
    "$$\n",
    "\n",
    "More on the QUBO formulations of these problems can be found [here](http://leeds-faculty.colorado.edu/glover/fred%20pubs/346%20-%20xQx%20-%20Number%20Partitioning%202005.pdf).\n",
    "\n",
    "### The Approach\n",
    "The multiway number partitioning and our problem are very similar, by perceiving the subsets as our chefs, and the set of the numbers as our orders. We, however, do not require that the pairwise difference between the sets is minimised. It is sufficient that the pairwise difference between $n - 1$ sets and some predefined set $k$ is minimised. Our solution, $T$, would then be, $sum_k$. This greatly simplifies our QUBO formulation.\n",
    "\n",
    "Based on this theoritical claim, I used the ```docplex``` package from ```Qiskit``` to generate the QUBO model of the input. I then used the native ```QuadraticProgram```class to transorm this model to a QAOA-compatible form. "
   ]
  },
  {
   "cell_type": "code",
   "execution_count": 1,
   "metadata": {},
   "outputs": [],
   "source": [
    "%matplotlib inline\n",
    "from qiskit.optimization.applications.ising import docplex\n",
    "from qiskit.aqua.algorithms import NumPyMinimumEigensolver\n",
    "from qiskit.optimization.algorithms import MinimumEigenOptimizer, RecursiveMinimumEigenOptimizer\n",
    "from qiskit.optimization import QuadraticProgram\n",
    "from qiskit.aqua import QuantumInstance\n",
    "\n",
    "from qiskit import BasicAer\n",
    "from qiskit.aqua.algorithms import QAOA\n",
    "\n",
    "import numpy as np"
   ]
  },
  {
   "cell_type": "markdown",
   "metadata": {},
   "source": [
    "This function takes the inputs and generates the mathematical model as detailed in the reference above."
   ]
  },
  {
   "cell_type": "code",
   "execution_count": 2,
   "metadata": {},
   "outputs": [],
   "source": [
    "def generate_qubo(orders_list, nchefs):\n",
    "    N = len(orders_list)\n",
    "    C = nchefs\n",
    "    \n",
    "    # Create the quadratic model instance\n",
    "    model = docplex.Model(name='num_part')\n",
    "    \n",
    "    # Create the required variables\n",
    "    # For a problem with N orders and M chefs, we need N*M variables\n",
    "    x = {(i,j): model.binary_var(name='x_{0}_{1}'.format(i,j)) for i in range(N)\n",
    "               for j in range(C)}\n",
    "\n",
    "    sums = [0] * C\n",
    "    constraints = [0] * N\n",
    "    for j in range(C):\n",
    "        for i in range(N):\n",
    "            sums[j] += orders_list[i] * x[i, j]\n",
    "            constraints[i] += x[i, j]\n",
    "\n",
    "    # Object function\n",
    "    sum_func = model.sum((sums[0] - sums[j])*(sums[0] - sums[j]) for j in range(C))\n",
    "    \n",
    "    for i in range(N):\n",
    "        model.add_constraint(constraints[i] == 1)\n",
    "        \n",
    "    model.minimize(sum_func)\n",
    "        \n",
    "    qubo = QuadraticProgram()\n",
    "    qubo.from_docplex(model)\n",
    "\n",
    "    return qubo"
   ]
  },
  {
   "cell_type": "markdown",
   "metadata": {},
   "source": [
    "This function takes the problem instances and solves it"
   ]
  },
  {
   "cell_type": "code",
   "execution_count": 3,
   "metadata": {},
   "outputs": [],
   "source": [
    "def solve(solver, qubo):\n",
    "    return solver.solve(qubo)"
   ]
  },
  {
   "cell_type": "markdown",
   "metadata": {},
   "source": [
    "This function analyses the output of the algorithms and prints a human-friendly output"
   ]
  },
  {
   "cell_type": "code",
   "execution_count": 4,
   "metadata": {},
   "outputs": [],
   "source": [
    "def analyse_solution(sol_masks, orders_list, nchefs):\n",
    "    masks = sol_masks.reshape(-1, nchefs)\n",
    "    \n",
    "    orders_list = np.array(orders_list)\n",
    "    \n",
    "    sums = orders_list @ masks\n",
    "    \n",
    "    values = (orders_list[:, np.newaxis] * masks).T\n",
    "    \n",
    "    for i in range(nchefs):\n",
    "        orders = np.nonzero(values[i])[0]\n",
    "        \n",
    "        print('Chef {} did orders {}, with total duration {}'.format(i, orders, sums[i]))\n",
    "        \n",
    "    print('T = {}'.format(np.max(sums)))"
   ]
  },
  {
   "cell_type": "markdown",
   "metadata": {},
   "source": [
    "We then initialise the instances of the optimisers"
   ]
  },
  {
   "cell_type": "code",
   "execution_count": 5,
   "metadata": {},
   "outputs": [],
   "source": [
    "quantum_instance = QuantumInstance(BasicAer.get_backend('qasm_simulator'), shots=2000)\n",
    "qaoa_mes = QAOA(quantum_instance=quantum_instance)\n",
    "exact_mes = NumPyMinimumEigensolver()\n",
    "\n",
    "qaoa = MinimumEigenOptimizer(qaoa_mes)   # using QAOA\n",
    "exact = MinimumEigenOptimizer(exact_mes)  # using the exact classical numpy minimum eigen solver"
   ]
  },
  {
   "cell_type": "markdown",
   "metadata": {},
   "source": [
    "### Testing"
   ]
  },
  {
   "cell_type": "markdown",
   "metadata": {},
   "source": [
    "#### Case #1"
   ]
  },
  {
   "cell_type": "code",
   "execution_count": 6,
   "metadata": {},
   "outputs": [],
   "source": [
    "s = [2, 3, 7, 2, 1]\n",
    "C = 1\n",
    "\n",
    "qubo_model = generate_qubo(s, C)"
   ]
  },
  {
   "cell_type": "code",
   "execution_count": 7,
   "metadata": {},
   "outputs": [
    {
     "name": "stdout",
     "output_type": "stream",
     "text": [
      "Chef 0 did orders [0 1 2 3 4], with total duration 15.0\n",
      "T = 15.0\n"
     ]
    }
   ],
   "source": [
    "# Classical \n",
    "sol = solve(exact, qubo_model)\n",
    "\n",
    "analyse_solution(sol.x, s, C)"
   ]
  },
  {
   "cell_type": "code",
   "execution_count": 8,
   "metadata": {},
   "outputs": [
    {
     "name": "stdout",
     "output_type": "stream",
     "text": [
      "Chef 0 did orders [0 1 2 3 4], with total duration 15.0\n",
      "T = 15.0\n"
     ]
    }
   ],
   "source": [
    "# Quantum\n",
    "sol = solve(qaoa, qubo_model)\n",
    "\n",
    "analyse_solution(sol.x, s, C)"
   ]
  },
  {
   "cell_type": "markdown",
   "metadata": {},
   "source": [
    "#### Case #2"
   ]
  },
  {
   "cell_type": "code",
   "execution_count": 9,
   "metadata": {},
   "outputs": [],
   "source": [
    "s = [2, 3, 7, 2, 1]\n",
    "C = 2\n",
    "\n",
    "qubo_model = generate_qubo(s, C)"
   ]
  },
  {
   "cell_type": "code",
   "execution_count": 10,
   "metadata": {},
   "outputs": [
    {
     "name": "stdout",
     "output_type": "stream",
     "text": [
      "Chef 0 did orders [2], with total duration 7.0\n",
      "Chef 1 did orders [0 1 3 4], with total duration 8.0\n",
      "T = 8.0\n"
     ]
    }
   ],
   "source": [
    "# Classical \n",
    "sol = solve(exact, qubo_model)\n",
    "\n",
    "analyse_solution(sol.x, s, C)"
   ]
  },
  {
   "cell_type": "code",
   "execution_count": 11,
   "metadata": {},
   "outputs": [
    {
     "name": "stdout",
     "output_type": "stream",
     "text": [
      "Chef 0 did orders [2 4], with total duration 8.0\n",
      "Chef 1 did orders [0 1 3], with total duration 7.0\n",
      "T = 8.0\n"
     ]
    }
   ],
   "source": [
    "# Quantum\n",
    "sol = solve(qaoa, qubo_model)\n",
    "\n",
    "analyse_solution(sol.x, s, C)"
   ]
  },
  {
   "cell_type": "markdown",
   "metadata": {},
   "source": [
    "#### Case #3"
   ]
  },
  {
   "cell_type": "code",
   "execution_count": 12,
   "metadata": {},
   "outputs": [],
   "source": [
    "s = [2, 3, 2, 2, 1]\n",
    "C = 3\n",
    "\n",
    "qubo_model = generate_qubo(s, C)"
   ]
  },
  {
   "cell_type": "code",
   "execution_count": 13,
   "metadata": {},
   "outputs": [
    {
     "name": "stdout",
     "output_type": "stream",
     "text": [
      "Chef 0 did orders [1], with total duration 3.0\n",
      "Chef 1 did orders [0 2], with total duration 4.0\n",
      "Chef 2 did orders [3 4], with total duration 3.0\n",
      "T = 4.0\n"
     ]
    }
   ],
   "source": [
    "# Classical \n",
    "sol = solve(exact, qubo_model)\n",
    "\n",
    "analyse_solution(sol.x, s, C)"
   ]
  },
  {
   "cell_type": "code",
   "execution_count": 14,
   "metadata": {},
   "outputs": [
    {
     "name": "stdout",
     "output_type": "stream",
     "text": [
      "Chef 0 did orders [0 3], with total duration 4.0\n",
      "Chef 1 did orders [2 4], with total duration 3.0\n",
      "Chef 2 did orders [1], with total duration 3.0\n",
      "T = 4.0\n"
     ]
    }
   ],
   "source": [
    "# Quantum\n",
    "sol = solve(qaoa, qubo_model)\n",
    "\n",
    "analyse_solution(sol.x, s, C)"
   ]
  },
  {
   "cell_type": "markdown",
   "metadata": {},
   "source": [
    "### Problems with the previous implementation"
   ]
  },
  {
   "cell_type": "markdown",
   "metadata": {},
   "source": [
    "Being a general-purpose quantum programming language, Qiskit can not solve larger instances of the problem. For example, the example below will throw an exception, since it requires 75 qubits. This is way more than what the ```qasm_simulator``` offers (only 24 qubits).\n",
    "\n",
    "D-Wave's quantum computers can be used to handle problems this large."
   ]
  },
  {
   "cell_type": "markdown",
   "metadata": {},
   "source": [
    "#### Case #4"
   ]
  },
  {
   "cell_type": "code",
   "execution_count": 15,
   "metadata": {},
   "outputs": [],
   "source": [
    "s = [15, 3, 7, 11, 7, 5, 21, 9, 13, 7, 5, 15, 23, 14, 13, 13, 27, 15, 9, 9, 17, 10, 11, 19, 8]\n",
    "C = 3"
   ]
  },
  {
   "cell_type": "markdown",
   "metadata": {},
   "source": [
    "### Resources\n",
    "\n",
    "\\[1\\] [D-Wave Problem Solving Handbook](https://docs.dwavesys.com/docs/latest/doc_handbook.html)\n",
    "\n",
    "\\[2\\] [Implementation of the Travelling Salesman Problem](https://github.com/mstechly/quantum_tsp_tutorials)\n",
    "\n",
    "\\[3\\] [Ising formulations of many NP problems](https://arxiv.org/pdf/1302.5843.pdf)\n",
    "\n",
    "\\[4\\] [D-Wave Examples](https://docs.ocean.dwavesys.com/en/stable/getting_started.html#examples)\n",
    "\n",
    "\\[5\\] [Quantum Approximate Optimization Algorithm explained](https://www.mustythoughts.com/quantum-approximate-optimization-algorithm-explained)\n",
    "\n",
    "\\[6\\] [Job Shop Scheduling Solver based on Quantum Annealing](https://arxiv.org/pdf/1506.08479.pdf)\n",
    "\n",
    "### References\n",
    "\n",
    "\\[7\\] [Quantum Algorithms for Scientific Computing and Approximate Optimization](https://arxiv.org/pdf/1805.03265.pdf)\n",
    "\n",
    "\\[8\\] [From the Quantum Approximate Optimization Algorithm to a Quantum Alternating Operator Ansatz](https://arxiv.org/pdf/1709.03489.pdf)"
   ]
  },
  {
   "cell_type": "code",
   "execution_count": null,
   "metadata": {},
   "outputs": [],
   "source": []
  }
 ],
 "metadata": {
  "kernelspec": {
   "display_name": "Python 3",
   "language": "python",
   "name": "python3"
  },
  "language_info": {
   "codemirror_mode": {
    "name": "ipython",
    "version": 3
   },
   "file_extension": ".py",
   "mimetype": "text/x-python",
   "name": "python",
   "nbconvert_exporter": "python",
   "pygments_lexer": "ipython3",
   "version": "3.8.5"
  }
 },
 "nbformat": 4,
 "nbformat_minor": 4
}
