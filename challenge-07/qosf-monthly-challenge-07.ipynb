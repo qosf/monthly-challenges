{
 "cells": [
  {
   "cell_type": "markdown",
   "metadata": {},
   "source": [
    "# Challenge 07: unityHACK!\n",
    "\n",
    "For this QOSF challenge, we're switching things up a bit. This month the [unitaryHACK](https://unitaryfund.github.io/unitaryhack/) is happening from May 14th-30th and we thought it would be fun to throw our hat in the ring! Please follow the [same instructions](https://github.com/qosf/monthly-challenges/#submission) for submitting your challenge as with any other challenge. You're welcome to do this solo or as part of a team. We work as a team and find it's great to bounce ideas off of each other to iron out the details of a challenge.\n",
    "\n",
    "### Description of the Challenge\n",
    "\n",
    "In true challenge fashion we will invite you to design a future challenge over multiple tasks. Bounties will be awarded to the best two (2) challenges with two (2) non-bounty honorable mentions. If we receive more quality submissions beyond these, then (with author permission) we may slate these for being a future challenge. Regardless, all community contributions will be attributed as such clearly in the notebook and on the landing page. The challenge design submissions will be (qualitatively) judged on:\n",
    "- Originality / novelty\n",
    "- Accessibility\n",
    "- Max task completed (see below)\n",
    "\n",
    "### The Challenge\n",
    "\n",
    "**Task 1**\n",
    "\n",
    "The goal in writing a challenge is to pick a topic that will appeal to the community -- primarily those who are wanting to improve their skills in quantum computing. That topic may be something that is drawing attention as of late (e.g. VQA), but could also be something that is well known, but without many concrete implementations, such as the [Mermin-Peres Magic Squares](../qosf-monthly-challenge-06/qosf-monthly-challenge-06.ipynb) game. So, find a topic that isn't something we've already covered in past challenges [A] and also has as many of the following attributes:\n",
    "- Can be completed in a reasonable amount of time for at least the first task (< 4 hours)\n",
    "- Doesn't require too much prior knowledge since the point is to educate through the challenge\n",
    "- Has good references that can be included in the challenge for those who get stuck\n",
    "- Has clearly stated tasks where the participant can verify correctness\n",
    "- Provides a slice through complex material in an approachable way (possibly with constraints)\n",
    "- If the solution is unknown, then is at least considered computable through direct means or through iterative methods\n",
    "\n",
    "So, your task is to pick a topic, write up the problem description with at least one example, and have at least a single task outlined.\n",
    "\n",
    "**Task 2**\n",
    "\n",
    "Our challenges each month aren't necessarily increasing in difficulty because we want each challenge to be accessible to all. However, the _tasks_ within the challenge can increase in difficulty. Ideally, the first task will be able to be completed by all and follow-on tasks may eventually progress to challenge a seasoned quantum computing professional. So, your task is to design,  well... a task progression that seems natural and intuitive! Run it by some others you know who have varying skill levels and collect feedback. Then, incorporate that feedback until you've got something polished.\n",
    "\n",
    "**Task 3**\n",
    "\n",
    "We'd be lying if we told you that we've created reference implementations of all the tasks we've released. However, if you were to do so, then that'd be quantastic! So, for this task - try and solve your own challenge! Take notes as you go through to see what might cause others to get stuck. Find references for those stuck points and incorporate those into the challenge notebook. For the purposes of this challenge and not to spoil the challenge itself - please add all of us ([@amirebrahimi](https://github.com/amirebrahimi), [@diemilio](https://github.com/diemilio), and [@Shiro_raven](https://github.com/Shiro-Raven)) to a private repo where we can inspect the work.\n",
    "\n",
    "**Task 4**  \n",
    "\n",
    "Now, this task is one we have not completed ourselves yet, but it wouldn't be a hackathon if we didn't push your limit! Implement an auto-grader that is a simple python file that is imported into the notebook and can validate that the solution is correct. Make sure not to spoil the solution with how the auto-grader has been implemented. What's great is that some auto-graders don't actually require a full implementation to validate -- just run the solution through multiple varying inputs and check against the correct output. If you completed Task 3, then this should be easy enough to generate. If you get this far please make sure to be clear about what the auto-grader is expecting from participants' code."
   ]
  },
  {
   "cell_type": "markdown",
   "metadata": {},
   "source": [
    "### References\n",
    "\n",
    "[A] [Previous Challenges](https://github.com/qosf/monthly-challenges#previous-challenges)"
   ]
  },
  {
   "cell_type": "code",
   "execution_count": null,
   "metadata": {},
   "outputs": [],
   "source": []
  }
 ],
 "metadata": {
  "kernelspec": {
   "display_name": "Python 3",
   "language": "python",
   "name": "python3"
  },
  "language_info": {
   "codemirror_mode": {
    "name": "ipython",
    "version": 3
   },
   "file_extension": ".py",
   "mimetype": "text/x-python",
   "name": "python",
   "nbconvert_exporter": "python",
   "pygments_lexer": "ipython3",
   "version": "3.9.2"
  }
 },
 "nbformat": 4,
 "nbformat_minor": 4
}
