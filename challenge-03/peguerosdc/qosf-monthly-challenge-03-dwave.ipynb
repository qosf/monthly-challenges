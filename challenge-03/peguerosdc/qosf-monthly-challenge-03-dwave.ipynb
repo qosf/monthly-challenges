{
 "cells": [
  {
   "cell_type": "markdown",
   "metadata": {},
   "source": [
    "$\\newcommand{\\ket}[1]{\\left|{#1}\\right\\rangle}$\n",
    "$\\newcommand{\\bra}[1]{\\left\\langle{#1}\\right|}$\n",
    "# Challenge 03: Minimum Makespan with Quantum Annealing\n",
    "\n",
    "## Introduction\n",
    "\n",
    "The core of this challenge is about translating a real-world problem into a mathematical representation that fits a quantum computer. In this challenge we encourage you to use two representations which even though equivalent, are used in different contexts. \n",
    "\n",
    "The first is Quadratic Unconstrained Binary Optimization (QUBO) which is used primarily for the quantum annealers (D-Wave) and the other is Ising Hamiltonian, which is often used with an algorithm called Quantum Approximate Optimization Algorithm (QAOA).\n",
    "\n",
    "This challenge might require spending some time going through the references (especially 1-3), as we are not aware of any \"quick introductions\" worth mentioning. If you have a hard time understanding something, feel free to reach out for help on [QOSF Slack](https://join.slack.com/t/qosf/shared_invite/zt-bw59w8b9-WJ~k0~FAMHukTZov4AnLfA).\n",
    "\n",
    "Unless you have a prior background with these kinds of problems, we encourage you to start from QUBO and then perhaps trying Ising Hamiltonians as well, as there are more materials about it.\n",
    "\n",
    "It is also worth mentioning that D-Wave allows you to use their machines for free for a limited amount of time, so you can try running your QUBO on a real machine after signing up [here](https://cloud.dwavesys.com/leap/signup/).\n",
    "\n",
    "## Problem\n",
    "\n",
    "Niranjan owns a catering service and receives orders one day in advance. Each of the chefs he employs is paid by the hour. In order to optimize the cost of running his business, every night, he looks at all of the dishes he needs to deliver for the next day and asks his employees to work the specific hours he requires them for.\n",
    "\n",
    "Given an order queue ($Q$) of length $N$ with each order $i$ taking $L_i$ time to prepare, if there are $m$ chefs, design a QUBO/Ising Hamiltonian to help Niranjan find the shortest time ($T$) it would take for the $m$ chefs to prepare all $N$ dishes. Assume each chef can only work on one dish at a time and each dish is worked on by only one chef. We can also safely assume that at any given point, all chefs can be actively working on a dish. \n",
    "\n",
    "Since Niranjan wants to ensure that he can run his algorithms on the near term devices, keep track and try to minimize the number of:\n",
    "1. Gates & Qubits (for Ising Hamiltonian)\n",
    "2. Variables (for QUBO. For embedding on a real machine also keep track of the lenghts of chains)\n",
    "\n",
    "**Optional:** \n",
    "For the advanced reader, you can also attempt to build the Cost Hamiltonian or Mixer Hamiltonian as described in [7,8].\n",
    "\n",
    "## Examples\n",
    "\n",
    "### Case #1: \n",
    "\n",
    "*If,* $\\quad N = 5 , \\quad m = 1, \\quad \\text{queue} = \\{2, 3, 7, 2, 1\\} \\quad$ *then,* $\\quad T=15$\n",
    "\n",
    "*since* there is only one chef, the shortest time it would take to complete all the orders is simply the sum of the times it would take for each individual order.\n",
    "\n",
    "### Case #2:\n",
    "\n",
    "*If,* $\\quad N = 5 , \\quad m = 2, \\quad \\text{queue} = \\{2, 3, 7, 2, 1\\} \\quad$ *then,* $\\quad T=8$\n",
    "\n",
    "*since* there are two chefs $m_1$ and $m_2$, the distribution that yields the shortest time is:\n",
    "\n",
    "$m_1 = \\{2, 3, 2\\}, \\qquad m_2 = \\{ 7, 1 \\} $\n",
    "\n",
    "### Case #3:\n",
    "\n",
    "*If,* $\\quad N = 5 , \\quad m = 3, \\quad \\text{queue} = \\{2, 3, 2, 2, 1\\} \\quad$ *then,* $\\quad T=4$\n",
    "\n",
    "*since* there are three chefs $m_1$, $m_2$ and $m_3$, the distribution that yields the shortest time is:\n",
    "\n",
    "$m_1 = \\{3 \\}, \\qquad m_2 = \\{2,2 \\}, \\qquad m_3 = \\{2,1 \\} $ \n",
    "\n",
    "Note that there could be another possible distribution of tasks, but the shortest time does not change:\n",
    "\n",
    "$m_1 = \\{3,1 \\} , \\qquad m_2 = \\{2,2 \\} , \\qquad m_3 = \\{2 \\} $"
   ]
  },
  {
   "cell_type": "markdown",
   "metadata": {},
   "source": [
    "## Solution by peguerosdc\n",
    "\n",
    "The third example in the previous section is what gave the hint and motivated this approach.\n",
    "\n",
    "Defining $m_i$ as the queue of dishes assigned to chef i and defining the total cost of any queue as $cost(m_i)$, we first note that when a chef is assigned with the **optimal queue** $m_{optimal}$ (that is, the queue that satisfies $cost(m_{optimal})=T$), the rest of the chefs can be assigned any combination of the remaining dishes and they are all still valid solutions as long as they fall within the constraint that $cost(m_i) \\leq T$ (because of the definition of $m_{optimal}$).\n",
    "\n",
    "In both of the solutions of the previous example, the **optimal chef** (the one that is assigned with $m_{optimal}$) is always $m_2$, but that doesn't have to be the case as all the chefs are indistinguishable, so it really doesn't matter! That means we can pick any chef as the **optimal chef** (in the following, we will pick $m_1$) and try to minimize its cost subject the constraints that make it the true **optimal chef**:\n",
    "\n",
    "1. Every dish can be prepared once and only once. This ensures that the solution found is a valid solution.\n",
    "2. The time it takes to $m_1$ to cook all his dishes is enough time for the other chefs to also cook their dishes: \n",
    "\n",
    "$$cost(m_1) = T \\geq cost(m_i) \\quad \\text{for any} \\quad i\\neq 1$$\n",
    "\n",
    "\n",
    "To encode this problem into a QUBO/Ising optimisation problem, we use unary encoding to represent the dishes $d_i$ present in a given order Q of N dishes:\n",
    "\n",
    "$$ \\ket{d_0} = \\ket{1000...0_N}$$\n",
    "\n",
    "$$ \\ket{d_1} = \\ket{0100...0_N}$$\n",
    "\n",
    "And so on. So, if the order is given by $Q=\\{2,3,2,2,1\\}$ and chef $m_1$ is preparing the first and the third dishes, his queue/state will be given by:\n",
    "\n",
    "$$ \\ket{m_1} = \\ket{10100}$$\n",
    "\n",
    "And the state $\\ket{\\Psi}$ of a system of $m$ chefs will be given by the tensor product (the $\\otimes$ symbol is omitted for the sake of readability) of $m$ of these states:\n",
    "\n",
    "$$ \\ket{\\Psi} = \\ket{m_1}\\ket{m_2}...\\ket{m_m} $$\n",
    "\n",
    "To find the most optimal solution to $\\ket{\\Psi}$, we need to build an Ising/QUBO Hamiltonian where the energy represents the cost $m_1$ (which is the quantity we want to minimize) subject to the 2 constraints mentioned above."
   ]
  },
  {
   "cell_type": "markdown",
   "metadata": {},
   "source": [
    "### Objective function and constraints\n",
    "\n",
    "The QUBO Hamiltonian is coded using D-Wave's library and it is described in terms of the binary variables $\\{ m_{ij} \\}$ which will be 1 if the qubit j of the chef i is in the state $\\ket{1}$ and 0 if it is in the state $\\ket{0}$.\n",
    "\n",
    "It is important to mention that even though this library allows us to define the algorithm already in terms of $\\{ m_{ij} \\}$, we are describing each state in the basis of the $Z$ gate (that is, $\\ket{1}$ represents a spin up state and $\\ket{0}$ a spin down state), so if we wanted to run the algorithm on a real quantum machine (please someone correct me if I am wrong) or in some other simulators (like pyquil+Grove), we need to replace the variables $m_i$ with the following operators in terms of the $Z$ gate as their eigenvalues translate to the binary description we desire:\n",
    "\n",
    "$$ m_i \\rightarrow \\hat{m_i} = \\frac{1 - \\hat{Z_i}}{2} \\quad \\text{because} \\quad \\hat{m_i}\\ket{0_i} = 0, \\quad \\hat{m_i}\\ket{1_i} = \\ket{1_i}   $$\n",
    "\n",
    "Following with the $\\{ m_i \\}$ description (again for the sake of readability), the cost of the optimal chef $m_1$ is encoded as:\n",
    "\n",
    "$$ H_0 = \\vec{Q} \\cdot \\vec{m_1} $$\n",
    "\n",
    "Where $\\vec{Q}$ is a vector of length $N$ where the entry $i$ corresponds to the cost of the dish $d_i$. Now, it is left to map the two constraints as energy penalties to ensure that the solution is going to be valid and optimal.\n",
    "\n",
    "#### Constraint 1: every dish can be prepared once and only once\n",
    "\n",
    "In terms of $\\ket{\\Psi}$, this constraint means that for any given dish j, only one $m_{ij}$ must be set for all posible values of i. This can be translated to an equality constraint with Lagrange multipliers:\n",
    "\n",
    "$$ H_1 = \\lambda_1 \\sum_i^{N} \\left( \\sum_j^m m_{ji} -1 \\right)^2 $$\n",
    "\n",
    "#### Constraint 2: chef m1 must be the optimal chef\n",
    "\n",
    "To consider this inequality constraint $cost(m_1) \\geq cost(m_i)$ in our optimization problem, we need to translate it to an equality constraint with the aid of one slack variable:\n",
    "\n",
    "$$ H_2 = \\lambda_2 \\sum_{i>1}^{m} \\left( \\vec{Q}\\cdot (\\vec{m_1} - \\vec{m_i}) - s \\right)^2 $$\n",
    "\n",
    "This slack variable is bounded by the worst case scenario in which this constraint is violated, which is given by the case where no dishes are prepared by the optimal chef and all of them are prepared by any other chef $i$, so the value of $s$ is always gonna be capped by $cost(Q)$. Remembering that the algorithm is a **binary** algorithm, we need to encode the slack variable in the $log2( max(s) )$ binary variables that will be represented by ancilla qubits.\n",
    "\n",
    "#### Hamiltonian\n",
    "\n",
    "Putting everything together, the objective function is given by $H=H_0 + H_1 + H_2$:\n",
    "\n",
    "$$ H = \\vec{Q} \\cdot \\vec{m_1} + \\lambda_1 \\sum_i^{N} \\left( \\sum_j^m m_{ji} -1 \\right)^2 + \\lambda_2 \\sum_{i>1}^{m} \\left( \\vec{Q}\\cdot (\\vec{m_1} - \\vec{m_i}) - s \\right)^2 $$\n",
    "\n",
    "Which is trivially quantized to:\n",
    "\n",
    "$$\\hat{H} = \\hat{\\vec{Q}} \\cdot \\hat{\\vec{m_1}} + \\lambda_1 \\sum_i^{N} \\left( \\sum_j^m \\hat{m_{ji}} -1 \\right)^2 + \\lambda_2 \\sum_{i>1}^{m} \\left( \\hat{\\vec{Q}}\\cdot (\\hat{\\vec{m_1}} - \\hat{\\vec{m_i}}) - \\hat{s} \\right)^2 $$\n",
    "\n",
    "and its energy eigenvalues are given by:\n",
    "\n",
    "$$E = cost(m_1) + \\text{how much the constraints are violated}$$ \n",
    "\n",
    "Which means that the annealing process will (most likely) drive the system to the state where no constraints are violated and $cost(m_1)$ is at its minimum.\n",
    "\n",
    "Weights $\\lambda$ have to be big enough so that even in the worst case scenario (that is, the state for which the energy $E_0$ of $\\hat{H_0}$ is maximum), the constraints of $H_1 + H_2$ are still enforced:\n",
    "\n",
    "$$\n",
    "\\lambda > max(E_0) = sum(\\text{dishes})\n",
    "$$\n",
    "\n",
    "So, we choose $\\lambda=sum(\\text{dishes})+1$"
   ]
  },
  {
   "cell_type": "markdown",
   "metadata": {},
   "source": [
    "### Coding the solution"
   ]
  },
  {
   "cell_type": "code",
   "execution_count": 1,
   "metadata": {},
   "outputs": [],
   "source": [
    "# math libraries\n",
    "import math\n",
    "import numpy as np\n",
    "# library to manipulate symbolic expressions\n",
    "from sympy import symbols\n",
    "# dimod \"simulator\"\n",
    "from dimod import ExactSolver\n",
    "# d-wave libraries\n",
    "from dwave.system import DWaveSampler, EmbeddingComposite\n",
    "\n",
    "class MinimumMakespanSolver():\n",
    "\n",
    "    def __init__(self, dishes, chefs):\n",
    "        self.dishes = dishes\n",
    "        self.m = chefs\n",
    "        self.N = len(dishes)\n",
    "        # calculate the amount of slack qubits required per chef\n",
    "        self.ancilla_per_chef = math.ceil(math.log2(sum(dishes)))\n",
    "        # prepare variables to build the objective function\n",
    "        amount_qubits = self.N * self.m + (self.m-1)*self.ancilla_per_chef\n",
    "        self.syms = symbols(f\"x:{amount_qubits}\")\n",
    "        # variable to store the QUBO\n",
    "        self.qubo = None\n",
    "\n",
    "    def get_index(self, dish, chef):\n",
    "        \"\"\"Get the index of the qubit corresponding to a chef's dish\"\"\"\n",
    "        return self.N*chef + dish\n",
    "\n",
    "    def get_bit(self, dish, chef):\n",
    "        \"\"\"Get the symbol of the qubit corresponding to a chef's dish\"\"\"\n",
    "        return self.get_raw_bit(self.get_index(dish, chef))\n",
    "\n",
    "    def get_raw_bit(self, index):\n",
    "        \"\"\"Get the symbol corresponding to qubit 'index' \"\"\"\n",
    "        return self.syms[index]\n",
    "\n",
    "    def get_indexes_of_ancilla(self, chef):\n",
    "        \"\"\"Get the indexes of the slack/ancilla qubits used by a chef\"\"\"\n",
    "        return [i for i in range(self.N*self.m + (chef-1)*self.ancilla_per_chef, self.N*self.m + chef*self.ancilla_per_chef) ]\n",
    "\n",
    "    def cost_of_unprepared_dishes(self, chef):\n",
    "        \"\"\"Get the expression that maps to the cost of the state of a certain chef\"\"\"\n",
    "        return sum([cost*self.get_bit(dish, chef) for dish,cost in enumerate(self.dishes)])\n",
    "\n",
    "    def get_objective(self, weight=1):\n",
    "        \"\"\"Builds the objective function enforcing three constraints:\n",
    "           \n",
    "           1) Minimize the amount of dishes prepared by chef0 = chef_max\n",
    "\n",
    "           2) No dishes can be cooked more than once\n",
    "\n",
    "           3) chef_max should take the highest amount of time\n",
    "        \"\"\"\n",
    "        obj = 0\n",
    "        # 1 constraint: Minimize the amount of dishes prepared by chef0 = chef_max\n",
    "        obj += self.cost_of_unprepared_dishes(0)\n",
    "        # 2 constraint: no dishes can be cooked more than once\n",
    "        cost_operators = 0\n",
    "        for dish in range(self.N):\n",
    "            op = -1\n",
    "            for chef in range(self.m):\n",
    "                op += self.get_bit(dish, chef)\n",
    "            cost_operators += op**2\n",
    "        obj += weight*cost_operators\n",
    "        # 3 constraint: chef_max should take the highest amount of time\n",
    "        cost_operators = 0\n",
    "        for chef in range(1,self.m):\n",
    "            # get slack binary variables\n",
    "            slack = sum( [ (2**i)*self.get_raw_bit(ancilla) for i,ancilla in enumerate(self.get_indexes_of_ancilla(chef))] )\n",
    "            # get total hamiltonian\n",
    "            cost_operators += (self.cost_of_unprepared_dishes(0) - self.cost_of_unprepared_dishes(chef) - slack)**2\n",
    "        obj += weight*cost_operators\n",
    "        # return expression with all the constraints\n",
    "        return obj\n",
    "\n",
    "    def build(self, weight=None):\n",
    "        \"\"\"Builds the QUBO for the given problem. Returns the linear and quadratic coefficients.\n",
    "        If no weight is passed, it is calculated with the worst case scenario\n",
    "        \"\"\"\n",
    "        # get best weight\n",
    "        weight = weight if weight else sum(self.dishes)+1\n",
    "        # get the raw function to minimize\n",
    "        obj = self.get_objective(weight)\n",
    "        print(f\"Raw expression: {obj}\")\n",
    "        # simplify one-variable quadratic terms as linear terms\n",
    "        for s in self.syms:\n",
    "            obj = obj.expand().replace(s**2, s)\n",
    "        # decompose in factors\n",
    "        terms = obj.expand().as_coefficients_dict()\n",
    "        # build QUBO\n",
    "        linear = dict()\n",
    "        quadratic = dict()\n",
    "        for term in terms:\n",
    "            # check how to map each term\n",
    "            readable = str(term)\n",
    "            # if the term is in the shape a*xn*xm (that is, with two variables), it is a quadratic term\n",
    "            if readable.count(\"x\") == 2:\n",
    "                x0,x1 = readable.split(\"*\")\n",
    "                quadratic[(x0,x1)] = terms[term]\n",
    "            # if the term is in the shape a*xn (that is, with one variable), it is a linear term\n",
    "            elif readable.count(\"x\") == 1:\n",
    "                linear[(readable, readable)] = terms[term]\n",
    "        # store the QUBO\n",
    "        self.qubo = {**linear, **quadratic}\n",
    "        return self.qubo\n",
    "\n",
    "    def solve(self, qubo=None, quantum=False):\n",
    "        \"\"\"Solves a given QUBO. To use the quantum mode, the D-Wave API keys must be set in the environment.\n",
    "\n",
    "        Args\n",
    "        ----\n",
    "        qubo: coefficients of the problem to solve. If none given, the qubo stored in the class is used.\n",
    "        quantum: True if meant to be run on a d-wave machine, False if meant to be solved with dimod.ExactSolver\n",
    "        \"\"\"\n",
    "        # get the correct qubo to run\n",
    "        qubo = qubo if qubo else (self.qubo if self.qubo else self.build())\n",
    "        # run\n",
    "        samples = EmbeddingComposite(DWaveSampler(solver={'topology__type': 'chimera'})).sample_qubo(qubo, num_reads=1000) if quantum else ExactSolver().sample_qubo(qubo)\n",
    "        # get only results with lowest energy as they make up the solution\n",
    "        results = samples.lowest()\n",
    "        data = results.record.sample\n",
    "        # sort the variables correctly\n",
    "        sorted_data = np.zeros((len(data), self.m, self.N))\n",
    "        for r,result in enumerate(data):\n",
    "            for m in range(self.m):\n",
    "                for j in range(self.N):\n",
    "                    # get index of this dish\n",
    "                    i = results.variables.index(f\"x{self.get_index(j,m)}\")\n",
    "                    # get value\n",
    "                    sorted_data[r][m][j] = self.dishes[j] if result[i] else 0.\n",
    "        return sorted_data"
   ]
  },
  {
   "cell_type": "markdown",
   "metadata": {},
   "source": [
    "And here are some useful functions to show the result:"
   ]
  },
  {
   "cell_type": "code",
   "execution_count": 2,
   "metadata": {},
   "outputs": [],
   "source": [
    "def visualize_solution(results, queue, m):\n",
    "    for solution in results:\n",
    "        for i,chef in enumerate(solution):\n",
    "            print(f\"Chef {i} cooked {chef} with cost {sum(chef)}\")\n",
    "        print(\"-------\")"
   ]
  },
  {
   "cell_type": "markdown",
   "metadata": {},
   "source": [
    "#### Case 1"
   ]
  },
  {
   "cell_type": "code",
   "execution_count": 3,
   "metadata": {
    "scrolled": true
   },
   "outputs": [
    {
     "name": "stdout",
     "output_type": "stream",
     "text": [
      "Raw expression: 2*x0 + 3*x1 + 7*x2 + 2*x3 + x4 + 16*(x0 - 1)**2 + 16*(x1 - 1)**2 + 16*(x2 - 1)**2 + 16*(x3 - 1)**2 + 16*(x4 - 1)**2\n",
      "\n",
      "SOLUTION:\n",
      "Chef 0 cooked [2. 3. 7. 2. 1.] with cost 15.0\n",
      "-------\n"
     ]
    }
   ],
   "source": [
    "queue = [2,3,7,2,1]\n",
    "m = 1\n",
    "solver = MinimumMakespanSolver(dishes=queue, chefs=m)\n",
    "solution = solver.solve(quantum=False)\n",
    "print(\"\\nSOLUTION:\")\n",
    "visualize_solution(solution, queue, m)"
   ]
  },
  {
   "cell_type": "markdown",
   "metadata": {},
   "source": [
    "#### Case 2"
   ]
  },
  {
   "cell_type": "code",
   "execution_count": 4,
   "metadata": {
    "scrolled": true
   },
   "outputs": [
    {
     "name": "stdout",
     "output_type": "stream",
     "text": [
      "Raw expression: 2*x0 + 3*x1 + 7*x2 + 2*x3 + x4 + 16*(x0 + x5 - 1)**2 + 16*(x1 + x6 - 1)**2 + 16*(x2 + x7 - 1)**2 + 16*(x3 + x8 - 1)**2 + 16*(x4 + x9 - 1)**2 + 16*(2*x0 + 3*x1 - x10 - 2*x11 - 4*x12 - 8*x13 + 7*x2 + 2*x3 + x4 - 2*x5 - 3*x6 - 7*x7 - 2*x8 - x9)**2\n",
      "\n",
      "SOLUTION:\n",
      "Chef 0 cooked [2. 3. 0. 2. 1.] with cost 8.0\n",
      "Chef 1 cooked [0. 0. 7. 0. 0.] with cost 7.0\n",
      "-------\n",
      "Chef 0 cooked [0. 0. 7. 0. 1.] with cost 8.0\n",
      "Chef 1 cooked [2. 3. 0. 2. 0.] with cost 7.0\n",
      "-------\n"
     ]
    }
   ],
   "source": [
    "queue = [2,3,7,2,1]\n",
    "m = 2\n",
    "solver = MinimumMakespanSolver(dishes=queue, chefs=m)\n",
    "solution = solver.solve(quantum=False)\n",
    "print(\"\\nSOLUTION:\")\n",
    "visualize_solution(solution, queue, m)"
   ]
  },
  {
   "cell_type": "markdown",
   "metadata": {},
   "source": [
    "#### Case 3"
   ]
  },
  {
   "cell_type": "markdown",
   "metadata": {},
   "source": [
    "Note that this case can't be solved in a classical computer using `ExactSolver`. We need to go full quantum!"
   ]
  },
  {
   "cell_type": "code",
   "execution_count": 5,
   "metadata": {
    "scrolled": true
   },
   "outputs": [
    {
     "name": "stdout",
     "output_type": "stream",
     "text": [
      "Raw expression: 2*x0 + 3*x1 + 2*x2 + 2*x3 + x4 + 11*(x0 + x10 + x5 - 1)**2 + 11*(x1 + x11 + x6 - 1)**2 + 11*(x12 + x2 + x7 - 1)**2 + 11*(x13 + x3 + x8 - 1)**2 + 11*(x14 + x4 + x9 - 1)**2 + 11*(2*x0 + 3*x1 - 2*x10 - 3*x11 - 2*x12 - 2*x13 - x14 - x19 + 2*x2 - 2*x20 - 4*x21 - 8*x22 + 2*x3 + x4)**2 + 11*(2*x0 + 3*x1 - x15 - 2*x16 - 4*x17 - 8*x18 + 2*x2 + 2*x3 + x4 - 2*x5 - 3*x6 - 2*x7 - 2*x8 - x9)**2\n"
     ]
    },
    {
     "ename": "MemoryError",
     "evalue": "Unable to allocate 10.9 GiB for an array with shape (8388608, 175) and data type float64",
     "output_type": "error",
     "traceback": [
      "\u001b[0;31m---------------------------------------------------------------------------\u001b[0m",
      "\u001b[0;31mMemoryError\u001b[0m                               Traceback (most recent call last)",
      "\u001b[0;32m<ipython-input-5-53e08ae35cc4>\u001b[0m in \u001b[0;36m<module>\u001b[0;34m\u001b[0m\n\u001b[1;32m      2\u001b[0m \u001b[0mm\u001b[0m \u001b[0;34m=\u001b[0m \u001b[0;36m3\u001b[0m\u001b[0;34m\u001b[0m\u001b[0;34m\u001b[0m\u001b[0m\n\u001b[1;32m      3\u001b[0m \u001b[0msolver\u001b[0m \u001b[0;34m=\u001b[0m \u001b[0mMinimumMakespanSolver\u001b[0m\u001b[0;34m(\u001b[0m\u001b[0mdishes\u001b[0m\u001b[0;34m=\u001b[0m\u001b[0mqueue\u001b[0m\u001b[0;34m,\u001b[0m \u001b[0mchefs\u001b[0m\u001b[0;34m=\u001b[0m\u001b[0mm\u001b[0m\u001b[0;34m)\u001b[0m\u001b[0;34m\u001b[0m\u001b[0;34m\u001b[0m\u001b[0m\n\u001b[0;32m----> 4\u001b[0;31m \u001b[0msolution\u001b[0m \u001b[0;34m=\u001b[0m \u001b[0msolver\u001b[0m\u001b[0;34m.\u001b[0m\u001b[0msolve\u001b[0m\u001b[0;34m(\u001b[0m\u001b[0mquantum\u001b[0m\u001b[0;34m=\u001b[0m\u001b[0;32mFalse\u001b[0m\u001b[0;34m)\u001b[0m\u001b[0;34m\u001b[0m\u001b[0;34m\u001b[0m\u001b[0m\n\u001b[0m\u001b[1;32m      5\u001b[0m \u001b[0mprint\u001b[0m\u001b[0;34m(\u001b[0m\u001b[0;34m\"\\nSOLUTION:\"\u001b[0m\u001b[0;34m)\u001b[0m\u001b[0;34m\u001b[0m\u001b[0;34m\u001b[0m\u001b[0m\n\u001b[1;32m      6\u001b[0m \u001b[0mvisualize_solution\u001b[0m\u001b[0;34m(\u001b[0m\u001b[0msolution\u001b[0m\u001b[0;34m,\u001b[0m \u001b[0mqueue\u001b[0m\u001b[0;34m,\u001b[0m \u001b[0mm\u001b[0m\u001b[0;34m)\u001b[0m\u001b[0;34m\u001b[0m\u001b[0;34m\u001b[0m\u001b[0m\n",
      "\u001b[0;32m<ipython-input-1-8625c17e27cd>\u001b[0m in \u001b[0;36msolve\u001b[0;34m(self, qubo, quantum)\u001b[0m\n\u001b[1;32m    116\u001b[0m         \u001b[0mqubo\u001b[0m \u001b[0;34m=\u001b[0m \u001b[0mqubo\u001b[0m \u001b[0;32mif\u001b[0m \u001b[0mqubo\u001b[0m \u001b[0;32melse\u001b[0m \u001b[0;34m(\u001b[0m\u001b[0mself\u001b[0m\u001b[0;34m.\u001b[0m\u001b[0mqubo\u001b[0m \u001b[0;32mif\u001b[0m \u001b[0mself\u001b[0m\u001b[0;34m.\u001b[0m\u001b[0mqubo\u001b[0m \u001b[0;32melse\u001b[0m \u001b[0mself\u001b[0m\u001b[0;34m.\u001b[0m\u001b[0mbuild\u001b[0m\u001b[0;34m(\u001b[0m\u001b[0;34m)\u001b[0m\u001b[0;34m)\u001b[0m\u001b[0;34m\u001b[0m\u001b[0;34m\u001b[0m\u001b[0m\n\u001b[1;32m    117\u001b[0m         \u001b[0;31m# run\u001b[0m\u001b[0;34m\u001b[0m\u001b[0;34m\u001b[0m\u001b[0;34m\u001b[0m\u001b[0m\n\u001b[0;32m--> 118\u001b[0;31m         \u001b[0msamples\u001b[0m \u001b[0;34m=\u001b[0m \u001b[0mEmbeddingComposite\u001b[0m\u001b[0;34m(\u001b[0m\u001b[0mDWaveSampler\u001b[0m\u001b[0;34m(\u001b[0m\u001b[0msolver\u001b[0m\u001b[0;34m=\u001b[0m\u001b[0;34m{\u001b[0m\u001b[0;34m'topology__type'\u001b[0m\u001b[0;34m:\u001b[0m \u001b[0;34m'chimera'\u001b[0m\u001b[0;34m}\u001b[0m\u001b[0;34m)\u001b[0m\u001b[0;34m)\u001b[0m\u001b[0;34m.\u001b[0m\u001b[0msample_qubo\u001b[0m\u001b[0;34m(\u001b[0m\u001b[0mqubo\u001b[0m\u001b[0;34m,\u001b[0m \u001b[0mnum_reads\u001b[0m\u001b[0;34m=\u001b[0m\u001b[0;36m1000\u001b[0m\u001b[0;34m)\u001b[0m \u001b[0;32mif\u001b[0m \u001b[0mquantum\u001b[0m \u001b[0;32melse\u001b[0m \u001b[0mExactSolver\u001b[0m\u001b[0;34m(\u001b[0m\u001b[0;34m)\u001b[0m\u001b[0;34m.\u001b[0m\u001b[0msample_qubo\u001b[0m\u001b[0;34m(\u001b[0m\u001b[0mqubo\u001b[0m\u001b[0;34m)\u001b[0m\u001b[0;34m\u001b[0m\u001b[0;34m\u001b[0m\u001b[0m\n\u001b[0m\u001b[1;32m    119\u001b[0m         \u001b[0;31m# get only results with lowest energy as they make up the solution\u001b[0m\u001b[0;34m\u001b[0m\u001b[0;34m\u001b[0m\u001b[0;34m\u001b[0m\u001b[0m\n\u001b[1;32m    120\u001b[0m         \u001b[0mresults\u001b[0m \u001b[0;34m=\u001b[0m \u001b[0msamples\u001b[0m\u001b[0;34m.\u001b[0m\u001b[0mlowest\u001b[0m\u001b[0;34m(\u001b[0m\u001b[0;34m)\u001b[0m\u001b[0;34m\u001b[0m\u001b[0;34m\u001b[0m\u001b[0m\n",
      "\u001b[0;32m~/development/monthly-challenges/challenge-03/venv/lib/python3.8/site-packages/dimod/core/sampler.py\u001b[0m in \u001b[0;36msample_qubo\u001b[0;34m(self, Q, **parameters)\u001b[0m\n\u001b[1;32m    238\u001b[0m         \"\"\"\n\u001b[1;32m    239\u001b[0m         \u001b[0mbqm\u001b[0m \u001b[0;34m=\u001b[0m \u001b[0mBinaryQuadraticModel\u001b[0m\u001b[0;34m.\u001b[0m\u001b[0mfrom_qubo\u001b[0m\u001b[0;34m(\u001b[0m\u001b[0mQ\u001b[0m\u001b[0;34m)\u001b[0m\u001b[0;34m\u001b[0m\u001b[0;34m\u001b[0m\u001b[0m\n\u001b[0;32m--> 240\u001b[0;31m         \u001b[0;32mreturn\u001b[0m \u001b[0mself\u001b[0m\u001b[0;34m.\u001b[0m\u001b[0msample\u001b[0m\u001b[0;34m(\u001b[0m\u001b[0mbqm\u001b[0m\u001b[0;34m,\u001b[0m \u001b[0;34m**\u001b[0m\u001b[0mparameters\u001b[0m\u001b[0;34m)\u001b[0m\u001b[0;34m\u001b[0m\u001b[0;34m\u001b[0m\u001b[0m\n\u001b[0m",
      "\u001b[0;32m~/development/monthly-challenges/challenge-03/venv/lib/python3.8/site-packages/dimod/reference/samplers/exact_solver.py\u001b[0m in \u001b[0;36msample\u001b[0;34m(self, bqm)\u001b[0m\n\u001b[1;32m     95\u001b[0m             \u001b[0msamples\u001b[0m \u001b[0;34m=\u001b[0m \u001b[0;36m2\u001b[0m\u001b[0;34m*\u001b[0m\u001b[0msamples\u001b[0m \u001b[0;34m-\u001b[0m \u001b[0;36m1\u001b[0m\u001b[0;34m\u001b[0m\u001b[0;34m\u001b[0m\u001b[0m\n\u001b[1;32m     96\u001b[0m \u001b[0;34m\u001b[0m\u001b[0m\n\u001b[0;32m---> 97\u001b[0;31m         \u001b[0mresponse\u001b[0m \u001b[0;34m=\u001b[0m \u001b[0mSampleSet\u001b[0m\u001b[0;34m.\u001b[0m\u001b[0mfrom_samples_bqm\u001b[0m\u001b[0;34m(\u001b[0m\u001b[0;34m(\u001b[0m\u001b[0msamples\u001b[0m\u001b[0;34m,\u001b[0m \u001b[0mlist\u001b[0m\u001b[0;34m(\u001b[0m\u001b[0mbqm\u001b[0m\u001b[0;34m.\u001b[0m\u001b[0mvariables\u001b[0m\u001b[0;34m)\u001b[0m\u001b[0;34m)\u001b[0m\u001b[0;34m,\u001b[0m \u001b[0mbqm\u001b[0m\u001b[0;34m)\u001b[0m\u001b[0;34m\u001b[0m\u001b[0;34m\u001b[0m\u001b[0m\n\u001b[0m\u001b[1;32m     98\u001b[0m         \u001b[0;32mreturn\u001b[0m \u001b[0mresponse\u001b[0m\u001b[0;34m\u001b[0m\u001b[0;34m\u001b[0m\u001b[0m\n\u001b[1;32m     99\u001b[0m \u001b[0;34m\u001b[0m\u001b[0m\n",
      "\u001b[0;32m~/development/monthly-challenges/challenge-03/venv/lib/python3.8/site-packages/dimod/sampleset.py\u001b[0m in \u001b[0;36mfrom_samples_bqm\u001b[0;34m(cls, samples_like, bqm, **kwargs)\u001b[0m\n\u001b[1;32m    672\u001b[0m         \u001b[0msamples_like\u001b[0m \u001b[0;34m=\u001b[0m \u001b[0mas_samples\u001b[0m\u001b[0;34m(\u001b[0m\u001b[0msamples_like\u001b[0m\u001b[0;34m)\u001b[0m\u001b[0;34m\u001b[0m\u001b[0;34m\u001b[0m\u001b[0m\n\u001b[1;32m    673\u001b[0m \u001b[0;34m\u001b[0m\u001b[0m\n\u001b[0;32m--> 674\u001b[0;31m         \u001b[0menergies\u001b[0m \u001b[0;34m=\u001b[0m \u001b[0mbqm\u001b[0m\u001b[0;34m.\u001b[0m\u001b[0menergies\u001b[0m\u001b[0;34m(\u001b[0m\u001b[0msamples_like\u001b[0m\u001b[0;34m)\u001b[0m\u001b[0;34m\u001b[0m\u001b[0;34m\u001b[0m\u001b[0m\n\u001b[0m\u001b[1;32m    675\u001b[0m \u001b[0;34m\u001b[0m\u001b[0m\n\u001b[1;32m    676\u001b[0m         \u001b[0;32mreturn\u001b[0m \u001b[0mcls\u001b[0m\u001b[0;34m.\u001b[0m\u001b[0mfrom_samples\u001b[0m\u001b[0;34m(\u001b[0m\u001b[0msamples_like\u001b[0m\u001b[0;34m,\u001b[0m \u001b[0menergy\u001b[0m\u001b[0;34m=\u001b[0m\u001b[0menergies\u001b[0m\u001b[0;34m,\u001b[0m \u001b[0mvartype\u001b[0m\u001b[0;34m=\u001b[0m\u001b[0mbqm\u001b[0m\u001b[0;34m.\u001b[0m\u001b[0mvartype\u001b[0m\u001b[0;34m,\u001b[0m \u001b[0;34m**\u001b[0m\u001b[0mkwargs\u001b[0m\u001b[0;34m)\u001b[0m\u001b[0;34m\u001b[0m\u001b[0;34m\u001b[0m\u001b[0m\n",
      "\u001b[0;32m~/development/monthly-challenges/challenge-03/venv/lib/python3.8/site-packages/dimod/core/bqm.py\u001b[0m in \u001b[0;36menergies\u001b[0;34m(self, samples_like, dtype)\u001b[0m\n\u001b[1;32m    516\u001b[0m             \u001b[0;34m=\u001b[0m \u001b[0mself\u001b[0m\u001b[0;34m.\u001b[0m\u001b[0mto_numpy_vectors\u001b[0m\u001b[0;34m(\u001b[0m\u001b[0mvariable_order\u001b[0m\u001b[0;34m=\u001b[0m\u001b[0mlabels\u001b[0m\u001b[0;34m,\u001b[0m \u001b[0mdtype\u001b[0m\u001b[0;34m=\u001b[0m\u001b[0mdtype\u001b[0m\u001b[0;34m)\u001b[0m\u001b[0;34m\u001b[0m\u001b[0;34m\u001b[0m\u001b[0m\n\u001b[1;32m    517\u001b[0m \u001b[0;34m\u001b[0m\u001b[0m\n\u001b[0;32m--> 518\u001b[0;31m         \u001b[0menergies\u001b[0m \u001b[0;34m=\u001b[0m \u001b[0msamples\u001b[0m\u001b[0;34m.\u001b[0m\u001b[0mdot\u001b[0m\u001b[0;34m(\u001b[0m\u001b[0mldata\u001b[0m\u001b[0;34m)\u001b[0m \u001b[0;34m+\u001b[0m \u001b[0;34m(\u001b[0m\u001b[0msamples\u001b[0m\u001b[0;34m[\u001b[0m\u001b[0;34m:\u001b[0m\u001b[0;34m,\u001b[0m \u001b[0mirow\u001b[0m\u001b[0;34m]\u001b[0m\u001b[0;34m*\u001b[0m\u001b[0msamples\u001b[0m\u001b[0;34m[\u001b[0m\u001b[0;34m:\u001b[0m\u001b[0;34m,\u001b[0m \u001b[0micol\u001b[0m\u001b[0;34m]\u001b[0m\u001b[0;34m)\u001b[0m\u001b[0;34m.\u001b[0m\u001b[0mdot\u001b[0m\u001b[0;34m(\u001b[0m\u001b[0mqdata\u001b[0m\u001b[0;34m)\u001b[0m \u001b[0;34m+\u001b[0m \u001b[0moffset\u001b[0m\u001b[0;34m\u001b[0m\u001b[0;34m\u001b[0m\u001b[0m\n\u001b[0m\u001b[1;32m    519\u001b[0m         \u001b[0;32mreturn\u001b[0m \u001b[0mnp\u001b[0m\u001b[0;34m.\u001b[0m\u001b[0masarray\u001b[0m\u001b[0;34m(\u001b[0m\u001b[0menergies\u001b[0m\u001b[0;34m,\u001b[0m \u001b[0mdtype\u001b[0m\u001b[0;34m=\u001b[0m\u001b[0mdtype\u001b[0m\u001b[0;34m)\u001b[0m  \u001b[0;31m# handle any type promotions\u001b[0m\u001b[0;34m\u001b[0m\u001b[0;34m\u001b[0m\u001b[0m\n\u001b[1;32m    520\u001b[0m \u001b[0;34m\u001b[0m\u001b[0m\n",
      "\u001b[0;31mMemoryError\u001b[0m: Unable to allocate 10.9 GiB for an array with shape (8388608, 175) and data type float64"
     ]
    }
   ],
   "source": [
    "queue = [2,3,2,2,1]\n",
    "m = 3\n",
    "solver = MinimumMakespanSolver(dishes=queue, chefs=m)\n",
    "solution = solver.solve(quantum=False)\n",
    "print(\"\\nSOLUTION:\")\n",
    "visualize_solution(solution, queue, m)"
   ]
  },
  {
   "cell_type": "code",
   "execution_count": 6,
   "metadata": {
    "scrolled": true
   },
   "outputs": [
    {
     "name": "stdout",
     "output_type": "stream",
     "text": [
      "Raw expression: 2*x0 + 3*x1 + 2*x2 + 2*x3 + x4 + 11*(x0 + x10 + x5 - 1)**2 + 11*(x1 + x11 + x6 - 1)**2 + 11*(x12 + x2 + x7 - 1)**2 + 11*(x13 + x3 + x8 - 1)**2 + 11*(x14 + x4 + x9 - 1)**2 + 11*(2*x0 + 3*x1 - 2*x10 - 3*x11 - 2*x12 - 2*x13 - x14 - x19 + 2*x2 - 2*x20 - 4*x21 - 8*x22 + 2*x3 + x4)**2 + 11*(2*x0 + 3*x1 - x15 - 2*x16 - 4*x17 - 8*x18 + 2*x2 + 2*x3 + x4 - 2*x5 - 3*x6 - 2*x7 - 2*x8 - x9)**2\n",
      "\n",
      "SOLUTION:\n",
      "Chef 0 cooked [2. 0. 0. 2. 0.] with cost 4.0\n",
      "Chef 1 cooked [0. 3. 0. 0. 0.] with cost 3.0\n",
      "Chef 2 cooked [0. 0. 2. 0. 1.] with cost 3.0\n",
      "-------\n"
     ]
    }
   ],
   "source": [
    "queue = [2,3,2,2,1]\n",
    "m = 3\n",
    "solver = MinimumMakespanSolver(dishes=queue, chefs=m)\n",
    "solution = solver.solve(quantum=True)\n",
    "print(\"\\nSOLUTION:\")\n",
    "visualize_solution(solution, queue, m)"
   ]
  },
  {
   "cell_type": "markdown",
   "metadata": {},
   "source": [
    "Note that because of the probabilistic nature of the quantum realm, the solution provided by a quantum computer will not always be the most optimal, but still it would be optimal. When I ran my code I was lucky the best solution was provided, but sometimes (just a few, really), the cost can be 5 (which is almost 4, but not 4)."
   ]
  },
  {
   "cell_type": "markdown",
   "metadata": {},
   "source": [
    "## Resources\n",
    "\n",
    "\\[1\\] [D-Wave Problem Solving Handbook](https://docs.dwavesys.com/docs/latest/doc_handbook.html)\n",
    "\n",
    "\\[2\\] [Implementation of the Travelling Salesman Problem](https://github.com/mstechly/quantum_tsp_tutorials)\n",
    "\n",
    "\\[3\\] [Ising formulations of many NP problems](https://arxiv.org/pdf/1302.5843.pdf)\n",
    "\n",
    "\\[4\\] [D-Wave Examples](https://docs.ocean.dwavesys.com/en/stable/getting_started.html#examples)\n",
    "\n",
    "\\[5\\] [Quantum Approximate Optimization Algorithm explained](https://www.mustythoughts.com/quantum-approximate-optimization-algorithm-explained)\n",
    "\n",
    "\\[6\\] [Job Shop Scheduling Solver based on Quantum Annealing](https://arxiv.org/pdf/1506.08479.pdf)\n",
    "\n",
    "### References\n",
    "\n",
    "\\[7\\] [Quantum Algorithms for Scientific Computing and Approximate Optimization](https://arxiv.org/pdf/1805.03265.pdf)\n",
    "\n",
    "\\[8\\] [From the Quantum Approximate Optimization Algorithm to a Quantum Alternating Operator Ansatz](https://arxiv.org/pdf/1709.03489.pdf)\n",
    "\n",
    "### Other useful resources\n",
    "\\[9\\] [D-Wave Getting Started with the System](https://docs.dwavesys.com/docs/latest/doc_getting_started.html)\n",
    "\n",
    "\\[10\\] [Qiskit Converters for Quadratic Programs](https://qiskit.org/documentation/tutorials/optimization/2_converters_for_quadratic_programs.html)\n",
    "\n",
    "\\[11\\] [D-Wave Support Difference between BQM, Ising, and QUBO problems?](https://support.dwavesys.com/hc/en-us/community/posts/360017439853-Difference-between-BQM-Ising-and-QUBO-problems-)\n",
    "\n",
    "\\[12\\] [A QAOA solution to the traveling salesman problem using pyQuil](https://cs269q.stanford.edu/projects2019/radzihovsky_murphy_swofford_Y.pdf)"
   ]
  }
 ],
 "metadata": {
  "kernelspec": {
   "display_name": "Python 3",
   "language": "python",
   "name": "python3"
  },
  "language_info": {
   "codemirror_mode": {
    "name": "ipython",
    "version": 3
   },
   "file_extension": ".py",
   "mimetype": "text/x-python",
   "name": "python",
   "nbconvert_exporter": "python",
   "pygments_lexer": "ipython3",
   "version": "3.8.5"
  }
 },
 "nbformat": 4,
 "nbformat_minor": 4
}
