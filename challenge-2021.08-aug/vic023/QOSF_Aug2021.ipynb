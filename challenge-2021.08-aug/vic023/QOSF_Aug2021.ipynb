{
  "nbformat": 4,
  "nbformat_minor": 0,
  "metadata": {
    "colab": {
      "name": "QOSF-Aug2021.ipynb",
      "provenance": [],
      "collapsed_sections": []
    },
    "kernelspec": {
      "name": "python3",
      "display_name": "Python 3"
    },
    "language_info": {
      "name": "python"
    }
  },
  "cells": [
    {
      "cell_type": "markdown",
      "metadata": {
        "id": "KlvDc9D3x3al"
      },
      "source": [
        "### QOSF August 2021 Challenge Attempt Using Qisikit"
      ]
    },
    {
      "cell_type": "markdown",
      "metadata": {
        "id": "DdM1Y3Z1010r"
      },
      "source": [
        "This is my attempt at the QOSF August 2021 challenge using Qiskit. The circuit updated via the VQA is the linear construction of the W-state described in here https://arxiv.org/pdf/1807.05572.pdf (the reference linked within the challenge prompt) with the controlled U3 gates left as parameters for the VQA to solve."
      ]
    },
    {
      "cell_type": "code",
      "metadata": {
        "id": "ep3LWVopI_pT"
      },
      "source": [
        "# !pip install qiskit\n",
        "!pip show qiskit"
      ],
      "execution_count": null,
      "outputs": []
    },
    {
      "cell_type": "code",
      "metadata": {
        "id": "8bgu4RmeJKZq"
      },
      "source": [
        "from qiskit import QuantumCircuit, ClassicalRegister, QuantumRegister\n",
        "from qiskit import Aer, execute\n",
        "from qiskit.circuit import Parameter\n",
        "from scipy.optimize import minimize\n",
        "import math"
      ],
      "execution_count": null,
      "outputs": []
    },
    {
      "cell_type": "markdown",
      "metadata": {
        "id": "bjg9XKoexVvp"
      },
      "source": [
        "## Level 1: 4-Qubit W state with VQA\n"
      ]
    },
    {
      "cell_type": "code",
      "metadata": {
        "colab": {
          "base_uri": "https://localhost:8080/"
        },
        "id": "rMxFF3qNK5Vj",
        "outputId": "75c493ee-a882-4871-ce53-edc34ff2ef2f"
      },
      "source": [
        "def vqa_wcirc4():\n",
        "  \n",
        "  n = 4\n",
        "\n",
        "  # loss function\n",
        "  def compute_expectation(counts, shots):\n",
        "    \n",
        "    error = 0\n",
        "    for bitstring, count in counts.items():\n",
        "        \n",
        "        error += (shots/n - count) ** 2\n",
        "        \n",
        "    return error\n",
        "\n",
        "  # W-state circuit generated from theta (where theta are the parameters updated)\n",
        "  def create_circ(theta):\n",
        "    qc = QuantumCircuit(n)\n",
        "   \n",
        "    # initial_state\n",
        "    qc.x(0)\n",
        "    \n",
        "    # Preparation of the w-state by \"spreading\" the |1>\n",
        "    qc.cu3(theta[0], 0, 0, 0, 1)\n",
        "    qc.cx(1, 0)\n",
        "    qc.cu3(theta[1], 0, 0, 0, 2)\n",
        "    qc.cx(2, 0)\n",
        "    qc.cu3(theta[2], 0, 0, 1, 3)\n",
        "    qc.cx(3, 1)\n",
        "            \n",
        "    qc.measure_all()\n",
        "        \n",
        "    return qc\n",
        "\n",
        "  # step function\n",
        "  def get_expectation(shots=1024):\n",
        "    \n",
        "    backend = Aer.get_backend('qasm_simulator')\n",
        "    backend.shots = shots\n",
        "    \n",
        "    def execute_circ(theta):\n",
        "        \n",
        "        qc = create_circ(theta)\n",
        "        counts = backend.run(qc, seed_simulator=10, \n",
        "                             nshots=shots).result().get_counts()\n",
        "        \n",
        "        return compute_expectation(counts, shots)\n",
        "    \n",
        "    return execute_circ\n",
        "\n",
        "  # return the optimal parameters for the U3 gates\n",
        "  def solve():\n",
        "    expectation = get_expectation()\n",
        "\n",
        "    res = minimize(expectation, [1.0 for _ in range(n - 1)], method='COBYLA')\n",
        "    print(res)\n",
        "    return res.x\n",
        "\n",
        "  solution = create_circ(solve())\n",
        "  print(solution)\n",
        "  backend = Aer.get_backend('qasm_simulator')\n",
        "  backend.shots = 1024\n",
        "    \n",
        "  counts = backend.run(solution, seed_simulator=10, nshots=1024).result().get_counts()\n",
        "\n",
        "  print(counts)\n",
        "\n",
        "vqa_wcirc4()"
      ],
      "execution_count": null,
      "outputs": [
        {
          "output_type": "stream",
          "name": "stdout",
          "text": [
            "     fun: 18.0\n",
            "   maxcv: 0.0\n",
            " message: 'Optimization terminated successfully.'\n",
            "    nfev: 48\n",
            "  status: 1\n",
            " success: True\n",
            "       x: array([1.57121605, 1.50845381, 1.57759015])\n",
            "        ┌───┐                  ┌───┐                                    ┌───┐»\n",
            "   q_0: ┤ X ├────────■─────────┤ X ├────────■───────────────────────────┤ X ├»\n",
            "        └───┘┌───────┴────────┐└─┬─┘        │                           └─┬─┘»\n",
            "   q_1: ─────┤ U3(1.5712,0,0) ├──■──────────┼─────────────────■───────────┼──»\n",
            "             └────────────────┘     ┌───────┴────────┐        │           │  »\n",
            "   q_2: ────────────────────────────┤ U3(1.5085,0,0) ├────────┼───────────■──»\n",
            "                                    └────────────────┘┌───────┴────────┐     »\n",
            "   q_3: ──────────────────────────────────────────────┤ U3(1.5776,0,0) ├─────»\n",
            "                                                      └────────────────┘     »\n",
            "meas: 4/═════════════════════════════════════════════════════════════════════»\n",
            "                                                                             »\n",
            "«              ░ ┌─┐         \n",
            "«   q_0: ──────░─┤M├─────────\n",
            "«        ┌───┐ ░ └╥┘┌─┐      \n",
            "«   q_1: ┤ X ├─░──╫─┤M├──────\n",
            "«        └─┬─┘ ░  ║ └╥┘┌─┐   \n",
            "«   q_2: ──┼───░──╫──╫─┤M├───\n",
            "«          │   ░  ║  ║ └╥┘┌─┐\n",
            "«   q_3: ──■───░──╫──╫──╫─┤M├\n",
            "«              ░  ║  ║  ║ └╥┘\n",
            "«meas: 4/═════════╩══╩══╩══╩═\n",
            "«                 0  1  2  3 \n",
            "{'0010': 254, '0100': 254, '0001': 257, '1000': 259}\n"
          ]
        }
      ]
    },
    {
      "cell_type": "markdown",
      "metadata": {
        "id": "a6QECpw8Ut-r"
      },
      "source": [
        "## Level 2: N-Qubit W state with VQA"
      ]
    },
    {
      "cell_type": "code",
      "metadata": {
        "colab": {
          "base_uri": "https://localhost:8080/"
        },
        "id": "FlIKoAe7RyEY",
        "outputId": "8ffdf794-ca38-4352-f592-87215d67893f"
      },
      "source": [
        "def vqa_wcirc(n):\n",
        "\n",
        "  # loss function\n",
        "  def compute_expectation(counts, shots):\n",
        "    \n",
        "    error = 0\n",
        "    for bitstring, count in counts.items():\n",
        "        \n",
        "        error += (shots/n - count) ** 2\n",
        "        \n",
        "    return error\n",
        "\n",
        "  # W-state circuit generated from theta (where theta are the parameters updated)\n",
        "  def create_circ(theta):\n",
        "    qc = QuantumCircuit(n)\n",
        "   \n",
        "    # initial_state\n",
        "    qc.x(0)\n",
        "    \n",
        "    # linear construction \n",
        "    for i in range(len(theta)):\n",
        "      qc.cu3(theta[i], 0, 0, i, i+1)\n",
        "      qc.cx(i+1, i)\n",
        "            \n",
        "    qc.measure_all()\n",
        "        \n",
        "    return qc\n",
        "\n",
        "  def get_expectation(shots=1024):\n",
        "    \n",
        "    backend = Aer.get_backend('qasm_simulator')\n",
        "    backend.shots = shots\n",
        "    \n",
        "    def execute_circ(theta):\n",
        "        \n",
        "        qc = create_circ(theta)\n",
        "        counts = backend.run(qc, seed_simulator=10, \n",
        "                             nshots=shots).result().get_counts()\n",
        "        \n",
        "        return compute_expectation(counts, shots)\n",
        "    \n",
        "    return execute_circ\n",
        "\n",
        "  # return the optimal parameters for the U3 gates\n",
        "  def solve():\n",
        "    expectation = get_expectation()\n",
        "\n",
        "    res = minimize(expectation, [1.0 for _ in range(n - 1)], method='COBYLA')\n",
        "    print(res)\n",
        "    return res.x\n",
        "\n",
        "  solution = create_circ(solve())\n",
        "  print(solution)\n",
        "  backend = Aer.get_backend('qasm_simulator')\n",
        "  backend.shots = 1024\n",
        "    \n",
        "  counts = backend.run(solution, seed_simulator=10, nshots=1024).result().get_counts()\n",
        "\n",
        "  print(counts)\n",
        "\n",
        "\n",
        "vqa_wcirc(6)"
      ],
      "execution_count": null,
      "outputs": [
        {
          "output_type": "stream",
          "name": "stdout",
          "text": [
            "     fun: 9.333333333333334\n",
            "   maxcv: 0.0\n",
            " message: 'Optimization terminated successfully.'\n",
            "    nfev: 67\n",
            "  status: 1\n",
            " success: True\n",
            "       x: array([2.26305016, 2.21087629, 2.06855155, 1.9219506 , 1.56538604])\n",
            "        ┌───┐                  ┌───┐                                         »\n",
            "   q_0: ┤ X ├────────■─────────┤ X ├─────────────────────────────────────────»\n",
            "        └───┘┌───────┴────────┐└─┬─┘                  ┌───┐                  »\n",
            "   q_1: ─────┤ U3(2.2631,0,0) ├──■──────────■─────────┤ X ├──────────────────»\n",
            "             └────────────────┘     ┌───────┴────────┐└─┬─┘                  »\n",
            "   q_2: ────────────────────────────┤ U3(2.2109,0,0) ├──■──────────■─────────»\n",
            "                                    └────────────────┘     ┌───────┴────────┐»\n",
            "   q_3: ───────────────────────────────────────────────────┤ U3(2.0686,0,0) ├»\n",
            "                                                           └────────────────┘»\n",
            "   q_4: ─────────────────────────────────────────────────────────────────────»\n",
            "                                                                             »\n",
            "   q_5: ─────────────────────────────────────────────────────────────────────»\n",
            "                                                                             »\n",
            "meas: 6/═════════════════════════════════════════════════════════════════════»\n",
            "                                                                             »\n",
            "«                                                           ░ ┌─┐            »\n",
            "«   q_0: ───────────────────────────────────────────────────░─┤M├────────────»\n",
            "«                                                           ░ └╥┘┌─┐         »\n",
            "«   q_1: ───────────────────────────────────────────────────░──╫─┤M├─────────»\n",
            "«        ┌───┐                                              ░  ║ └╥┘┌─┐      »\n",
            "«   q_2: ┤ X ├──────────────────────────────────────────────░──╫──╫─┤M├──────»\n",
            "«        └─┬─┘                 ┌───┐                        ░  ║  ║ └╥┘┌─┐   »\n",
            "«   q_3: ──■──────────■────────┤ X ├────────────────────────░──╫──╫──╫─┤M├───»\n",
            "«             ┌───────┴───────┐└─┬─┘                  ┌───┐ ░  ║  ║  ║ └╥┘┌─┐»\n",
            "«   q_4: ─────┤ U3(1.922,0,0) ├──■──────────■─────────┤ X ├─░──╫──╫──╫──╫─┤M├»\n",
            "«             └───────────────┘     ┌───────┴────────┐└─┬─┘ ░  ║  ║  ║  ║ └╥┘»\n",
            "«   q_5: ───────────────────────────┤ U3(1.5654,0,0) ├──■───░──╫──╫──╫──╫──╫─»\n",
            "«                                   └────────────────┘      ░  ║  ║  ║  ║  ║ »\n",
            "«meas: 6/══════════════════════════════════════════════════════╩══╩══╩══╩══╩═»\n",
            "«                                                              0  1  2  3  4 »\n",
            "«           \n",
            "«   q_0: ───\n",
            "«           \n",
            "«   q_1: ───\n",
            "«           \n",
            "«   q_2: ───\n",
            "«           \n",
            "«   q_3: ───\n",
            "«           \n",
            "«   q_4: ───\n",
            "«        ┌─┐\n",
            "«   q_5: ┤M├\n",
            "«        └╥┘\n",
            "«meas: 6/═╩═\n",
            "«         5 \n",
            "{'000010': 171, '000100': 171, '001000': 168, '000001': 171, '010000': 171, '100000': 172}\n"
          ]
        }
      ]
    },
    {
      "cell_type": "markdown",
      "metadata": {
        "id": "hY-05oYf8CEX"
      },
      "source": [
        "## Bonus: Implementing the W-state construction found in the [reference](https://arxiv.org/pdf/1807.05572.pdf)."
      ]
    },
    {
      "cell_type": "code",
      "metadata": {
        "id": "E3xyqWtfxVZw"
      },
      "source": [
        "# generates a circuit that prepares the W-state for n qubits.\n",
        "def create_wcirc(n):\n",
        "  circ = QuantumCircuit(nqubits)\n",
        "  circ.x(0)\n",
        "\n",
        "  # generate the tree  \n"
      ],
      "execution_count": null,
      "outputs": []
    }
  ]
}