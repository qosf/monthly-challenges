{
 "cells": [
  {
   "cell_type": "markdown",
   "metadata": {},
   "source": [
    "# August 2021 Challenge: W states\n",
    "\n",
    "A [**W state**](https://en.wikipedia.org/wiki/W_state) is an entangled state of the form:\n",
    "\n",
    "$$ | \\text{W} \\rangle = \\sqrt{\\frac{1}{3}} \\left( | 001 \\rangle + | 010 \\rangle + | 100 \\rangle \\right ) $$\n",
    "\n",
    "If you're coming from a machine learning background, you might think it looks like a superposition of [one-hots](https://en.wikipedia.org/wiki/One-hot) where each one-hot is equally probable.\n",
    "\n",
    "If you're new to quantum computing, then it might look similar to the [**GHZ state**](https://en.wikipedia.org/wiki/Greenberger%E2%80%93Horne%E2%80%93Zeilinger_state), which you've probably been acquainted with:\n",
    "\n",
    "$$ | \\text{GHZ} \\rangle = \\frac{| 000 \\rangle + | 111 \\rangle}{\\sqrt{2}} $$\n",
    "\n",
    "which itself is a natural extension of the $|\\Phi^+\\rangle$ [**Bell state**](https://en.wikipedia.org/wiki/Bell_state):\n",
    "\n",
    "$$ | \\Phi^+ \\rangle = \\frac{| 00 \\rangle + | 11 \\rangle}{\\sqrt{2}} $$\n",
    "\n",
    "The original state was 3 qubits and has since been generalized to $n$ qubits:\n",
    "\n",
    "$$\n",
    "| W_n \\rangle = \\frac{1}{\\sqrt{n}} \\left ( | 0\\dots 01 \\rangle + | 0\\dots 10 \\rangle + \\dots + | 1\\dots 00 \\rangle \\right ) \n",
    "$$\n",
    "\n",
    "Where it differs from the $\\text{GHZ}$ state is in its robustness. After a single qubit is measured there is still remaining entanglement among the other qubits. This is not the case in a $\\text{GHZ}$ state. As such, it can be a valuable resource in the implementation of teleportation or quantum memories.\n",
    "\n",
    "If you're interested in a more detailed explanation, then please see Resource [A].\n",
    "\n",
    "For this challenge, we're going to put a slight spin on what's normally asked of you. If you Google \"W state preparation\" you're going to find many examples, such as those in Resource [B]. Instead of a straight-forward analytical approach to solving this challenge, we ask you to implement a solution using a [variational quantum algorithm (VQA)](https://www.mustythoughts.com/vqas-how-do-they-work). Which one? That is up to you.\n",
    "\n",
    "**Warm up:** If you're new to state preparation, then as a warm up start by creating the $|\\Phi^+\\rangle$ and $|\\text{GHZ}\\rangle$ states above without the use of a VQA.\n",
    "\n",
    "**Level 1:** Use a VQA to create a 4-qubit $\\text{W}$ state.\n",
    "\n",
    "**Level 2:** Generalize the program to create an $n$-qubit $\\text{W}$ state.\n",
    "\n",
    "**Level 3:** Adjust your VQA to have it not introduce any global phase (NOTE: this implies that we're using a simulator since you wouldn't be able to determine global phase on actual hardware).\n",
    "\n",
    "**Bonus:** If you're enjoying this challenge, then you may also like to try implementing the approach in Reference [1].\n",
    "\n",
    "**Resources**\n",
    "\n",
    "[A] IBM Quantum Composer Docs: Field Guide on Entaglement. https://quantum-computing.ibm.com/composer/docs/iqx/guide/entanglement#w-states-vs-ghz-states  \n",
    "[B] Stack Exchange: General construction of $\\text{W}_n$-state. https://quantumcomputing.stackexchange.com/questions/4350/general-construction-of-w-n-state  \n",
    "\n",
    "**References**\n",
    "\n",
    "[1] Efficient quantum algorithms for GHZ and W states, and implementation on the IBM quantum computer. Diogo Cruz, et. al. https://arxiv.org/pdf/1807.05572.pdf  \n",
    "\n",
    "\n",
    "_Special thanks to Diego Emilio Serrano for the idea, who also credits Soham Pal_"
   ]
  },
  {
   "cell_type": "code",
   "execution_count": null,
   "metadata": {},
   "outputs": [],
   "source": []
  }
 ],
 "metadata": {
  "kernelspec": {
   "display_name": "Python 3",
   "language": "python",
   "name": "python3"
  },
  "language_info": {
   "codemirror_mode": {
    "name": "ipython",
    "version": 3
   },
   "file_extension": ".py",
   "mimetype": "text/x-python",
   "name": "python",
   "nbconvert_exporter": "python",
   "pygments_lexer": "ipython3",
   "version": "3.9.2"
  }
 },
 "nbformat": 4,
 "nbformat_minor": 4
}
