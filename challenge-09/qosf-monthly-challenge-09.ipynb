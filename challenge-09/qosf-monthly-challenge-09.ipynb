{
 "cells": [
  {
   "cell_type": "markdown",
   "metadata": {},
   "source": [
    "# Challenge 09: Quantum State Tomography\n",
    "\n",
    "[Quantum state tomography](https://en.wikipedia.org/wiki/Quantum_tomography) is the process of reconstructing an unknown quantum state by taking measurements in different bases, and using the result outcomes to estimate its probability amplitides. This is done under the assumption that the same state can be prepared or given to us repeatedly so the process can be performed enough times to build statistical significance. \n",
    "\n",
    "For this challenge, your job is to write a program that performs state tomography for an input state, and also returns the [fidelity](https://en.wikipedia.org/wiki/Fidelity_of_quantum_states) of the predicted outcome with respect to the input quantum state. \n",
    "\n",
    "**Level 1:** Implement a program to perform quantum state tomography for a 1-qubit state. Report the fidelity of the predicted state as function of the number of samples/shots.\n",
    "\n",
    "**Level 2:** Generalize the program to perform quantum state tomography on an n-qubit state. Report the fidelity of the predicted state as function of the number of samples/shots. Keep in mind that you might want to try this for a relatively small number of qubits when you decide to simulate your program. \n",
    "\n",
    "**Level 3:** Instead of trying to reconstructing the state through simple repeated measurements, consider implementing a program that uses variational approach to adjust the parameters of a quantum circuit to reconstruct the unknown state. **Hint**: Consider how using the [SWAP test](https://en.wikipedia.org/wiki/Swap_test) in different measurement bases can help acomplish this [1].\n",
    "\n",
    "**References**\n",
    "\n",
    "[1] Variational Quantum Circuits for Quantum State Tomograph. Yong Liu, et. al. https://arxiv.org/pdf/1912.07286.pdf"
   ]
  },
  {
   "cell_type": "code",
   "execution_count": null,
   "metadata": {},
   "outputs": [],
   "source": []
  }
 ],
 "metadata": {
  "kernelspec": {
   "display_name": "Python 3",
   "language": "python",
   "name": "python3"
  },
  "language_info": {
   "codemirror_mode": {
    "name": "ipython",
    "version": 3
   },
   "file_extension": ".py",
   "mimetype": "text/x-python",
   "name": "python",
   "nbconvert_exporter": "python",
   "pygments_lexer": "ipython3",
   "version": "3.8.5"
  }
 },
 "nbformat": 4,
 "nbformat_minor": 4
}
