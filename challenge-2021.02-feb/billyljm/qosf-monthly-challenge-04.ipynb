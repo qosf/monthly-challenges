{
 "cells": [
  {
   "cell_type": "markdown",
   "metadata": {},
   "source": [
    "# Challenge 04: QOSF MENTORSHIP PROGRAM SCREENING TASKS\n",
    "\n",
    "**Solution done by [Billy.Ljm](https://github.com/BillyLjm/QOSF-Monthly-Challenges)**\n",
    "\n",
    "Since this month coincides with the application window for the QOSF mentorship program, we have decided to make the corresponding screening tasks as the challenge for this month.\n",
    "\n",
    "There are four separate tasks, so please feel free to try them all!\n",
    "\n",
    "### Acknowledgements\n",
    "\n",
    "[Dario Rosa](https://github.com/Dario-Rosa85) was responsible for developing tasks 1 and 2, with suggestions from \n",
    "[Anton Simen](https://github.com/AntonSimen06) to implement the SWAP test for task 1. Dario was also responsible for putting together and reviewing the final document with all four tasks, which can be found [here](https://docs.google.com/document/d/1944peQceYXhRA4Usp6ub_l2ms1xj8mXgseCgWpyBZOA)\n",
    "\n",
    "\n",
    "[Petar Korponaić](https://github.com/perak) was responsible for developing task 3.\n",
    "\n",
    "\n",
    "[Michał Stęchły](https://github.com/mstechly) was responsible for developing task 4.\n",
    "\n",
    "\n",
    "[Diego Emilio Serrano](https://github.com/diemilio) and [Stefano Mangini](https://github.com/stfnmangini) reviewed all tasks, and provided feedback for changes implemented in task 2."
   ]
  },
  {
   "cell_type": "markdown",
   "metadata": {},
   "source": [
    "## Quantum Programming Package  \n",
    "All my solutions are implemented in Xanadu's [PennyLane](https://pennylane.ai/) quantum programming package  "
   ]
  },
  {
   "cell_type": "code",
   "execution_count": 1,
   "metadata": {},
   "outputs": [],
   "source": [
    "import pennylane as qml\n",
    "from pennylane import numpy as np\n",
    "np.set_printoptions(precision=3, suppress=True)\n",
    "\n",
    "import matplotlib.pyplot as plt\n",
    "import networkx as nx"
   ]
  },
  {
   "cell_type": "markdown",
   "metadata": {},
   "source": [
    "## TASK 1\n",
    "\n",
    "The [Swap test](https://en.wikipedia.org/wiki/Swap_test) is a simple quantum circuit which, given two states, allows to compute how much do they differ from each other.\n",
    "\n",
    "1) Provide a variational (also called parametric) circuit which is able to generate the most general 1 qubit state. By most general 1 qubit state we mean that there exists a set of the parameters in the circuit such that any point in the Bloch sphere can be reached. Check that the circuit works correctly by showing that by varying randomly the parameters of your circuit you can reproduce correctly the Bloch sphere.\n",
    "\n",
    "2) Use the circuit built in step 1) and, using the SWAP test, find the best choice of your parameters to reproduce a randomly generated quantum state made with 1 qubit.\n",
    "\n",
    "3) Suppose you are given with a random state, made by N qubits, for which you only know that it is a product state and each of the qubits are in the state | 0 > or | 1>. By product state we mean that it can be written as the product of single qubit states, without the need to do any summation. For example, the state\n",
    "|a> = |01>\n",
    "Is a product state, while the state\n",
    "|b> = |00> + |11>\n",
    "Is not.\n",
    "\n",
    "Perform a qubit by qubit SWAP test to reconstruct the state. This part of the problem can be solved via a simple grid search."
   ]
  },
  {
   "cell_type": "markdown",
   "metadata": {},
   "source": [
    "### Task 1.1\n",
    "The most general rotation, which can transform between any two arbitrary single qubit states, is $RZ(\\omega) RY(\\phi) RZ(\\theta)$ *(or similar)*  \n",
    "\n",
    "This can be proven by noting that the product of those rotations can realise any unitary $2 \\times 2$ matrix  \n",
    "\n",
    "$$\n",
    "RZ(\\omega) RY(\\phi) RZ(\\theta)\n",
    "= \\left(\\begin{array}{cc}\n",
    "e^{-i(\\theta+\\omega)/2} \\cos(\\phi/2) & -e^{-i(\\theta-\\omega)/2} \\sin(\\phi/2) \\\\\n",
    "e^{-i(\\theta-\\omega)/2} \\sin(\\phi/2) & e^{i(\\theta+\\omega)/2} \\cos(\\phi/2) \\\\\n",
    "\\end{array}\\right)\n",
    "$$\n",
    "\n",
    "Alternatively, it can be thought of geometrically as any point on Bloch sphere requiring a zenith and an azimuthal rotation.  \n",
    "However, the zenith rotation might need to be a $RX$ (or $RY$) if the initial state is along the $X$ (or $Y$) axis.  \n",
    "Thus, we can choose to add an extra $RZ$ to rotate the initial state away from the axes.   "
   ]
  },
  {
   "cell_type": "code",
   "execution_count": 2,
   "metadata": {},
   "outputs": [],
   "source": [
    "def qubit_rot(theta, phi, omega, wires):\n",
    "    \"\"\"arbritrary single-qubit rotation of RZ(omega)RY(phi)RZ(theta)\"\"\"\n",
    "    qml.RZ(theta, wires=wires)\n",
    "    qml.RY(phi, wires=wires)\n",
    "    qml.RZ(omega, wires=wires)"
   ]
  },
  {
   "cell_type": "markdown",
   "metadata": {},
   "source": [
    "### Task 1.2\n",
    "To reproduce an unknown single-qubit state, one can simply apply `qubit_rot` on another qubit with very specific parameters.  \n",
    "These parameters can be variationally approximated by maximising the state overlap, measured via a swap test, between the two qubits.  \n",
    "These would result in the following parametrised quantum circuit.  "
   ]
  },
  {
   "cell_type": "code",
   "execution_count": 3,
   "metadata": {},
   "outputs": [
    {
     "name": "stdout",
     "output_type": "stream",
     "text": [
      " 0: ──H────────────────────╭C─────H──┤ ⟨Z⟩ \n",
      " 1: ──RZ(0)──RY(1)──RZ(2)──├SWAP─────┤     \n",
      " 2: ───────────────────────╰SWAP─────┤     \n",
      "\n"
     ]
    }
   ],
   "source": [
    "def swap_test(params, wires):\n",
    "    \"\"\"Rotates wires[1] with params, and measures its state overlap with wires[2]\"\"\"\n",
    "    # try single qubit rotation\n",
    "    qubit_rot(*params, wires=wires[1])\n",
    "    # do swap test\n",
    "    qml.Hadamard(wires=wires[0])\n",
    "    qml.CSWAP(wires=wires)\n",
    "    qml.Hadamard(wires=wires[0])\n",
    "    return qml.expval(qml.PauliZ(wires[0]))\n",
    "\n",
    "# draw circuit\n",
    "dev3 = qml.device('default.qubit', wires=3)\n",
    "circuit = qml.QNode(lambda x: swap_test(x, wires=range(3)), dev3)\n",
    "circuit([0,1,2])\n",
    "print(circuit.draw())"
   ]
  },
  {
   "cell_type": "markdown",
   "metadata": {},
   "source": [
    "To demonstrate that the above approach works, I'll apply `qubit_rot` on $|0\\rangle$ with a set of random parameters to generate the random quantum states.  \n",
    "The resulting \"unknown\" state will be of the form below (with a negligible global phase $\\theta$).  \n",
    "\n",
    "$$\n",
    "RZ(\\omega) RY(\\phi) RZ(\\theta) \\left(\\begin{array}{c} 1 \\\\ 0 \\end{array}\\right)\n",
    "= e^{-i\\theta} \\left(\\begin{array}{c}\n",
    "e^{-i\\omega/2} \\cos(\\phi/2)\\\\\n",
    "e^{i\\omega/2} \\sin(\\phi/2)\\\\\n",
    "\\end{array}\\right)\n",
    "$$\n",
    "\n",
    "I'll then apply the parametrised `swap_test` circuit above to the unknown qubit, and variationally optimise it.  \n",
    "This would ultimately yield a set of parameters for `qubit_rot` which reproduces the unknown quantum state, up to a arbitrary global phase $\\theta$.  "
   ]
  },
  {
   "cell_type": "code",
   "execution_count": 4,
   "metadata": {},
   "outputs": [
    {
     "name": "stdout",
     "output_type": "stream",
     "text": [
      "copied params:  [3.27  5.976 6.058]\n",
      " copied state:  [ 0.982+0.111j -0.152+0.017j]\n",
      "initial state:  [ 0.981+0.122j -0.152+0.019j]\n"
     ]
    }
   ],
   "source": [
    "# unknown state to copy\n",
    "ans = np.random.rand(3) * 4 * np.pi\n",
    "\n",
    "# combined quantum circuit\n",
    "@qml.qnode(dev3)\n",
    "def circuit(params):\n",
    "    qubit_rot(*ans, wires=(2))\n",
    "    return swap_test(params, wires=(0,1,2))\n",
    "\n",
    "# cost function\n",
    "def cost(params):\n",
    "    return -circuit(params)\n",
    "\n",
    "# varitionally optimise\n",
    "opt = qml.GradientDescentOptimizer(0.1)\n",
    "params = np.random.rand(3) * 4 * np.pi\n",
    "for _ in range(1000):\n",
    "    params = opt.step(cost, params)\n",
    "    \n",
    "print(\"copied params: \", params)\n",
    "\n",
    "# print copied state\n",
    "copied = np.zeros((2), dtype=complex)\n",
    "copied[0] = np.exp(-1j*params[2]/2) * np.cos(params[1]/2)\n",
    "copied[1] = np.exp(1j*params[2]/2) * np.sin(params[1]/2)\n",
    "print(\" copied state: \", copied)\n",
    "\n",
    "# print initial state\n",
    "unknown = np.zeros((2), dtype=complex)\n",
    "unknown[0] = np.exp(-1j*ans[2]/2) * np.cos(ans[1]/2)\n",
    "unknown[1] = np.exp(1j*ans[2]/2) * np.sin(ans[1]/2)\n",
    "print(\"initial state: \", unknown)"
   ]
  },
  {
   "cell_type": "markdown",
   "metadata": {},
   "source": [
    "### Task 1.3\n",
    "Since the unknown qubits are untangled (e.g. $|01001\\rangle$, $|0+010-\\rangle$), we can simply copy each qubit one by one like in task 1.2  \n",
    "This entails iterating through each unknown qubit and applying the code above, until the `qubit_rot` parameters for each are found.  \n",
    "The modifications should be pretty straightforward, and are not explicitly implemented here.  "
   ]
  },
  {
   "cell_type": "markdown",
   "metadata": {},
   "source": [
    "## TASK 2\n",
    "\n",
    "The bit-flip code and the sign-flip code (you can find a description of both [here](https://en.wikipedia.org/wiki/Quantum_error_correction)) are two very simple circuits able to detect and fix the bit-flip and the sign-flip errors, respectively.\n",
    "\n",
    "1) Build the following simple circuit to prepare the Bell state:\n",
    "\n",
    "<img src=\"images/error_correction.png\" width = 300/>\n",
    "\n",
    "2) Now add, right before the CNOT gate and for each of the two qubits, an arbitrary “error gate”. By error gate we mean that with a certain probability (that you can decide but must be non-zero for all the choices) you have a 1 qubit unitary which can be either the identity, or the X gate (bit-flip error) or the Z gate (sign-flip error).\n",
    "\n",
    "3) Encode each of the two qubits with a sign-flip or a bit-flip code, in such a way that all the possible choices for the error gates described in 2), occurring on the logical qubits, can be detected and fixed. Motivate your choice. This is the most non-trivial part of the problem, so do it with a lot of care!\n",
    "\n",
    "4) Test your solution by making many measurements over the final state and testing that the results are in line with the expectations."
   ]
  },
  {
   "cell_type": "markdown",
   "metadata": {},
   "source": [
    "### Task 1.1\n",
    "Implementing the bell state preparation circuit,  "
   ]
  },
  {
   "cell_type": "code",
   "execution_count": 5,
   "metadata": {},
   "outputs": [
    {
     "name": "stdout",
     "output_type": "stream",
     "text": [
      " 0: ──H──╭C──╭┤ Probs \n",
      " 1: ─────╰X──╰┤ Probs \n",
      "\n",
      "measured state:  [0.5 0.  0.  0.5]\n"
     ]
    }
   ],
   "source": [
    "dev2 = qml.device('default.qubit', wires=2)\n",
    "\n",
    "@qml.qnode(dev2)\n",
    "def bell_state():\n",
    "    \"\"\"prepares and measures a bell state\"\"\"\n",
    "    qml.Hadamard(wires=(0))\n",
    "    qml.CNOT(wires=(0,1))\n",
    "    return qml.probs(wires=(0,1))\n",
    "\n",
    "result = bell_state()\n",
    "print(bell_state.draw())\n",
    "print(\"measured state: \", result)"
   ]
  },
  {
   "cell_type": "markdown",
   "metadata": {},
   "source": [
    "### Task 1.2\n",
    "Adding a bit-flip error before the CNOT, we can see that the circuit no longer accurately prepares the desired bell state.  \n",
    "\n",
    "In this specific case, flipping the first qubit gives a phase error which wouldn't show in our measurements,  \n",
    "But flipping the second qubit gives prepare the incorrect $|01\\rangle + |10\\rangle$ state, as evident in our measurement.  "
   ]
  },
  {
   "cell_type": "code",
   "execution_count": 6,
   "metadata": {},
   "outputs": [
    {
     "name": "stdout",
     "output_type": "stream",
     "text": [
      " 0: ──H──X──╭C──╭┤ Probs \n",
      " 1: ──X─────╰X──╰┤ Probs \n",
      "\n",
      "measured state:  [0.  0.5 0.5 0. ]\n"
     ]
    }
   ],
   "source": [
    "dev2 = qml.device('default.qubit', wires=2)\n",
    "\n",
    "@qml.qnode(dev2)\n",
    "def bell_state_error():\n",
    "    \"\"\"prepares and measures a bell state\"\"\"\n",
    "    # half bell-state prep\n",
    "    qml.Hadamard(wires=(0))\n",
    "    # bit flip error\n",
    "    qml.PauliX(wires=(0))\n",
    "    qml.PauliX(wires=(1))\n",
    "    # finish bell-state prerp\n",
    "    qml.CNOT(wires=(0,1))\n",
    "    return qml.probs(wires=(0,1))\n",
    "\n",
    "result = bell_state_error()\n",
    "print(bell_state_error.draw())\n",
    "print(\"measured state: \", result)"
   ]
  },
  {
   "cell_type": "markdown",
   "metadata": {},
   "source": [
    "### Task 1.3\n",
    "Encoding the qubits using a bit flip code, and decoding immediately after the error occurs,  \n",
    "We can see that the redundant encoding can indeed correct errors occurring on 1 out of the 3 qubits in each redundant register  "
   ]
  },
  {
   "cell_type": "code",
   "execution_count": 7,
   "metadata": {},
   "outputs": [
    {
     "name": "stdout",
     "output_type": "stream",
     "text": [
      " 0: ──╭C──────╭C──H───X──╭C──╭C──╭X──────────╭C──╭┤ Probs \n",
      " 1: ──╰X───H──│──────────╰X──│───├C──────╭C──│───│┤       \n",
      " 2: ──────────╰X──H──────────╰X──╰C──╭C──│───│───│┤       \n",
      " 3: ──╭C──╭C──────X──╭C──╭C──╭X──────│───│───╰X──╰┤ Probs \n",
      " 4: ──╰X──│──────────╰X──│───├C──────│───╰X───────┤       \n",
      " 5: ──────╰X─────────────╰X──╰C──────╰X───────────┤       \n",
      "\n",
      "measured state:  [0.5 0.  0.  0.5]\n"
     ]
    }
   ],
   "source": [
    "dev6 = qml.device('default.qubit', wires=6)\n",
    "\n",
    "@qml.qnode(dev6)\n",
    "def bell_state_code():\n",
    "    \"\"\"prepares and measures a bell state\"\"\"\n",
    "    # bit flip coding\n",
    "    qml.CNOT(wires=(0,1))\n",
    "    qml.CNOT(wires=(0,2))\n",
    "    qml.CNOT(wires=(3,4))\n",
    "    qml.CNOT(wires=(3,5))\n",
    "    # half bell-state prep\n",
    "    qml.broadcast(qml.Hadamard, pattern=\"single\", wires=(0,1,2))\n",
    "    # bit flip error\n",
    "    qml.PauliX(wires=(0))\n",
    "    qml.PauliX(wires=(3))\n",
    "    # bit flip decoding\n",
    "    qml.CNOT(wires=(0,1))\n",
    "    qml.CNOT(wires=(0,2))\n",
    "    qml.Toffoli(wires=(2,1,0))\n",
    "    qml.CNOT(wires=(3,4))\n",
    "    qml.CNOT(wires=(3,5))\n",
    "    qml.Toffoli(wires=(5,4,3))\n",
    "    # finish bell-state prep\n",
    "    qml.broadcast(qml.CNOT, pattern=\"double\", wires=(0,3,1,4,2,5))\n",
    "    return qml.probs(wires=(0,3))\n",
    "\n",
    "result = bell_state_code()\n",
    "print(bell_state_code.draw())\n",
    "print(\"measured state: \", result)"
   ]
  },
  {
   "cell_type": "markdown",
   "metadata": {},
   "source": [
    "However, the decoding has to be applied immediately after the error occurs for the correction to work.  \n",
    "Otherwise the error will quickly propagate into an uncorrectable form as demonstrated below.  "
   ]
  },
  {
   "cell_type": "code",
   "execution_count": 8,
   "metadata": {},
   "outputs": [
    {
     "name": "stdout",
     "output_type": "stream",
     "text": [
      " 0: ──H──X──╭C──╭┤ Probs \n",
      " 1: ──X─────╰X──╰┤ Probs \n",
      "\n",
      "measured state:  [0.  0.5 0.5 0. ]\n"
     ]
    }
   ],
   "source": [
    "@qml.qnode(dev6)\n",
    "def bell_state_wrong():\n",
    "    \"\"\"prepares and measures a bell state\"\"\"\n",
    "    # bit flip coding\n",
    "    qml.CNOT(wires=(0,1))\n",
    "    qml.CNOT(wires=(0,2))\n",
    "    qml.CNOT(wires=(3,4))\n",
    "    qml.CNOT(wires=(3,5))\n",
    "    # half bell-state prep\n",
    "    qml.broadcast(qml.Hadamard, pattern=\"single\", wires=(0,1,2))\n",
    "    # bit flip error\n",
    "    qml.PauliX(wires=(0))\n",
    "    qml.PauliX(wires=(3))\n",
    "    # finish bell-state prep\n",
    "    qml.broadcast(qml.CNOT, pattern=\"double\", wires=(0,3,1,4,2,5))\n",
    "    # bit flip decoding\n",
    "    qml.CNOT(wires=(0,1))\n",
    "    qml.CNOT(wires=(0,2))\n",
    "    qml.Toffoli(wires=(2,1,0))\n",
    "    qml.CNOT(wires=(3,4))\n",
    "    qml.CNOT(wires=(3,5))\n",
    "    qml.Toffoli(wires=(5,4,3))\n",
    "    return qml.probs(wires=(0,3))\n",
    "\n",
    "result = bell_state_error()\n",
    "print(bell_state_error.draw())\n",
    "print(\"measured state: \", result)"
   ]
  },
  {
   "cell_type": "markdown",
   "metadata": {},
   "source": [
    "# TASK 3\n",
    "\n",
    "Learning by doing: the best way to understand the basics of quantum computation is to implement a quantum circuit simulator. This task is suitable both for people from computer sciences who want to learn about quantum computing, and for people from math/physics who want to exercise coding.\n",
    "\n",
    "Detailed description of the task with some learning resources and examples can be found in this [jupyter notebook](https://github.com/quantastica/qosf-mentorship/blob/master/qosf-simulator-task.ipynb)\n",
    "\n",
    "It is expected that simulator can perform following:\n",
    "- initialize state\n",
    "- read program, and for each gate:\n",
    "    - calculate matrix operator\n",
    "    - apply operator (modify state)\n",
    "- perform multi-shot measurement of all qubits using weighted random technique"
   ]
  },
  {
   "cell_type": "markdown",
   "metadata": {},
   "source": [
    "### My Approach\n",
    "My code tracks the state vector of the entire quantum register for the Clifford + T gate set  "
   ]
  },
  {
   "cell_type": "code",
   "execution_count": 9,
   "metadata": {},
   "outputs": [
    {
     "name": "stdout",
     "output_type": "stream",
     "text": [
      "gates:  ['H(1)', 'CNOT(1,0)']\n",
      "state:  [0.707+0.j 0.   +0.j 0.   +0.j 0.   +0.j 0.   +0.j 0.   +0.j 0.707+0.j\n",
      " 0.   +0.j]\n",
      "measure:  [47.  0.  0.  0.  0.  0. 53.  0.]\n"
     ]
    }
   ],
   "source": [
    "class QuantumCircuit:\n",
    "    def __init__(self, nqubits):\n",
    "        \"\"\"initialise a qubit regsiter of nqubits size to |000...>\"\"\"\n",
    "        self.state = np.zeros(2**nqubits, dtype='complex')\n",
    "        self.state[0] = 1\n",
    "        self.gates = []\n",
    "\n",
    "    def H(self, index):\n",
    "        \"\"\"applies Hadamard gate on specified qubit index\"\"\"\n",
    "        op = 1/np.sqrt(2) * np.array([[1,1],[1,-1]])\n",
    "        op = np.kron(np.identity(2**index), op)\n",
    "        op = np.kron(op, np.identity(self.state.shape[0] // 2**(index+1)))\n",
    "        self.state = np.matmul(op, self.state)\n",
    "        self.gates.append('H(%d)' % index)\n",
    "        return self\n",
    "\n",
    "    def S(self, index):\n",
    "        \"\"\"applies phase gate on specified qubit index\"\"\"\n",
    "        op = np.array([[1,0],[0,1j]])\n",
    "        op = np.kron(np.identity(2**index), op)\n",
    "        op = np.kron(op, np.identity(self.state.shape[0] // 2**(index+1)))\n",
    "        self.state = np.matmul(op, self.state)\n",
    "        self.gates.append('S(%d)' % index)\n",
    "        return self\n",
    "\n",
    "    def T(self, index):\n",
    "        \"\"\"applies pi/8 gate on specified qubit index\"\"\"\n",
    "        op = np.array([[1,0],[0,(1+1j)/np.sqrt(2)]])\n",
    "        op = np.kron(np.identity(2**index), op)\n",
    "        op = np.kron(op, np.identity(self.state.shape[0] // 2**(index+1)))\n",
    "        self.state = np.matmul(op, self.state)\n",
    "        self.gates.append('T(%d)' % index)\n",
    "        return self\n",
    "\n",
    "    def CNOT(self, control, target):\n",
    "        \"\"\"applies CNOT gate on control & target qubit index\"\"\"\n",
    "        # generate CNOT array\n",
    "        if control == target:\n",
    "            raise ValueError(\"CNOT(%d->%d) is invalid\" % (contorl, target))\n",
    "        elif control < target:\n",
    "            maxx, minn = target, control\n",
    "            op = np.identity(2**(maxx-minn+1))\n",
    "            for i in range(2**(maxx-minn), 2**(maxx-minn+1), 2):\n",
    "                op[i,i] = 0\n",
    "                op[i,i+1] = 1\n",
    "                op[i+1,i] = 1\n",
    "                op[i+1,i+1] = 0\n",
    "        else: # if control > target\n",
    "            maxx, minn = control, target\n",
    "            op = np.identity(2**(maxx-minn+1))\n",
    "            for i in range(1, 2**(maxx-minn), 2):\n",
    "                j = i + 2**(maxx-minn)\n",
    "                op[i,i] = 0\n",
    "                op[i,j] = 1\n",
    "                op[j,i] = 1\n",
    "                op[j,j] = 0\n",
    "        # pad remaining dimensions\n",
    "        op = np.kron(np.identity(2**(minn)), op)\n",
    "        op = np.kron(op, np.identity(self.state.shape[0] // 2**(maxx+1)))\n",
    "        self.state = np.matmul(op, self.state)\n",
    "        self.gates.append('CNOT(%d,%d)' % (control, target))\n",
    "        return self\n",
    "\n",
    "    def measure(self, shots, noise=True):\n",
    "        \"\"\"measure all qubits with specified number of shots\"\"\"\n",
    "        probs = np.abs(self.state)**2\n",
    "        if noise == False:\n",
    "            return shots * probs\n",
    "        else:\n",
    "            cumsum = 0 # cumultaive probability\n",
    "            results = np.zeros(len(probs)) # measurement results\n",
    "            randarray = np.random.rand(shots) # simulated randomness\n",
    "            for i in range(len(probs)):\n",
    "                if probs[i] > 0:\n",
    "                    indices = np.all([randarray > cumsum, randarray <= cumsum + probs[i]], axis=0)\n",
    "                    results[i] = np.count_nonzero(indices)\n",
    "                    cumsum += probs[i]\n",
    "            return results\n",
    "\n",
    "# simple demonstration\n",
    "a = QuantumCircuit(3)\n",
    "a.H(1)\n",
    "a.CNOT(1,0)\n",
    "result = a.measure(100, noise=True)\n",
    "\n",
    "# print results\n",
    "print(\"gates: \", a.gates)\n",
    "print(\"state: \", a.state)\n",
    "print(\"measure: \", result)"
   ]
  },
  {
   "cell_type": "markdown",
   "metadata": {},
   "source": [
    "We can check that my code works by comparing it against pennylane, with a small random circuit"
   ]
  },
  {
   "cell_type": "code",
   "execution_count": 10,
   "metadata": {},
   "outputs": [
    {
     "name": "stdout",
     "output_type": "stream",
     "text": [
      " 0: ──S───H───S──────────────────────╭C──╭C──────────────────────╭X──T─────────────╭┤ Probs \n",
      " 1: ──T──╭X──╭C──H──╭C──╭X───────────│───╰X──╭C──S──S───S────────│─────────────────├┤ Probs \n",
      " 2: ─────╰C──╰X─────│───╰C──S────────│───────╰X──H──T──╭C──S──H──╰C──T──╭X─────────├┤ Probs \n",
      " 3: ──T───T─────────│───╭X──H──S──H──│─────────────────│────────────────╰C──S──╭C──├┤ Probs \n",
      " 4: ──T───S───H─────╰X──╰C──S──S─────╰X───S────────────╰X──T───────────────────╰X──╰┤ Probs \n",
      "\n",
      "pennylane: [0.053 0.053 0.009 0.009 0.053 0.053 0.009 0.009 0.009 0.009 0.053 0.053\n",
      " 0.009 0.009 0.053 0.053 0.009 0.009 0.053 0.053 0.009 0.009 0.053 0.053\n",
      " 0.053 0.053 0.009 0.009 0.053 0.053 0.009 0.009]\n",
      "my simulator: [0.053 0.053 0.009 0.009 0.053 0.053 0.009 0.009 0.009 0.009 0.053 0.053\n",
      " 0.009 0.009 0.053 0.053 0.009 0.009 0.053 0.053 0.009 0.009 0.053 0.053\n",
      " 0.053 0.053 0.009 0.009 0.053 0.053 0.009 0.009]\n"
     ]
    }
   ],
   "source": [
    "# fixed variables\n",
    "nqubits = 5\n",
    "ngates = 40\n",
    "\n",
    "# generate random gates\n",
    "gates = np.random.choice((\"H\",\"S\",\"T\",\"CNOT\"), size=(ngates)).tolist()\n",
    "gates_bits = np.random.randint(nqubits, size=(ngates, 2)).tolist()\n",
    "for i in range(ngates): # ensure CNOT operates on different qubits\n",
    "    if gates_bits[i][0] == gates_bits[i][1]:\n",
    "        gates_bits[i][0] = (gates_bits[i][0] + 1) % nqubits\n",
    "\n",
    "# pennylane simulation\n",
    "dev = qml.device('default.qubit', wires=nqubits)\n",
    "@qml.qnode(dev)\n",
    "def pennylane_sim():\n",
    "    for i in range(ngates):\n",
    "        if gates[i] == \"H\":\n",
    "            qml.Hadamard(wires=gates_bits[i][:1])\n",
    "        elif gates[i] == \"S\":\n",
    "            qml.S(wires=gates_bits[i][:1])\n",
    "        elif gates[i] == \"T\":\n",
    "            qml.T(wires=gates_bits[i][:1])\n",
    "        else: # gates[i] == \"CNOT\"\n",
    "            qml.CNOT(wires=gates_bits[i])\n",
    "    return qml.probs(wires=range(nqubits))\n",
    "\n",
    "ans = pennylane_sim()\n",
    "print(pennylane_sim.draw())\n",
    "print(\"pennylane:\", ans)\n",
    "\n",
    "# my simulation\n",
    "my_sim = QuantumCircuit(nqubits)\n",
    "for i in range(ngates):\n",
    "    if gates[i] == \"H\":\n",
    "        my_sim.H(gates_bits[i][0])\n",
    "    elif gates[i] == \"S\":\n",
    "        my_sim.S(gates_bits[i][0])\n",
    "    elif gates[i] == \"T\":\n",
    "        my_sim.T(gates_bits[i][0])\n",
    "    else: # gates[i] == \"CNOT\"\n",
    "        my_sim.CNOT(*gates_bits[i])\n",
    "        \n",
    "print(\"my simulator:\", my_sim.measure(1, noise=False))\n",
    "\n"
   ]
  },
  {
   "cell_type": "markdown",
   "metadata": {},
   "source": [
    "# TASK 4\n",
    "\n",
    "The [MaxCut problem](https://en.wikipedia.org/wiki/Maximum_cut) is a well-known optimization problem in which the nodes of a given undirected graph have to be divided in two sets (often referred as the set of “white” and “black” nodes) such that the number of edges connecting a white node with a black node are maximized. The MaxCut problem is a problem on which the QAOA algorithm has proved to be useful (for an explanation of the QAOA algorithm you can read [this blogpost](https://www.mustythoughts.com/quantum-approximate-optimization-algorithm-explained)).\n",
    "\n",
    "At [this link](https://lucaman99.github.io/new_blog/2020/mar16.html) you can find an explicit implementation of the QAOA algorithm to solve the MaxCut problem for the simpler case of an unweighted graph. We ask you to generalize the above code to include also the solution for the case of weighted graphs. You can use the same code or you can also do an alternative implementation using, for example, qiskit. The important point is that you do not make use of any built-in QAOA functionalities."
   ]
  },
  {
   "cell_type": "markdown",
   "metadata": {},
   "source": [
    "## My approach\n",
    "\n",
    "The objective function to be maximised is\n",
    "$$H_C = \\sum_{e \\ \\in \\ \\text{edges}} \\frac{1}{2} w_e (1 - Z_{e_1} Z_{e_2})$$\n",
    "\n",
    "Thus, the cost layer for QAOA can be acheived via\n",
    "$$\\begin{aligned}\n",
    "U_C(\\gamma) \n",
    "&= e^{-i H_C} = e^{iC} \\prod_e e^{i \\gamma w_e Z_{e_1} Z_{e_2}/2}\\\\\n",
    "&= \\prod_e CNOT(e_1,e_2) R_{}(e_2,\\gamma) CNOT(e_1,e_2)\n",
    "\\end{aligned}$$\n",
    "\n",
    "A simple choice for the non-commuting mixer Hamitlonian would then be  \n",
    "\n",
    "$$\\begin{aligned}\n",
    "&H_M = \\sum_{q \\ \\in \\ \\text{qubits}} X_q\n",
    "&U_M(\\beta) = \\prod_q e^{-i (2 \\beta) X_q/2} = \\prod_q RX(q, 2\\beta)\n",
    "\\end{aligned}$$\n",
    "\n",
    "These Hamiltonians will be implemented in PennyLane, and maximised via their built-in functions.  \n",
    "\n",
    "---\n",
    "\n",
    "First, we'll generate a random graph to find maxcut over"
   ]
  },
  {
   "cell_type": "code",
   "execution_count": 11,
   "metadata": {},
   "outputs": [
    {
     "name": "stdout",
     "output_type": "stream",
     "text": [
      "edges: [[0, 1], [0, 2], [0, 4], [1, 2], [1, 3], [1, 4], [3, 4]]\n",
      "weights: [0.344, 0.145, 0.715, 0.246, 0.926, 0.144, 0.768]\n"
     ]
    }
   ],
   "source": [
    "# fixed variables\n",
    "nqubits = 5\n",
    "maxedges = 10\n",
    "\n",
    "# randomly generate edges\n",
    "edges = np.random.randint(nqubits, size=(maxedges,2))\n",
    "edges = np.sort(edges, axis=1)\n",
    "edges = np.unique(edges, axis=0)\n",
    "for i in range(nqubits): # delete edges like (3,3)\n",
    "    edges = edges[np.invert(np.all(edges == i, axis=1))]\n",
    "edges = edges.tolist()\n",
    "\n",
    "# randomly weight edges\n",
    "weights = np.round(np.random.rand(len(edges)), 3)\n",
    "weights = weights.tolist()\n",
    "\n",
    "# print result\n",
    "print(\"edges:\", edges)\n",
    "print(\"weights:\", weights)"
   ]
  },
  {
   "cell_type": "markdown",
   "metadata": {},
   "source": [
    "Next, we'll use QAOA to maximise the cut"
   ]
  },
  {
   "cell_type": "code",
   "execution_count": 12,
   "metadata": {},
   "outputs": [
    {
     "name": "stdout",
     "output_type": "stream",
     "text": [
      "maxcut: 01001\n"
     ]
    }
   ],
   "source": [
    "# fixed varaibles\n",
    "nlayers = 2\n",
    "niters = 300\n",
    "\n",
    "dev = qml.device('default.qubit', wires=nqubits)\n",
    "\n",
    "def cost_layer(gamma):\n",
    "    \"\"\"QAOA max-cut cost layer\"\"\"\n",
    "    for i in range(len(edges)):\n",
    "        qml.CNOT(wires = edges[i])\n",
    "        qml.RZ(gamma * weights[i], wires = (edges[i][1]))\n",
    "        qml.CNOT(wires = edges[i])\n",
    "\n",
    "def mixer_layer(beta):\n",
    "    \"\"\"QAOA max-cut mixer layer\"\"\"\n",
    "    qml.broadcast(qml.RX, pattern=\"single\", wires=range(nqubits), parameters=[2*beta]*nqubits)\n",
    "\n",
    "def qaoa_layer(gamma, beta):\n",
    "    \"\"\"QAOA max-cut cost & mixer layer\"\"\"\n",
    "    cost_layer(gamma)\n",
    "    mixer_layer(beta)\n",
    "\n",
    "@qml.qnode(dev)\n",
    "def circuit(gamma, beta):\n",
    "    \"\"\"QAOA max-cut quantum circuit\"\"\"\n",
    "    qml.broadcast(qml.Hadamard, pattern=\"single\", wires=range(nqubits))\n",
    "    qml.layer(qaoa_layer, len(gamma), gamma, beta)\n",
    "    return qml.probs(wires=range(nqubits))\n",
    "\n",
    "def objective(params):\n",
    "    \"\"\"QAOA max-cut objective function (to be minimised)\"\"\"\n",
    "    objective = 0\n",
    "    probs = circuit(params[0], params[1])\n",
    "    for i in range(len(probs)):\n",
    "        bitstr = format(i, '0%db' % nqubits)\n",
    "        for j in range(len(edges)):\n",
    "            if bitstr[edges[j][0]] != bitstr[edges[j][1]]:\n",
    "                objective += probs[i] * weights[j]\n",
    "    return -objective\n",
    "\n",
    "# varitionally minimise cost_fn\n",
    "opt = qml.GradientDescentOptimizer()\n",
    "params = np.random.rand(2, nlayers)\n",
    "for _ in range(niters):\n",
    "    params = opt.step(objective, params)\n",
    "#     # print progress\n",
    "#     if _ % 20 == 0:\n",
    "#         print(\"iter %d: %.3f\" % (_, objective(params)))\n",
    "\n",
    "# extract maxcut classification\n",
    "maxcut = circuit(params[0], params[1])\n",
    "maxcut = format(np.argmax(maxcut), '0%db' % nqubits)\n",
    "print(\"maxcut:\", maxcut)"
   ]
  },
  {
   "cell_type": "markdown",
   "metadata": {},
   "source": [
    "Finally, we can draw the calssified graph to manually verify our result"
   ]
  },
  {
   "cell_type": "code",
   "execution_count": 13,
   "metadata": {},
   "outputs": [
    {
     "data": {
      "image/png": "[encoded data removed]",
      "text/plain": [
       "<Figure size 432x288 with 1 Axes>"
      ]
     },
     "metadata": {},
     "output_type": "display_data"
    }
   ],
   "source": [
    "colormap = [\"#55CCFF\", \"#FF8800\"]\n",
    "\n",
    "# create networkx graph\n",
    "G = nx.Graph()\n",
    "for i in range(nqubits):\n",
    "    G.add_node(i, color = colormap[int(maxcut[i])])\n",
    "for i in range(len(edges)):\n",
    "    G.add_edge(edges[i][0], edges[i][1], weight = weights[i])\n",
    "\n",
    "# draw networkx\n",
    "pos = nx.circular_layout(G)\n",
    "color = nx.get_node_attributes(G, \"color\")\n",
    "labels = nx.get_edge_attributes(G, \"weight\")\n",
    "nx.draw(G, pos, node_color=color.values(), with_labels=True)\n",
    "nx.draw_networkx_edge_labels(G, pos, edge_labels=labels);"
   ]
  }
 ],
 "metadata": {
  "kernelspec": {
   "display_name": "Python 3",
   "language": "python",
   "name": "python3"
  },
  "language_info": {
   "codemirror_mode": {
    "name": "ipython",
    "version": 3
   },
   "file_extension": ".py",
   "mimetype": "text/x-python",
   "name": "python",
   "nbconvert_exporter": "python",
   "pygments_lexer": "ipython3",
   "version": "3.7.9"
  }
 },
 "nbformat": 4,
 "nbformat_minor": 4
}
