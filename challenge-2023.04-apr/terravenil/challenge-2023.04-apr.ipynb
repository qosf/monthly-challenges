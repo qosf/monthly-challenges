{
 "cells": [
  {
   "cell_type": "markdown",
   "metadata": {},
   "source": [
    "# Challenge: QUBO\n",
    "\n",
    "\n",
    "[<img src=\"https://qbraid-static.s3.amazonaws.com/logos/Launch_on_qBraid_white.png\" width=\"150\">](https://account.qbraid.com?gitHubUrl=https://github.com/qosf/monthly-challenges.git)\n",
    "\n",
    "\n",
    "Quantum computing is used extensively for modelling and solving combinatorial optimisation issues. The purpose of this is to find a problem with binary clauses where the amount of states is immense and, in order to uncover the correct answers, quantum computing produces algorithms of NP-complexity. On the other hand, in quantum computing, we are interested in representing such a model in a quantum circuit and being able to find the optimal states that satisfy the cost function using a classical optimizer.\n",
    "\n",
    "Multiple companies work around computers and generate an SDK that can generate quantum circuits, in this challenge, we focus on a fundamental step of the Quantum Approximate Optimization Algorithm (QAOA) algorithm, before starting the quantum part one must model a problem in terms of 0 and 1 and convert it into a Quadratic unconstrained binary optimization (QUBO) and this convert it to an Ising model to find the optimal states. To validate the model one makes use of OpenQAOA, an SDK focused on circuitry of the QAOA algorithm. If you want to know more about this SDK you can check the following link https://openqaoa.entropicalabs.com/ \n",
    "\n",
    "### Note \n",
    "\n",
    "To run on real QPU and simulators use  [qbraid](https://account.qbraid.com/) and send them a dm on their [discord server](https://discord.gg/S99GJBfr) to get credits!"
   ]
  },
  {
   "cell_type": "markdown",
   "metadata": {},
   "source": [
    "## The Knapsack problem\n",
    "\n",
    "\n",
    "This challenge is based on the hybrid algorithm QAOA which is based on a variational circuit which will be modified to find the minimum energy by means of a classical optimizer and from the states with the highest probability we will have at least one state that satisfies the conditions of the cost function we use, being based on the knapsack problem.\n",
    "\n",
    "![QAOA](images/QAOA.png)\n",
    "<center>Figure 1. General quantum circuit of QAOA </center>\n",
    "\n",
    "\n",
    "\n",
    "The knapsack problem asks us to find a combination of items such that the total weight is within the capacity of the knapsack and maximize the total value of the items. The Knapsack problem is the simplest nontrivial integer programming model with binary variables, only one constraint and only positive coefficients. \n",
    "\n",
    "It is formally defined as follows: We are given an instance of the knapsack problem with the set of items  $N^{\\prime}=\\{1, \\ldots, N\\}$, consisting of $N$ items, the $j$-th with profit $p_{j}$ and weight $w_{j}$, and the capacity value $W$. Then, the objective is to select a subset of $N^{\\prime}$ such that the total profit of the selected items is maximized and the total weight does not exceed $W$.\n",
    "$$\n",
    "\\begin{aligned}\n",
    "\\operatorname{maximizar} & \\sum_{j=1}^{N} p_{j} x_{j} \\\\\n",
    "\\text { sujeto a } & \\sum_{j=1}^{N} w_{j} x_{j} \\leq W \\\\\n",
    "& x_{j} \\in\\{0,1\\}, \\quad j=1, \\ldots, N\n",
    "\\end{aligned}\n",
    "$$\n",
    "Let us denote the optimal solution vector by $x^{*}=\\left(x_{i}^{*}, \\ldots, x_{N}^{*}\\right)$ y el valor de solución óptima por $z^{*}$ and the optimal solution value by $z^{*}$. The set $X^{*}$ denotes the optimal solution set, i.e., the set of elements corresponding to the optimal solution vector."
   ]
  },
  {
   "cell_type": "markdown",
   "metadata": {},
   "source": [
    "![knapsack problem](images/knapsack_model.png)\n",
    "<center>Figure 2. Representation of the knapsack model </center>\n",
    "\n",
    "\n",
    "### Resources\n",
    "\n",
    "For some guidelines on the objective of this challenge and its passage to a quantum circuit you can consult the following sources, including the original paper explaining this algorithm, as well as some tutorials from different frameworks.\n",
    "\n",
    "[1] Edward Farhi and Jeffrey Goldstone. (2014). A Quantum Approximate Optimization Algorithm [[4028]](https://arxiv.org/pdf/1411.4028.pdf).\n",
    "\n",
    "[2] [Qiskit Code](https://learn.qiskit.org/course/ch-applications/solving-combinatorial-optimization-problems-using-qaoa).\n",
    "\n",
    "[3] [Qiskit Application](https://github.com/qiskit-community/ibm-quantum-challenge-fall-2021/blob/main/solutions-by-authors/challenge-4/challenge-4.ipynb)\n",
    "\n",
    "[4] [Pennylane Tutorial](https://pennylane.ai/qml/demos/tutorial_qaoa_intro.html)\n",
    "\n",
    "[5] [Pyquil Tutorial](https://grove-docs.readthedocs.io/en/latest/qaoa.html)\n",
    "\n",
    "[6] [QUBO's tutorial paper](https://arxiv.org/pdf/1811.11538.pdf)\n"
   ]
  },
  {
   "cell_type": "markdown",
   "metadata": {},
   "source": [
    "## Using OpenQAOA\n",
    "\n",
    "Considering the examples based on OpenQAOA, we already have different classes and methods that facilitate the construction of quantum circuits, but how to generate a QUBO we will rely on docplex. For more information on QAOA examples and how to generate QUBOs, please click [here](https://github.com/entropicalabs/openqaoa/tree/main/examples)."
   ]
  },
  {
   "cell_type": "code",
   "execution_count": null,
   "metadata": {},
   "outputs": [],
   "source": [
    "%matplotlib notebook\n",
    "\n",
    "# Import external libraries to present an manipulate the data\n",
    "import numpy as np\n",
    "import matplotlib.pyplot as plt\n",
    "import pandas as pd\n",
    "\n",
    "# Import docplex model to generate the problem to optimize\n",
    "from docplex.mp.model import Model\n",
    "\n",
    "# Import the libraries needed to employ the QAOA quantum algorithm using OpenQAOA\n",
    "from openqaoa import QAOA\n",
    "\n",
    "# method to covnert a docplex model to a qubo problem\n",
    "from openqaoa.problems.converters import FromDocplex2IsingModel #check this method and properties\n",
    "from openqaoa.backends import create_device\n",
    "\n",
    "# method to find the corrects states for the QAOA boject \n",
    "from openqaoa.utilities import ground_state_hamiltonian"
   ]
  },
  {
   "cell_type": "code",
   "execution_count": null,
   "metadata": {},
   "outputs": [],
   "source": [
    "values =  [3,6,3,4,5]\n",
    "weights = [3,5,6,2,4]\n",
    "max_weight = 13"
   ]
  },
  {
   "cell_type": "code",
   "execution_count": null,
   "metadata": {},
   "outputs": [],
   "source": [
    "def Knapsack(values,weights, max_weight):\n",
    "    \n",
    "    #init a model\n",
    "\n",
    "    # indicate the binary variables \n",
    "\n",
    "    # define the objective function\n",
    "\n",
    "    # add  the constraints\n",
    "    return  #return model, check FromDocplex2IsingModel"
   ]
  },
  {
   "cell_type": "code",
   "execution_count": null,
   "metadata": {},
   "outputs": [],
   "source": [
    "knapsack =  Knapsack(values,weights, max_weight)\n",
    "\n",
    "# Ising encoding of the QUBO problem for binpacking problem\n",
    "\n",
    "\n",
    "# Docplex encoding of the QUBO problem for binpacking problem\n",
    "\n",
    "\n",
    "\n",
    "mdl_qubo_docplex.prettyprint()"
   ]
  },
  {
   "cell_type": "code",
   "execution_count": null,
   "metadata": {},
   "outputs": [],
   "source": [
    "# Initilize the QAOA object\n",
    "qaoa = QAOA()\n",
    "\n",
    "# Set the parameters to work the QAOA algorithm\n",
    "# where n_shots =1024 and  seed_simulator=1\n",
    "\n",
    "\n",
    "#p = 1, a custom type and range from 0 to pi\n",
    "\n",
    "qaoa.compile(ising_encoding)\n",
    "\n",
    "# Run the QAOA algorithm\n",
    "qaoa.optimize()\n",
    "\n",
    "pd.DataFrame(qaoa.result.lowest_cost_bitstrings(5))"
   ]
  },
  {
   "cell_type": "code",
   "execution_count": null,
   "metadata": {},
   "outputs": [],
   "source": [
    "# To find the correct answer using ground_state_hamiltonian\n",
    "# and  the paremeter is a cost_hamiltonian\n",
    "correct_solution = \n",
    "correct_solution"
   ]
  },
  {
   "cell_type": "markdown",
   "metadata": {},
   "source": [
    "Valid your answer using docplex, you can see how to check the classical solution using the following tutorial [here](https://github.com/entropicalabs/openqaoa/blob/main/examples/community_tutorials/02_docplex_example.ipynb) "
   ]
  },
  {
   "cell_type": "code",
   "execution_count": null,
   "metadata": {},
   "outputs": [],
   "source": [
    "## docplex solution\n",
    "sol = mdl_qubo_docplex.solve()\n",
    "mdl_qubo_docplex.print_solution(print_zeros=True)"
   ]
  },
  {
   "cell_type": "markdown",
   "metadata": {},
   "source": [
    "## Part 2: Improve the quantum circuit\n",
    "\n",
    "Perform the same process as above now with the variant of using different backends, p values, and different optimizers until you find the one that can provide the correct answers with the least number of iterations, quantum circuit depth."
   ]
  },
  {
   "cell_type": "code",
   "execution_count": null,
   "metadata": {},
   "outputs": [],
   "source": [
    "## implementation\n",
    "\n",
    "# Initilize the QAOA object and use a device\n",
    "device = create_device(\"local\", 'qiskit.qasm_simulator')\n",
    "\n",
    "\n",
    "qaoa = QAOA(device)\n",
    "\n",
    "# Set the parameters to work the QAOA algorithm\n",
    "# play with the parameters values\n",
    "\n",
    "\n",
    "# Run the QAOA algorithm\n",
    "qaoa.optimize()\n",
    "\n",
    "pd.DataFrame(qaoa.result.lowest_cost_bitstrings(5))"
   ]
  },
  {
   "cell_type": "markdown",
   "metadata": {},
   "source": [
    "## Part 3: Noise Model\n",
    "\n",
    "The optimal combination that you found with the best optimizer, the lowest number of p's and the correct answer, can give the same answer with noise, use the circuit with a noise model and identify if it gives the same answer."
   ]
  },
  {
   "cell_type": "code",
   "execution_count": null,
   "metadata": {},
   "outputs": [],
   "source": [
    "## implementation using a noise model using qiskit \n",
    "\n",
    "## implementation\n",
    "\n",
    "# Initilize the QAOA object\n",
    "\n",
    "## real hardware\n",
    "from qiskit.providers.fake_provider import FakeVigo\n",
    "from qiskit.providers.aer.noise import NoiseModel\n",
    "from qiskit.providers.aer import QasmSimulator\n",
    "\n",
    "\n",
    "device = create_device(\"local\", 'qiskit.qasm_simulator')\n",
    "qaoa = QAOA(device)\n",
    "\n",
    "# Set the parameters to work the QAOA algorithm\n",
    "\n",
    "\n",
    "qaoa.compile(ising_encoding)\n",
    "\n",
    "# Run the QAOA algorithm\n",
    "qaoa.optimize()\n",
    "\n",
    "pd.DataFrame(qaoa.result.lowest_cost_bitstrings(5))"
   ]
  },
  {
   "cell_type": "markdown",
   "metadata": {},
   "source": [
    "## Part 4: New approach\n",
    "\n",
    "There is a heuristic given by the following [paper](https://arxiv.org/pdf/2211.13914.pdf), try to implement it and identify if it can give the same result"
   ]
  },
  {
   "cell_type": "code",
   "execution_count": null,
   "metadata": {},
   "outputs": [],
   "source": [
    "\n",
    "def KnapsackNewApproach(values,weights, max_weight):\n",
    "\n",
    "\n",
    " # indicate the binary variables \n",
    "\n",
    " # define the objective function\n",
    "\n",
    " # add  the constraints\n",
    "    \n",
    "    # new changes\n",
    "    return  #return model and check the method FromDocplex2IsingModel and their parameters"
   ]
  },
  {
   "cell_type": "code",
   "execution_count": null,
   "metadata": {},
   "outputs": [],
   "source": [
    "knapsack_new =  KnapsackNewApproach(values,weights, max_weight)\n",
    "\n",
    "# Ising encoding of the QUBO problem for binpacking problem\n",
    "ising_encoding_new = knapsack_new.ising_model \n",
    "\n",
    "# Docplex encoding of the QUBO problem for binpacking problem\n",
    "mdl_qubo_docplex_new = knapsack_new.qubo_docplex\n",
    "mdl_qubo_docplex_new.prettyprint()"
   ]
  },
  {
   "cell_type": "code",
   "execution_count": null,
   "metadata": {},
   "outputs": [],
   "source": [
    "## implementation\n",
    "## implementation using a noise model using qiskit \n",
    "\n",
    "## implementation\n",
    "\n",
    "# Initilize the QAOA object\n",
    "\n",
    "\n",
    "device = create_device(\"local\", 'qiskit.qasm_simulator')\n",
    "qaoa_new = QAOA(device)\n",
    "\n",
    "# Set the parameters to work the QAOA algorithm\n",
    "\n",
    "qaoa_new.compile(ising_encoding_new)\n",
    "\n",
    "# Run the QAOA algorithm\n",
    "qaoa_new.optimize()\n",
    "\n",
    "pd.DataFrame(qaoa_new.result.lowest_cost_bitstrings(5))"
   ]
  },
  {
   "cell_type": "code",
   "execution_count": null,
   "metadata": {},
   "outputs": [],
   "source": [
    "correct_solution = \n",
    "correct_solution"
   ]
  },
  {
   "cell_type": "code",
   "execution_count": null,
   "metadata": {},
   "outputs": [],
   "source": [
    "## docplex solution\n",
    "sol = mdl_qubo_docplex_new.solve()\n",
    "mdl_qubo_docplex_new.print_solution(print_zeros=True)"
   ]
  },
  {
   "cell_type": "markdown",
   "metadata": {},
   "source": [
    "## Bonus\n",
    "\n",
    "If you completed the notebook and to arrived at this point, congratulations! You did a great job on learning how to design a QUBO into quantum circuit. Remember that you need an account on qBraid and send us a DM to share the credits and to use a real QPU for this challenge and see the limitation of the NISQ era. You can consider and try to contribute to an important part of the quantum community working in the field of quantum optimization😊"
   ]
  },
  {
   "cell_type": "markdown",
   "metadata": {},
   "source": [
    "# Acknowledgments\n",
    "\n",
    "🎉🎉🎉 Special thanks to entropica Labs  for helping us create this challenge and being able to exploit their SDK, OpenQAOA. If you want to know more about OpenQAOA you will see their [discord channel](discord.gg/ana76wkKBd) 🎉🎉🎉 "
   ]
  }
 ],
 "metadata": {
  "kernelspec": {
   "display_name": "mitiq-qaoa",
   "language": "python",
   "name": "mitiq-qaoa"
  },
  "language_info": {
   "codemirror_mode": {
    "name": "ipython",
    "version": 3
   },
   "file_extension": ".py",
   "mimetype": "text/x-python",
   "name": "python",
   "nbconvert_exporter": "python",
   "pygments_lexer": "ipython3",
   "version": "3.8.8"
  }
 },
 "nbformat": 4,
 "nbformat_minor": 4
}
