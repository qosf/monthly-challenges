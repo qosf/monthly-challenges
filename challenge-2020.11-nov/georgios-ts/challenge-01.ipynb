{
 "cells": [
  {
   "cell_type": "code",
   "execution_count": 1,
   "metadata": {},
   "outputs": [],
   "source": [
    "import numpy as np\n",
    "from numpy import pi\n",
    "\n",
    "from itertools import product\n",
    "\n",
    "from qiskit.circuit import QuantumCircuit, Parameter\n",
    "from qiskit.quantum_info import Operator, Pauli"
   ]
  },
  {
   "cell_type": "markdown",
   "metadata": {},
   "source": [
    "## Diagonal Unitary Composer\n",
    "\n",
    "We write a diagonal unitary as \n",
    "\n",
    "$$ \\Lambda = e^{-i \\frac{\\pi}{2} \\cdot H} $$ \n",
    "where $ H = i \\cdot \\frac{2}{\\pi} \\cdot \\text{log}(U) $. \n",
    "\n",
    "Since $ U $ is diagonal, the hermitian matrix $ H $ is diagonal as well and can be decomposed in terms of pauli matrices $ H = \\sum_k c_k H_k $ where $ H_k $ is a tensor product of just $ I $ and $ \\sigma_z $ operators. This turns out to be a very useful property, since all $ H_k $ terms commute and we can calculate:\n",
    "\n",
    "$$ \\Lambda = e^{-i \\frac{\\pi}{2} \\cdot \\sum_k c_k H_k} = \\prod_k e^{-i \\frac{\\pi}{2} \\cdot c_k H_k} $$\n",
    "\n",
    "All that's left to do is find a decomposition of unitary $ U = e^{-i \\frac{\\phi}{2} (Z \\otimes Z)} $ in terms of standard single and two - qubits gates $ Z, R_z $ and $ CX $.\n",
    "\n",
    "But:\n",
    "\n",
    "$$ CX \\cdot (Z \\otimes I) \\cdot CX = (Z \\otimes Z) \\implies CX \\cdot (R_z(\\phi) \\otimes I) \\cdot CX = CX \\cdot e^{-i \\frac{\\phi}{2} (Z \\otimes I)} \\cdot CX = e^{-i \\frac{\\phi}{2} \\cdot CX \\cdot (Z \\otimes I) \\cdot CX} = e^{-i \\frac{\\phi}{2} (Z \\otimes Z)} $$\n",
    "\n",
    "with a straightforward generalization with $ k $ many $ Z $ terms.\n",
    "\n",
    "For example, the following circuit calculates $ U = e^{-i \\frac{\\phi}{2} \\cdot Z \\otimes Z \\otimes Z} $"
   ]
  },
  {
   "cell_type": "code",
   "execution_count": 2,
   "metadata": {},
   "outputs": [
    {
     "data": {
      "image/png": "[encoded data removed]",
      "text/plain": [
       "<Figure size 387.597x204.68 with 1 Axes>"
      ]
     },
     "execution_count": 2,
     "metadata": {},
     "output_type": "execute_result"
    }
   ],
   "source": [
    "phi = Parameter('φ')\n",
    "\n",
    "qc = QuantumCircuit(3)\n",
    "\n",
    "qc.cx(0, 2)\n",
    "qc.cx(1, 2)\n",
    "qc.rz(phi, 2)\n",
    "qc.cx(1, 2)\n",
    "qc.cx(0, 2)\n",
    "\n",
    "qc.draw('mpl')"
   ]
  },
  {
   "cell_type": "markdown",
   "metadata": {},
   "source": [
    "`to_pauli` function decomposes a hermitian diagonal matrix $ H $, with diagonal entries given in a list to save memory,  as a sum of tensor products of $ I $ and $ \\sigma_z $ operators."
   ]
  },
  {
   "cell_type": "code",
   "execution_count": 4,
   "metadata": {},
   "outputs": [],
   "source": [
    "matrices = {'I': np.array([1,   1]), \n",
    "            'Z': np.array([1,  -1])}\n",
    "\n",
    "def _gen_matrix(paulistring):\n",
    "    M = 1\n",
    "    for ps in paulistring:\n",
    "        M = np.kron(M, matrices[ps])\n",
    "        \n",
    "    return M\n",
    "\n",
    "\n",
    "def to_pauli(H):\n",
    "    H = H.real\n",
    "    \n",
    "    # number of qubits\n",
    "    n = int(np.log2(len(H)))\n",
    "    \n",
    "    # sum of paulis\n",
    "    Hp = {}\n",
    "    for label in product('IZ', repeat=n):\n",
    "        label = ''.join(s for s in label)\n",
    "\n",
    "        A = _gen_matrix(label)\n",
    "        coeff = np.sum(A * H) / pow(2, n)\n",
    "        \n",
    "        Hp[label] = coeff if np.abs(coeff) > 1e-5 else 0\n",
    "        \n",
    "    return Hp"
   ]
  },
  {
   "cell_type": "markdown",
   "metadata": {},
   "source": [
    "For example:"
   ]
  },
  {
   "cell_type": "code",
   "execution_count": 6,
   "metadata": {},
   "outputs": [
    {
     "data": {
      "text/plain": [
       "{'II': -1.0, 'IZ': 0, 'ZI': 0, 'ZZ': 1.0}"
      ]
     },
     "execution_count": 6,
     "metadata": {},
     "output_type": "execute_result"
    }
   ],
   "source": [
    "M = [1, -1, -1, 1]\n",
    "M = np.array(M, 'complex')\n",
    "\n",
    "H  = 2j * np.log(M) / np.pi\n",
    "Hp = to_pauli(H)\n",
    "Hp"
   ]
  },
  {
   "cell_type": "markdown",
   "metadata": {},
   "source": [
    "Putting all together:"
   ]
  },
  {
   "cell_type": "code",
   "execution_count": 7,
   "metadata": {},
   "outputs": [],
   "source": [
    "def expz(H, theta):\n",
    "    P = Pauli.from_label(H)\n",
    "    \n",
    "    if np.any(P.x):\n",
    "        print('Invalid input')\n",
    "        return\n",
    "    \n",
    "    qc = QuantumCircuit(P.num_qubits)\n",
    "    qubits, = np.where(P.z)\n",
    "    k = len(qubits)\n",
    "    if k > 0:\n",
    "        \n",
    "        if np.allclose(abs(theta), 1):\n",
    "            \n",
    "            qc.z(list(qubits))\n",
    "            qc.global_phase = - np.sign(theta) * np.pi / 2\n",
    "        \n",
    "        else:\n",
    "            \n",
    "            if abs(theta) % (2 * pi) > 0:\n",
    "                target = qubits[-1]\n",
    "\n",
    "                for q in qubits[:-1]:\n",
    "                    qc.cx(q, target)\n",
    "\n",
    "                qc.rz(theta * np.pi, target)\n",
    "\n",
    "                for q in reversed(qubits[:-1]):\n",
    "                    qc.cx(q, target)\n",
    "    \n",
    "    else:\n",
    "        qc.global_phase = - theta * np.pi / 2\n",
    "        \n",
    "    return qc\n",
    "\n",
    "\n",
    "def diagonal(M):\n",
    "    # number of qubits\n",
    "    n = int(np.log2(len(M)))\n",
    "    \n",
    "    M = np.array(M, 'complex')\n",
    "    \n",
    "    # generator of unitary\n",
    "    H  = 2j * np.log(M) / np.pi\n",
    "    Hp = to_pauli(H)\n",
    "    \n",
    "    qc = QuantumCircuit(n)\n",
    "    \n",
    "    for op, coef in Hp.items():\n",
    "        qc += expz(op, coef)\n",
    "\n",
    "    return qc"
   ]
  },
  {
   "cell_type": "code",
   "execution_count": 8,
   "metadata": {},
   "outputs": [
    {
     "data": {
      "image/png": "[encoded data removed]",
      "text/plain": [
       "<Figure size 568.197x204.68 with 1 Axes>"
      ]
     },
     "execution_count": 8,
     "metadata": {},
     "output_type": "execute_result"
    }
   ],
   "source": [
    "M = [1, -1, -1j, 1, -1j, 1, -1, -1]\n",
    "qc = diagonal(M)\n",
    "\n",
    "qc.draw('mpl')"
   ]
  },
  {
   "cell_type": "code",
   "execution_count": 9,
   "metadata": {},
   "outputs": [
    {
     "data": {
      "text/plain": [
       "True"
      ]
     },
     "execution_count": 9,
     "metadata": {},
     "output_type": "execute_result"
    }
   ],
   "source": [
    "np.allclose(Operator(qc).data, \n",
    "            np.diag(M))"
   ]
  },
  {
   "cell_type": "markdown",
   "metadata": {},
   "source": [
    "## Optimize\n",
    "Let's estimate the cost of our previous approach.\n",
    "\n",
    "For each term $ U_k = e^{-i \\frac{\\pi}{2} \\cdot c_k H_k} $ with $ m $ $ \\sigma_z - $ terms in decomposition of $ H_k $, we have to use $ 2 \\cdot (m - 1) $ CNOTs gates. There are $ n \\choose m $ such terms, so our total cost is:\n",
    "\n",
    "$$ \\sum_{m=1}^{n} {n \\choose m} \\cdot 2 (m - 1) = \\mathcal{O}\\big(n \\cdot 2^n\\big) $$\n",
    "\n",
    "But we can do better!\n",
    "\n",
    "Let's group the terms $H_k$ in 2 groups:\n",
    "\n",
    "- terms that have the idenity operator $ I $ acting the most significant qubit. This is essentially, a recursive case, with n - 1 number of qubits and hermitian matrix $ \\frac{H_1 + H_2}{2} $ , if \n",
    "$ H = \\begin{bmatrix}\n",
    "H_1 & 0\\\\\n",
    "0 & H_2\n",
    "\\end{bmatrix} $\n",
    "\n",
    "This can be proven if we write $ H = I \\otimes A_I + \\sigma_z \\otimes A_z \\implies H_1 + H_2 = \\text{Tr}_n(H) = \\text{Tr}(I) \\cdot A_I + \\text{Tr}(\\sigma_z) \\cdot A_z = 2 \\cdot A_I $,\n",
    "\n",
    "where $ \\text{Tr}_n( . ) $ denotes the partial trace on qubit $ n $.\n",
    "\n",
    "Similarly, $ H_1 - H_2 = \\text{Tr}_n\\big( (\\sigma_z \\otimes I) H \\big) = \\text{Tr}(\\sigma_z) \\cdot A_I + \\text{Tr}(I) \\cdot A_z = 2 \\cdot A_z $.\n",
    "\n",
    "- terms that have $ \\sigma_Z $ operator acting on the most significant qubit. This mean that we should implement $ U = e^{-i \\frac{\\pi}{2} \\cdot Z \\otimes A_z } $, where $ A_z = \\frac{H_1 - H_2}{2} $. After decomposing $ A_z $ into a sum of tensor products of $I, \\sigma_z $, we sort the terms in a way that consecutive terms differ in only one position, similar to Gray Code. In this way, consecutive CNOT gates meet and cancel. The only CNOT gate that remains is one controlled from the qubit that just change and target the most significant qubit.\n",
    "\n",
    "For the second group of terms, we hace $ 2^{n - 1} $ terms in the decomposition of $ A_z $ and we need one CNOT gate between the terms + 1 in the end.\n",
    "\n",
    "Our new total cost becomes: $ C_n = C_{n - 1} + 2^{n - 1} \\implies C_n = 2^n $ in terms of CNOT gates."
   ]
  },
  {
   "cell_type": "code",
   "execution_count": 10,
   "metadata": {},
   "outputs": [],
   "source": [
    "def _bin(x, n):\n",
    "    return bin(x)[2:].zfill(n)\n",
    "\n",
    "\n",
    "def _gray_code(n):\n",
    "    \n",
    "    labels = {'0': 'I', \n",
    "              '1': 'Z'}\n",
    "\n",
    "    gray = []\n",
    "    for i in range(0, 1 << n):\n",
    "        x = i ^ (i >> 1)\n",
    "        x = _bin(x, n)\n",
    "        \n",
    "        gray += [''.join(labels[b] for b in x)]\n",
    "        \n",
    "    return gray\n",
    "\n",
    "\n",
    "# return index of control qubits \n",
    "def pattern(n):\n",
    "    if n == 1:\n",
    "        return [0]\n",
    "    \n",
    "    pn = pattern(n - 1)\n",
    "    \n",
    "    return pn + [n - 1] + pn"
   ]
  },
  {
   "cell_type": "code",
   "execution_count": 11,
   "metadata": {},
   "outputs": [],
   "source": [
    "def expz(H):\n",
    "    n  = len(H)\n",
    "    nq = int(np.log2(n))\n",
    "    \n",
    "    qc = QuantumCircuit(nq)\n",
    "    \n",
    "    # 1q - case\n",
    "    if nq == 1:\n",
    "        Hp = to_pauli(H)\n",
    "        \n",
    "        qc.global_phase = - Hp['I'] * pi / 2\n",
    "        \n",
    "        coef = Hp['Z']\n",
    "        if abs(coef) % (2 * pi) > 0:\n",
    "            qc.rz(coef * pi, 0)\n",
    "        \n",
    "        return qc\n",
    "        \n",
    "    # recursive - terms with 'I' in msb qubit\n",
    "    nh = n // 2\n",
    "\n",
    "    H1 = (H[:nh] + H[nh:]) / 2\n",
    "    U1 = expz(H1)\n",
    "    \n",
    "    qc.compose(U1, qc.qubits[:-1], \n",
    "               inplace=True)\n",
    "    \n",
    "    \n",
    "    # terms with 'Z' in msb qubit\n",
    "    target = nq - 1\n",
    "    \n",
    "    H  = (H[:nh] - H[nh:]) / 2\n",
    "    Hp = to_pauli(H)\n",
    "    \n",
    "    gray = _gray_code(nq - 1)\n",
    "    controls = pattern(nq - 1) + [nq - 2]\n",
    "    \n",
    "    for label, control in zip(gray, controls):\n",
    "        coef = Hp[label]\n",
    "        \n",
    "        if abs(coef) % (2 * pi) > 0:\n",
    "            qc.rz(coef * pi, \n",
    "                  target)\n",
    "            \n",
    "        qc.cx(control, \n",
    "              target)\n",
    "        \n",
    "    return qc\n",
    "\n",
    "\n",
    "def diagonal(M):\n",
    "    # number of qubits\n",
    "    n = int(np.log2(len(M)))\n",
    "    \n",
    "    M = np.array(M, \n",
    "                 dtype='complex')\n",
    "    \n",
    "    # generator of unitary\n",
    "    H  = 2j * np.log(M) / np.pi\n",
    "    \n",
    "    return expz(H)"
   ]
  },
  {
   "cell_type": "code",
   "execution_count": 12,
   "metadata": {},
   "outputs": [
    {
     "data": {
      "image/png": "[encoded data removed]",
      "text/plain": [
       "<Figure size 748.797x204.68 with 1 Axes>"
      ]
     },
     "execution_count": 12,
     "metadata": {},
     "output_type": "execute_result"
    }
   ],
   "source": [
    "M = [np.exp(1j * pi / 3), -1j, -1, 1, -1j, 1, -1, 1j]\n",
    "qc = diagonal(M)\n",
    "\n",
    "qc.draw('mpl')"
   ]
  },
  {
   "cell_type": "code",
   "execution_count": 13,
   "metadata": {},
   "outputs": [
    {
     "data": {
      "text/plain": [
       "True"
      ]
     },
     "execution_count": 13,
     "metadata": {},
     "output_type": "execute_result"
    }
   ],
   "source": [
    "np.allclose(Operator(qc).data, \n",
    "            np.diag(M))"
   ]
  }
 ],
 "metadata": {
  "kernelspec": {
   "display_name": "qiskitdev",
   "language": "python",
   "name": "qiskitdev"
  },
  "language_info": {
   "codemirror_mode": {
    "name": "ipython",
    "version": 3
   },
   "file_extension": ".py",
   "mimetype": "text/x-python",
   "name": "python",
   "nbconvert_exporter": "python",
   "pygments_lexer": "ipython3",
   "version": "3.7.5"
  }
 },
 "nbformat": 4,
 "nbformat_minor": 2
}
