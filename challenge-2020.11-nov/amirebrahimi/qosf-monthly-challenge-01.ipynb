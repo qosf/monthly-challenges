{
 "cells": [
  {
   "cell_type": "markdown",
   "metadata": {},
   "source": [
    "# Challenge 01: Diagonal Unitary Circuit Composer\n",
    "\n",
    "Write a program that takes as an input a diagonal unitary matrix, and returns a corresponding quantum circuit. For example, given the unitary matrix $\\Lambda \\in \\mathbb{R}^{4\\times4}$ shown below, the composer would synthesize the following circuit:\n",
    "\n",
    "<img src=\"../images/composer_cir.png\" width = 750/>\n",
    "\n",
    "For this problem, you are not restricted to the use of a particular set of gates. Since different equivalent circuits can have the same unitary operator associated with them, your circuit for $\\Lambda$ wouldn't have to necessarily look the same as the one above. For example, depending on your choice of gates, the same unitary $\\Lambda$ above could result in circuits with more (or less) number of gates, like the ones shown below:\n",
    "\n",
    "<img src=\"../images/composer_cir2.png\" width = 680/>\n",
    "\n",
    "We have broken down this challenge in three levels of difficulty. You don't have to work on these separately nor complete all three of them; If you have an idea how to tackle Level 3, you can just go for it, but if not, solving first two first should help you get started.\n",
    "\n",
    "**Level 1:** The composer should return a circuit for any unitary matrix $\\Lambda \\in \\mathbb{R}^{4\\times4}$. (i.e., $4 \\times 4$ matrices with only real entries)\n",
    "\n",
    "**Level 2:** The composer should return a circuit for any unitary matrix $\\Lambda \\in \\mathbb{R}^{N\\times N}$. (i.e., matrices of arbitrary size $N = 2^n$ with only real entries)\n",
    "\n",
    "**Level 3:** The composer should return a circuit for any unitary matrix $\\Lambda \\in \\mathbb{C}^{N\\times N}$. (i.e., matrices of arbitrary size $N = 2^n$ with complex entries)\n",
    "\n",
    "**Bonus:** The composer should return circuits consisting of only one-qubit and two-qubit gates. The bonus applies to solutions in levels 2 and 3.\n",
    "\n",
    "The idea behind this challenge is for you to develop an understanding of how circuits can be built out of unitaries, so avoid using functions that do this for you automatically, like the `transpile` function in Qiskit, or the `decompose` function in Cirq.\n",
    "\n",
    "**Hint:** If you have trouble getting started, it might be helpful to know that this problem is closely related to the design of Oracles for Grover's Algorithm [1].\n",
    "\n",
    "[1] Figgatt, Caroline, et al. \"Complete 3-Qubit Grover search on a programmable quantum computer.\" Nature communications 8.1 (2017): 1-9. [arXiv:1703.10535](https://arxiv.org/pdf/1703.10535.pdf)"
   ]
  },
  {
   "cell_type": "markdown",
   "metadata": {},
   "source": [
    "# Level 1"
   ]
  },
  {
   "cell_type": "markdown",
   "metadata": {},
   "source": [
    "My solution is likely going to be the most naive of all submitted. I've chosen to stay away from looking at any references. Never having tried this before I wanted to work this out empirically. The result will most definitely be suboptimal."
   ]
  },
  {
   "cell_type": "code",
   "execution_count": 1,
   "metadata": {},
   "outputs": [],
   "source": [
    "import numpy as np\n",
    "import itertools\n",
    "import ipywidgets as widgets"
   ]
  },
  {
   "cell_type": "markdown",
   "metadata": {},
   "source": [
    "All unitary matrices, $U$, must have $|\\det(U)| = 1$"
   ]
  },
  {
   "cell_type": "code",
   "execution_count": 2,
   "metadata": {},
   "outputs": [
    {
     "name": "stdout",
     "output_type": "stream",
     "text": [
      "[[-1  0  0  0]\n",
      " [ 0  1  0  0]\n",
      " [ 0  0  1  0]\n",
      " [ 0  0  0  1]]\n"
     ]
    },
    {
     "data": {
      "text/plain": [
       "1.0"
      ]
     },
     "execution_count": 2,
     "metadata": {},
     "output_type": "execute_result"
    }
   ],
   "source": [
    "Λ = np.diag([-1, 1, 1, 1])\n",
    "print(Λ)\n",
    "np.linalg.norm(np.linalg.det(Λ))"
   ]
  },
  {
   "cell_type": "code",
   "execution_count": 3,
   "metadata": {},
   "outputs": [],
   "source": [
    "from qiskit import QuantumCircuit\n",
    "from qiskit.extensions import UnitaryGate"
   ]
  },
  {
   "cell_type": "code",
   "execution_count": 4,
   "metadata": {},
   "outputs": [
    {
     "data": {
      "text/plain": [
       "array([[-1.+0.j,  0.+0.j,  0.+0.j,  0.+0.j],\n",
       "       [ 0.+0.j,  1.+0.j,  0.+0.j,  0.+0.j],\n",
       "       [ 0.+0.j,  0.+0.j,  1.+0.j,  0.+0.j],\n",
       "       [ 0.+0.j,  0.+0.j,  0.+0.j,  1.+0.j]])"
      ]
     },
     "execution_count": 4,
     "metadata": {},
     "output_type": "execute_result"
    }
   ],
   "source": [
    "ug = UnitaryGate(Λ)\n",
    "ug.to_matrix()"
   ]
  },
  {
   "cell_type": "markdown",
   "metadata": {},
   "source": [
    "Just for reference, let me see the form of what Qiskit does"
   ]
  },
  {
   "cell_type": "code",
   "execution_count": 5,
   "metadata": {},
   "outputs": [
    {
     "data": {
      "image/png": "[encoded data removed]",
      "text/plain": [
       "<Figure size 387.452x144.48 with 1 Axes>"
      ]
     },
     "execution_count": 5,
     "metadata": {},
     "output_type": "execute_result"
    }
   ],
   "source": [
    "qc = QuantumCircuit(2)\n",
    "qc.append(ug, range(qc.num_qubits))\n",
    "qc.decompose().draw()"
   ]
  },
  {
   "cell_type": "code",
   "execution_count": 6,
   "metadata": {},
   "outputs": [
    {
     "data": {
      "text/plain": [
       "Statevector([-1.+0.j,  0.+0.j,  0.+0.j,  0.+0.j],\n",
       "            dims=(2, 2))"
      ]
     },
     "execution_count": 6,
     "metadata": {},
     "output_type": "execute_result"
    }
   ],
   "source": [
    "import qiskit.quantum_info as qi\n",
    "sv = qi.Statevector([1, 0, 0, 0])\n",
    "sv.evolve(qi.Operator(qc))"
   ]
  },
  {
   "cell_type": "markdown",
   "metadata": {},
   "source": [
    "Let me start with a 2x2 matrix to gain some intuition"
   ]
  },
  {
   "cell_type": "code",
   "execution_count": 7,
   "metadata": {},
   "outputs": [
    {
     "data": {
      "application/vnd.jupyter.widget-view+json": {
       "model_id": "98465cd29f794e95afdcf143a532e6e1",
       "version_major": 2,
       "version_minor": 0
      },
      "text/plain": [
       "Output()"
      ]
     },
     "metadata": {},
     "output_type": "display_data"
    },
    {
     "data": {
      "application/vnd.jupyter.widget-view+json": {
       "model_id": "7f39e929830c4d84bd414a71f3fc29bd",
       "version_major": 2,
       "version_minor": 0
      },
      "text/plain": [
       "Output()"
      ]
     },
     "metadata": {},
     "output_type": "display_data"
    },
    {
     "data": {
      "application/vnd.jupyter.widget-view+json": {
       "model_id": "7e90869717f04aaa8ae00522ea7ccdd1",
       "version_major": 2,
       "version_minor": 0
      },
      "text/plain": [
       "Output()"
      ]
     },
     "metadata": {},
     "output_type": "display_data"
    },
    {
     "data": {
      "application/vnd.jupyter.widget-view+json": {
       "model_id": "4a19dddb33eb4b69b016d8c36d6d482a",
       "version_major": 2,
       "version_minor": 0
      },
      "text/plain": [
       "Output()"
      ]
     },
     "metadata": {},
     "output_type": "display_data"
    },
    {
     "name": "stdout",
     "output_type": "stream",
     "text": [
      "All compositions equal ✅\n"
     ]
    }
   ],
   "source": [
    "show_all = True\n",
    "all_correct = True\n",
    "for diag in list(itertools.product([1, -1], repeat=2)):\n",
    "    correct = True\n",
    "    out = widgets.Output()    \n",
    "    with out:\n",
    "        Λ = np.diag(diag)\n",
    "        qc = QuantumCircuit(1)\n",
    "        print(\"Qiskit composition\")\n",
    "        qc.unitary(Λ, range(qc.num_qubits))\n",
    "        display(qc.decompose().draw())\n",
    "\n",
    "        ug = UnitaryGate(qi.Operator(qc))\n",
    "        um = ug.to_matrix()\n",
    "        print(um)\n",
    "        print()\n",
    "\n",
    "        dc = QuantumCircuit(1)\n",
    "        for i,el in enumerate(diag):\n",
    "            if el == -1:\n",
    "                if i == 0:\n",
    "                    dc.x(0)\n",
    "                dc.z(0)\n",
    "                if i == 0:\n",
    "                    dc.x(0)\n",
    "        print(\"Unitary composition\")\n",
    "        display(dc.decompose().draw())\n",
    "        dug = UnitaryGate(qi.Operator(dc))\n",
    "        dm = dug.to_matrix()\n",
    "        print(dm)\n",
    "\n",
    "        correct = np.allclose(um, dm)\n",
    "        if correct:\n",
    "            print(\"Compositions equal ✅\")\n",
    "        else:\n",
    "            all_correct = False\n",
    "            print(\"Compositions differ ❌\")\n",
    "\n",
    "        print('-' * 30)\n",
    "        \n",
    "    if not correct or show_all:\n",
    "        display(out)\n",
    "\n",
    "if all_correct:\n",
    "    print(\"All compositions equal ✅\")    "
   ]
  },
  {
   "cell_type": "markdown",
   "metadata": {},
   "source": [
    "Okay, let me try a 4x4 now"
   ]
  },
  {
   "cell_type": "code",
   "execution_count": 8,
   "metadata": {},
   "outputs": [
    {
     "data": {
      "application/vnd.jupyter.widget-view+json": {
       "model_id": "a64104b42de74eca8d247e246b22b92b",
       "version_major": 2,
       "version_minor": 0
      },
      "text/plain": [
       "Output()"
      ]
     },
     "metadata": {},
     "output_type": "display_data"
    },
    {
     "data": {
      "application/vnd.jupyter.widget-view+json": {
       "model_id": "fc95a4260d57416489127d7817180ab6",
       "version_major": 2,
       "version_minor": 0
      },
      "text/plain": [
       "Output()"
      ]
     },
     "metadata": {},
     "output_type": "display_data"
    },
    {
     "data": {
      "application/vnd.jupyter.widget-view+json": {
       "model_id": "a5ba3aefa3ec46af91729dfe21c9304f",
       "version_major": 2,
       "version_minor": 0
      },
      "text/plain": [
       "Output()"
      ]
     },
     "metadata": {},
     "output_type": "display_data"
    },
    {
     "data": {
      "application/vnd.jupyter.widget-view+json": {
       "model_id": "8794520c6de148d2b55ce68877be1940",
       "version_major": 2,
       "version_minor": 0
      },
      "text/plain": [
       "Output()"
      ]
     },
     "metadata": {},
     "output_type": "display_data"
    },
    {
     "data": {
      "application/vnd.jupyter.widget-view+json": {
       "model_id": "27357add6a5f4f978daed132b004ebd1",
       "version_major": 2,
       "version_minor": 0
      },
      "text/plain": [
       "Output()"
      ]
     },
     "metadata": {},
     "output_type": "display_data"
    },
    {
     "data": {
      "application/vnd.jupyter.widget-view+json": {
       "model_id": "51a99a5be3484b7ba7f7824ad7a34ca0",
       "version_major": 2,
       "version_minor": 0
      },
      "text/plain": [
       "Output()"
      ]
     },
     "metadata": {},
     "output_type": "display_data"
    },
    {
     "data": {
      "application/vnd.jupyter.widget-view+json": {
       "model_id": "c4bc51e7033444bea203a0171b04a1c9",
       "version_major": 2,
       "version_minor": 0
      },
      "text/plain": [
       "Output()"
      ]
     },
     "metadata": {},
     "output_type": "display_data"
    },
    {
     "data": {
      "application/vnd.jupyter.widget-view+json": {
       "model_id": "34258252efeb454fac5aec19c2fada7c",
       "version_major": 2,
       "version_minor": 0
      },
      "text/plain": [
       "Output()"
      ]
     },
     "metadata": {},
     "output_type": "display_data"
    },
    {
     "data": {
      "application/vnd.jupyter.widget-view+json": {
       "model_id": "caec3374d2394e4ca03bef34c98b8621",
       "version_major": 2,
       "version_minor": 0
      },
      "text/plain": [
       "Output()"
      ]
     },
     "metadata": {},
     "output_type": "display_data"
    },
    {
     "data": {
      "application/vnd.jupyter.widget-view+json": {
       "model_id": "1bac8ca91c274a2ab7a355f390be4af9",
       "version_major": 2,
       "version_minor": 0
      },
      "text/plain": [
       "Output()"
      ]
     },
     "metadata": {},
     "output_type": "display_data"
    },
    {
     "data": {
      "application/vnd.jupyter.widget-view+json": {
       "model_id": "2e098894aadf439abcace54cea952732",
       "version_major": 2,
       "version_minor": 0
      },
      "text/plain": [
       "Output()"
      ]
     },
     "metadata": {},
     "output_type": "display_data"
    },
    {
     "data": {
      "application/vnd.jupyter.widget-view+json": {
       "model_id": "4abe3e07617d4055aa590fc666a4a154",
       "version_major": 2,
       "version_minor": 0
      },
      "text/plain": [
       "Output()"
      ]
     },
     "metadata": {},
     "output_type": "display_data"
    },
    {
     "data": {
      "application/vnd.jupyter.widget-view+json": {
       "model_id": "2470182576214c0dae47167da3b3db44",
       "version_major": 2,
       "version_minor": 0
      },
      "text/plain": [
       "Output()"
      ]
     },
     "metadata": {},
     "output_type": "display_data"
    },
    {
     "data": {
      "application/vnd.jupyter.widget-view+json": {
       "model_id": "391d6b0e0379456fb681641617433bc1",
       "version_major": 2,
       "version_minor": 0
      },
      "text/plain": [
       "Output()"
      ]
     },
     "metadata": {},
     "output_type": "display_data"
    },
    {
     "data": {
      "application/vnd.jupyter.widget-view+json": {
       "model_id": "7a0c5265d8d94eebb94fe6b4e99222ec",
       "version_major": 2,
       "version_minor": 0
      },
      "text/plain": [
       "Output()"
      ]
     },
     "metadata": {},
     "output_type": "display_data"
    },
    {
     "data": {
      "application/vnd.jupyter.widget-view+json": {
       "model_id": "0bd6fcaa186244e28012254bdd1efedb",
       "version_major": 2,
       "version_minor": 0
      },
      "text/plain": [
       "Output()"
      ]
     },
     "metadata": {},
     "output_type": "display_data"
    },
    {
     "name": "stdout",
     "output_type": "stream",
     "text": [
      "All compositions equal ✅\n"
     ]
    }
   ],
   "source": [
    "show_all = True\n",
    "all_correct = True\n",
    "for diag in list(itertools.product([1, -1], repeat=4)):\n",
    "    correct = True\n",
    "    out = widgets.Output()    \n",
    "    with out:\n",
    "        Λ = np.diag(diag)\n",
    "        qc = QuantumCircuit(2)\n",
    "        print(\"Qiskit composition\")\n",
    "        qc.unitary(Λ, range(qc.num_qubits))\n",
    "        display(qc.decompose().draw())\n",
    "\n",
    "        ug = UnitaryGate(qi.Operator(qc))\n",
    "        um = ug.to_matrix()\n",
    "        print(um)\n",
    "        print()\n",
    "\n",
    "        dc = QuantumCircuit(2)\n",
    "        for i,el in enumerate(diag):\n",
    "            if el == -1:\n",
    "                if i == 0:\n",
    "                    dc.x(0)\n",
    "                    dc.z(0)\n",
    "                    dc.cz(0, 1)\n",
    "                    dc.x(0)                    \n",
    "                if i == 1:\n",
    "                    dc.x(1)\n",
    "                    dc.cz(0, 1)\n",
    "                    dc.x(1)\n",
    "                elif i == 2:\n",
    "                    dc.x(0)\n",
    "                    dc.cz(0, 1)\n",
    "                    dc.x(0)\n",
    "                elif i == 3:\n",
    "                    dc.cz(0, 1)\n",
    "        print(\"Unitary composition\")\n",
    "        display(dc.decompose().draw())\n",
    "        dug = UnitaryGate(qi.Operator(dc))\n",
    "        dm = dug.to_matrix()\n",
    "        print(dm)\n",
    "\n",
    "        correct = np.allclose(um, dm)\n",
    "        if correct:\n",
    "            print(\"Compositions equal ✅\")\n",
    "        else:\n",
    "            all_correct = False\n",
    "            print(\"Compositions differ ❌\")\n",
    "\n",
    "        print('-' * 30)\n",
    "        \n",
    "    if not correct or show_all:\n",
    "        display(out)\n",
    "\n",
    "if all_correct:\n",
    "    print(\"All compositions equal ✅\")"
   ]
  },
  {
   "cell_type": "markdown",
   "metadata": {},
   "source": [
    "# Level 2"
   ]
  },
  {
   "cell_type": "markdown",
   "metadata": {},
   "source": [
    "Okay, so I got a 4x4 working empirically, but I need to figure out something more general now. As we grow to more qubits the number of permutations grows considerably, so we will need to start random sampling. However, we'll verify all of the permutations for 2 and 3 qubits.\n",
    "\n",
    "NOTE: I went through many permutations on this below and am only leaving the final result. I had a general solution for 2 qubits, but as soon as I went to 4 qubits I started to have problems. Then, I realized that this was similar to loading a qram and that it was necessary to think about it as \"addressing\" a specific element in the diagonal matrix."
   ]
  },
  {
   "cell_type": "code",
   "execution_count": 9,
   "metadata": {},
   "outputs": [
    {
     "name": "stdout",
     "output_type": "stream",
     "text": [
      "Testing compositions for 1 qubits (2x2 matrices)\n"
     ]
    },
    {
     "data": {
      "application/vnd.jupyter.widget-view+json": {
       "model_id": "23d1b48a4f294f7f861c0c76ee216ed6",
       "version_major": 2,
       "version_minor": 0
      },
      "text/plain": [
       "Output()"
      ]
     },
     "metadata": {},
     "output_type": "display_data"
    },
    {
     "name": "stdout",
     "output_type": "stream",
     "text": [
      "👆 Showing last sample for inspection\n",
      "All compositions equal ✅\n",
      "\n",
      "############################################################\n",
      "\n",
      "Testing compositions for 2 qubits (4x4 matrices)\n"
     ]
    },
    {
     "data": {
      "application/vnd.jupyter.widget-view+json": {
       "model_id": "47e85dff30fd4fdfb8c78ba8650178fc",
       "version_major": 2,
       "version_minor": 0
      },
      "text/plain": [
       "Output()"
      ]
     },
     "metadata": {},
     "output_type": "display_data"
    },
    {
     "name": "stdout",
     "output_type": "stream",
     "text": [
      "👆 Showing last sample for inspection\n",
      "All compositions equal ✅\n",
      "\n",
      "############################################################\n",
      "\n",
      "Testing compositions for 3 qubits (8x8 matrices)\n",
      "Validating 64 random samples from 256 total\n"
     ]
    },
    {
     "data": {
      "application/vnd.jupyter.widget-view+json": {
       "model_id": "78866069806c4100a6a83d92a2291370",
       "version_major": 2,
       "version_minor": 0
      },
      "text/plain": [
       "Output()"
      ]
     },
     "metadata": {},
     "output_type": "display_data"
    },
    {
     "name": "stdout",
     "output_type": "stream",
     "text": [
      "👆 Showing last sample for inspection\n",
      "All compositions equal ✅\n",
      "\n",
      "############################################################\n",
      "\n",
      "Testing compositions for 4 qubits (16x16 matrices)\n",
      "Validating 32 random samples from 65536 total\n"
     ]
    },
    {
     "data": {
      "application/vnd.jupyter.widget-view+json": {
       "model_id": "9d3188cd0bbc4b10b32e41cb8fce5c47",
       "version_major": 2,
       "version_minor": 0
      },
      "text/plain": [
       "Output()"
      ]
     },
     "metadata": {},
     "output_type": "display_data"
    },
    {
     "name": "stdout",
     "output_type": "stream",
     "text": [
      "👆 Showing last sample for inspection\n",
      "All compositions equal ✅\n",
      "\n",
      "############################################################\n",
      "\n",
      "Testing compositions for 5 qubits (32x32 matrices)\n",
      "Validating 16 random samples from 4294967296 total\n"
     ]
    },
    {
     "data": {
      "application/vnd.jupyter.widget-view+json": {
       "model_id": "26909d70e1a744c9a2a3d63e15641a8f",
       "version_major": 2,
       "version_minor": 0
      },
      "text/plain": [
       "Output()"
      ]
     },
     "metadata": {},
     "output_type": "display_data"
    },
    {
     "name": "stdout",
     "output_type": "stream",
     "text": [
      "👆 Showing last sample for inspection\n",
      "All compositions equal ✅\n",
      "\n",
      "############################################################\n",
      "\n"
     ]
    }
   ],
   "source": [
    "import random\n",
    "def sample_diagonals(N, samplesize):\n",
    "    results = []    \n",
    "    while samplesize > 0:\n",
    "        v = []\n",
    "        while len(v) < N:\n",
    "            if random.randint(0, 1) == 0:\n",
    "                v.append(-1)\n",
    "            else:\n",
    "                v.append(1)\n",
    "        if v not in results:\n",
    "            results.append(v)\n",
    "            samplesize -= 1\n",
    "    return results\n",
    "\n",
    "def validate_composition(num_qubits, max_samples=16):    \n",
    "    def bitfield(n, max_bits):    \n",
    "        return [int(digit) for digit in f'{{0:0{max_bits}b}}'.format(n)]\n",
    "\n",
    "    show_all = False\n",
    "    all_correct = True\n",
    "    print_last = True\n",
    "    N = 2**num_qubits\n",
    "    total_count = 2**N\n",
    "    if total_count < max_samples:\n",
    "        diagonals = list(itertools.product([1, -1], repeat=N))\n",
    "    else:\n",
    "        diagonals = sample_diagonals(N, max_samples)\n",
    "        print(f\"Validating {len(diagonals)} random samples from {total_count} total\")\n",
    "        \n",
    "    for d, diag in enumerate(diagonals):\n",
    "        correct = True\n",
    "        out = widgets.Output()    \n",
    "        with out:\n",
    "            dc = QuantumCircuit(num_qubits)\n",
    "            for i,el in enumerate(diag):\n",
    "                if el == -1:\n",
    "                    for j, a in enumerate(reversed(bitfield(i, num_qubits))):\n",
    "                        if not a:\n",
    "                            dc.x(j)\n",
    "                            \n",
    "                    if num_qubits == 1:\n",
    "                        dc.z(0)\n",
    "                    else:\n",
    "                        # equivalent to an mcz\n",
    "                        dc.h(num_qubits - 1)\n",
    "                        dc.mcx(list(range(num_qubits - 1)), num_qubits - 1)\n",
    "                        dc.h(num_qubits - 1)\n",
    "\n",
    "                    for j, a in enumerate(reversed(bitfield(i, num_qubits))):\n",
    "                        if not a:\n",
    "                            dc.x(j)\n",
    "            print(\"Unitary composition\")\n",
    "            print(diag)\n",
    "            display(dc.draw())\n",
    "            dug = UnitaryGate(qi.Operator(dc))\n",
    "            dm = dug.to_matrix().diagonal()\n",
    "\n",
    "            correct = np.allclose(diag, dm)\n",
    "            if correct:\n",
    "                print(\"Compositions equal ✅\")\n",
    "            else:\n",
    "                print(dm)\n",
    "                all_correct = False\n",
    "                print(\"Compositions differ ❌\")\n",
    "\n",
    "            print('-' * 30)\n",
    "\n",
    "        should_print_last = (print_last and d == len(diagonals) - 1)\n",
    "        if not correct or show_all or should_print_last:\n",
    "            display(out)\n",
    "            if should_print_last:\n",
    "                print(f\"👆 Showing last sample for inspection\")\n",
    "\n",
    "    if all_correct:\n",
    "        print(\"All compositions equal ✅\")\n",
    "\n",
    "limit_samples = 256\n",
    "for qubit_count in list(range(1,5+1)):\n",
    "    print(f\"Testing compositions for {qubit_count} qubits ({2**qubit_count}x{2**qubit_count} matrices)\")\n",
    "    validate_composition(qubit_count, limit_samples)\n",
    "    limit_samples >>= 1\n",
    "    print()\n",
    "    print('#' * 60)\n",
    "    print()"
   ]
  },
  {
   "cell_type": "markdown",
   "metadata": {},
   "source": [
    "Okay, I fairly confident about this although I haven't exhaustively tested all permutations up through and past 5 qubits."
   ]
  },
  {
   "cell_type": "markdown",
   "metadata": {},
   "source": [
    "# Level 3"
   ]
  },
  {
   "cell_type": "markdown",
   "metadata": {},
   "source": [
    "Now that we're dealing with complex entries, let me start small again and build up. For starters, I don't think all permutations of diagonals with complex values are unitary. So, I think I'll want to strip those out of the set. However, I'm curious about diagonals that only have a single imaginary. Are those still unitary?"
   ]
  },
  {
   "cell_type": "code",
   "execution_count": 12,
   "metadata": {},
   "outputs": [
    {
     "name": "stdout",
     "output_type": "stream",
     "text": [
      "[[-1.+0.j  0.+0.j  0.+0.j  0.+0.j]\n",
      " [ 0.+0.j  1.+0.j  0.+0.j  0.+0.j]\n",
      " [ 0.+0.j  0.+0.j  1.+0.j  0.+0.j]\n",
      " [ 0.+0.j  0.+0.j  0.+0.j  0.+1.j]]\n",
      "1.0\n"
     ]
    }
   ],
   "source": [
    "Λ = np.diag([-1, 1, 1, 1j])\n",
    "print(Λ)\n",
    "print(np.linalg.norm(np.linalg.det(Λ)))"
   ]
  },
  {
   "cell_type": "markdown",
   "metadata": {},
   "source": [
    "Okay, so I guess I just need to expand permutations to include _i_ and _-i_."
   ]
  },
  {
   "cell_type": "code",
   "execution_count": 14,
   "metadata": {},
   "outputs": [
    {
     "name": "stdout",
     "output_type": "stream",
     "text": [
      "Testing compositions for 1 qubits (2x2 matrices)\n"
     ]
    },
    {
     "data": {
      "application/vnd.jupyter.widget-view+json": {
       "model_id": "3d889e10828c422092fda201c5b2c34a",
       "version_major": 2,
       "version_minor": 0
      },
      "text/plain": [
       "Output()"
      ]
     },
     "metadata": {},
     "output_type": "display_data"
    },
    {
     "name": "stdout",
     "output_type": "stream",
     "text": [
      "👆 Showing last sample for inspection\n",
      "All compositions equal ✅\n",
      "\n",
      "############################################################\n",
      "\n",
      "Testing compositions for 2 qubits (4x4 matrices)\n"
     ]
    },
    {
     "data": {
      "application/vnd.jupyter.widget-view+json": {
       "model_id": "6b579ef6f1b84ad29b7f66eddb936ff9",
       "version_major": 2,
       "version_minor": 0
      },
      "text/plain": [
       "Output()"
      ]
     },
     "metadata": {},
     "output_type": "display_data"
    },
    {
     "name": "stdout",
     "output_type": "stream",
     "text": [
      "👆 Showing last sample for inspection\n",
      "All compositions equal ✅\n",
      "\n",
      "############################################################\n",
      "\n",
      "Testing compositions for 3 qubits (8x8 matrices)\n",
      "Validating 64 random samples from 256 total\n"
     ]
    },
    {
     "data": {
      "application/vnd.jupyter.widget-view+json": {
       "model_id": "81cdd3715f324794819945eaafebf76d",
       "version_major": 2,
       "version_minor": 0
      },
      "text/plain": [
       "Output()"
      ]
     },
     "metadata": {},
     "output_type": "display_data"
    },
    {
     "name": "stdout",
     "output_type": "stream",
     "text": [
      "👆 Showing last sample for inspection\n",
      "All compositions equal ✅\n",
      "\n",
      "############################################################\n",
      "\n",
      "Testing compositions for 4 qubits (16x16 matrices)\n",
      "Validating 32 random samples from 65536 total\n"
     ]
    },
    {
     "data": {
      "application/vnd.jupyter.widget-view+json": {
       "model_id": "14f8c26014704f058d19f2e6edbe0ca8",
       "version_major": 2,
       "version_minor": 0
      },
      "text/plain": [
       "Output()"
      ]
     },
     "metadata": {},
     "output_type": "display_data"
    },
    {
     "name": "stdout",
     "output_type": "stream",
     "text": [
      "👆 Showing last sample for inspection\n",
      "All compositions equal ✅\n",
      "\n",
      "############################################################\n",
      "\n",
      "Testing compositions for 5 qubits (32x32 matrices)\n",
      "Validating 16 random samples from 4294967296 total\n"
     ]
    },
    {
     "data": {
      "application/vnd.jupyter.widget-view+json": {
       "model_id": "f478707c93b246bdb19a6434ca0cdbd9",
       "version_major": 2,
       "version_minor": 0
      },
      "text/plain": [
       "Output()"
      ]
     },
     "metadata": {},
     "output_type": "display_data"
    },
    {
     "name": "stdout",
     "output_type": "stream",
     "text": [
      "👆 Showing last sample for inspection\n",
      "All compositions equal ✅\n",
      "\n",
      "############################################################\n",
      "\n"
     ]
    }
   ],
   "source": [
    "def sample_complex_diagonals(N, samplesize):\n",
    "    results = []    \n",
    "    while samplesize > 0:\n",
    "        v = []\n",
    "        while len(v) < N:\n",
    "            choice = random.randint(0, 4)\n",
    "            if choice == 0:\n",
    "                v.append(-1)\n",
    "            elif choice == 1:\n",
    "                v.append(1)\n",
    "            elif choice == 2:\n",
    "                v.append(1j)\n",
    "            else:\n",
    "                v.append(0-1j)\n",
    "        if v not in results:\n",
    "            results.append(v)\n",
    "            samplesize -= 1\n",
    "    return results\n",
    "\n",
    "def validate_composition(num_qubits, max_samples=16):    \n",
    "    def bitfield(n, max_bits):    \n",
    "        return [int(digit) for digit in f'{{0:0{max_bits}b}}'.format(n)]\n",
    "\n",
    "    show_all = False\n",
    "    all_correct = True\n",
    "    print_last = True\n",
    "    N = 2**num_qubits\n",
    "    total_count = 2**N\n",
    "    if total_count < max_samples:\n",
    "        diagonals = list(itertools.product([1, -1, 1j, 0-1j], repeat=N))\n",
    "    else:\n",
    "        diagonals = sample_complex_diagonals(N, max_samples)\n",
    "        print(f\"Validating {len(diagonals)} random samples from {total_count} total\")\n",
    "        \n",
    "    for d, diag in enumerate(diagonals):\n",
    "        correct = True\n",
    "        out = widgets.Output()    \n",
    "        with out:\n",
    "            dc = QuantumCircuit(num_qubits)\n",
    "            for i,el in enumerate(diag):\n",
    "                if el != 1:\n",
    "                    for j, a in enumerate(reversed(bitfield(i, num_qubits))):\n",
    "                        if not a:\n",
    "                            dc.x(j)\n",
    "\n",
    "                    # instead of z gates, let's now use phase gates to allow for arbitrary phase\n",
    "                    if num_qubits == 1:\n",
    "                        dc.p(np.angle(el), 0)\n",
    "                    else:\n",
    "                        dc.mcp(np.angle(el), list(range(num_qubits - 1)), num_qubits - 1)\n",
    "\n",
    "                    for j, a in enumerate(reversed(bitfield(i, num_qubits))):\n",
    "                        if not a:\n",
    "                            dc.x(j)\n",
    "            print(\"Unitary composition\")\n",
    "            print(diag)\n",
    "            display(dc.draw())\n",
    "            dug = UnitaryGate(qi.Operator(dc))\n",
    "            dm = dug.to_matrix().diagonal()\n",
    "\n",
    "            correct = np.allclose(diag, dm)\n",
    "            if correct:\n",
    "                print(\"Compositions equal ✅\")\n",
    "            else:\n",
    "                print(dm)\n",
    "                all_correct = False\n",
    "                print(\"Compositions differ ❌\")\n",
    "\n",
    "            print('-' * 30)\n",
    "\n",
    "        should_print_last = (print_last and d == len(diagonals) - 1)\n",
    "        if not correct or show_all or should_print_last:\n",
    "            display(out)\n",
    "            if should_print_last:\n",
    "                print(f\"👆 Showing last sample for inspection\")\n",
    "\n",
    "    if all_correct:\n",
    "        print(\"All compositions equal ✅\")\n",
    "\n",
    "limit_samples = 256\n",
    "for qubit_count in list(range(1,5+1)):\n",
    "    print(f\"Testing compositions for {qubit_count} qubits ({2**qubit_count}x{2**qubit_count} matrices)\")\n",
    "    validate_composition(qubit_count, limit_samples)\n",
    "    limit_samples >>= 1\n",
    "    print()\n",
    "    print('#' * 60)\n",
    "    print()"
   ]
  },
  {
   "cell_type": "markdown",
   "metadata": {},
   "source": [
    "Well, from the looks of it the above seems to be a solution. The only thing I'm not completely sure on is whether I am missing permutations of complex-valued diagonals that are still unitary. However, even in that case I think the above solution still works, albeit non-optimally."
   ]
  },
  {
   "cell_type": "code",
   "execution_count": null,
   "metadata": {},
   "outputs": [],
   "source": []
  }
 ],
 "metadata": {
  "kernelspec": {
   "display_name": "Python 3",
   "language": "python",
   "name": "python3"
  },
  "language_info": {
   "codemirror_mode": {
    "name": "ipython",
    "version": 3
   },
   "file_extension": ".py",
   "mimetype": "text/x-python",
   "name": "python",
   "nbconvert_exporter": "python",
   "pygments_lexer": "ipython3",
   "version": "3.8.3"
  }
 },
 "nbformat": 4,
 "nbformat_minor": 4
}
