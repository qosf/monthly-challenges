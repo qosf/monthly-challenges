{
 "cells": [
  {
   "cell_type": "markdown",
   "id": "51130779",
   "metadata": {},
   "source": [
    "# Challenge: Palindrome Integer\n",
    "\n",
    "The purpose of this challenge is to generate an application for the analysis and design of quantum algorithms. For this case it is to prove that it is a palindrome, being the particular case in integers, for this it is considered that a [palindrome](https://en.wikipedia.org/wiki/Palindrome) integer is an integer x for which reverse(x) = x where reverse(x) is x with its digit reversed. Negative numbers are not palindrome.\n",
    "\n",
    "To get a clearer idea of this, consider the following two cases:\n",
    "\n",
    "\n",
    "#### Case 1:\n",
    "\n",
    "Consider the a integer number in the variable $p_1$, as $12588521$.\n",
    "    \n",
    "If you change the reverse order of the number, there is \n",
    "    \n",
    "                           \n",
    "$$ \\text{reverdsed}(p_1) = 12588521 .$$\n",
    "\n",
    "\n",
    "Rename as $p_1'$, it can be verified that\n",
    "\n",
    "$$p_1 = p_1',$$\n",
    "\n",
    "hence $p_1$ is a palindrome.\n",
    "\n",
    "\n",
    "#### Case 2:\n",
    "\n",
    "Consider the a integer number in the variable $p_2$, as 12583621.\n",
    "    \n",
    "If you change the reverse order of the number, there is \n",
    "    \n",
    "                           \n",
    "$$ \\text{reverdsed}(p_2) = 125638521 .$$\n",
    "\n",
    "\n",
    "Rename as $p_2'$, it can be verified that\n",
    "\n",
    "$$p_2 \\neq p_2',$$\n",
    "\n",
    "hence $p_2$ is a palindrome."
   ]
  },
  {
   "cell_type": "markdown",
   "id": "c4923aae",
   "metadata": {},
   "source": [
    "### Classical Code"
   ]
  },
  {
   "cell_type": "code",
   "execution_count": 15,
   "id": "b0352a98",
   "metadata": {
    "ExecuteTime": {
     "end_time": "2022-12-31T17:26:26.517448Z",
     "start_time": "2022-12-31T17:26:26.504199Z"
    }
   },
   "outputs": [],
   "source": [
    "def isPalindrome(A):\n",
    "        A = [int(x) for x in str(A)]\n",
    "        len_pa = len(A)\n",
    "        for i in range(int(len_pa/2)):\n",
    "            if A[i] != A[len_pa-i-1]:\n",
    "                return False\n",
    "        return True\n"
   ]
  },
  {
   "cell_type": "markdown",
   "id": "1edff640",
   "metadata": {},
   "source": [
    "Case 1, with the new proposal"
   ]
  },
  {
   "cell_type": "code",
   "execution_count": 16,
   "id": "9252f2f5",
   "metadata": {
    "ExecuteTime": {
     "end_time": "2022-12-31T17:26:28.131200Z",
     "start_time": "2022-12-31T17:26:28.123677Z"
    }
   },
   "outputs": [
    {
     "data": {
      "text/plain": [
       "True"
      ]
     },
     "execution_count": 16,
     "metadata": {},
     "output_type": "execute_result"
    }
   ],
   "source": [
    "isPalindrome(12588521)"
   ]
  },
  {
   "cell_type": "code",
   "execution_count": 17,
   "id": "99b4fbc7",
   "metadata": {
    "ExecuteTime": {
     "end_time": "2022-12-31T17:26:29.136462Z",
     "start_time": "2022-12-31T17:26:29.130008Z"
    }
   },
   "outputs": [
    {
     "data": {
      "text/plain": [
       "False"
      ]
     },
     "execution_count": 17,
     "metadata": {},
     "output_type": "execute_result"
    }
   ],
   "source": [
    "isPalindrome(12583621)"
   ]
  },
  {
   "cell_type": "markdown",
   "id": "713c7f09",
   "metadata": {},
   "source": [
    "## Quantum Proposal - Qiskit\n",
    "\n",
    "\n",
    "For this challenge, the idea of the second proposal will be used and generated in a quantum circuit. And consider the previous inputs of both cases:  12588521, 12583621.\n",
    "\n",
    "**Now the case 1 must be [1,2,5,8,8,5,2,1];**\n",
    "\n",
    "**and case 2 must be [1,2,5,8,3,6,2,1]**\n",
    "\n",
    "\n",
    "For this purpose, different blocks will be considered, such as :\n",
    "\n",
    "- Generate a vector of positive integers, \n",
    "- Inverse of the vector,\n",
    "- Condition of being equal the number of two vectors."
   ]
  },
  {
   "cell_type": "markdown",
   "id": "a5345206",
   "metadata": {},
   "source": [
    "#### Generate a vector of  positive integers\n",
    "\n",
    "\n",
    "Encoding to classical to quantum consider the encoding basis, where classical $N$-bit string can be representated as a basis state of a $N$-qubit system. For example, if the classical binary strins  is 101 ,  the quantum state must be $|101\\rangle$. \n",
    "\n",
    "\n",
    "The case of storing the values in a vector can be represented in a QRAM( some references https://arxiv.org/pdf/0708.1879.pdf, https://github.com/qsharp-community/qram/blob/master/docs/primer.pdf), for this address qubits and information qubits are needed.\n",
    "\n",
    "#### Example for encoding \n",
    "\n",
    "```python\n",
    "arr = [3, 4, 5, 6]\n",
    "``` \n",
    "\n",
    "Each element **value** needs to be encoded into some qubits and there needs to be some notion of **indexing** present with our encoding. \n",
    "\n",
    "While a classical RAM would encode the data into bits, a **qRAM** would encode the data into a quantum state like the following - \n",
    "\n",
    "$$ |\\Psi \\rangle = \\frac{|0\\rangle V_0|0\\rangle^{\\otimes n} + |1\\rangle V_1|0\\rangle^{\\otimes n} + |2\\rangle V_2|0\\rangle^{\\otimes n} + |3\\rangle V_3|0\\rangle^{\\otimes n}}{\\sqrt{4}}$$\n",
    "\n",
    "Here we can have two registers - one for the **indexing** and one for the **storage**. \n",
    "\n",
    "The first *ket* represents the **index qubits**. The numbers $0,1,2,3$ are indices and written in shorthand decimal format. Actually, the quantum state in the binary format they would be something like - \n",
    "    $$ |2\\rangle \\equiv |10\\rangle $$\n",
    "    \n",
    "The operator $V_i$ represents the operator which would encode the $i^{th}$ value of the array into the **value qubits**\n",
    "\n",
    "The second *ket* represents the **value qubits**. These qubits would store the values of the array elements. Note that the number of qubits, $n$ would be - \n",
    "    $$ n = \\lfloor log_2(m) \\rfloor + 1$$\n",
    "    \n",
    "where $\\lfloor x \\rfloor$ represents the [floor function](https://en.wikipedia.org/wiki/Floor_and_ceiling_functions) and $m$ is the maximum value available in the array. In the above example, $m$ would be just $6$ and we could use $3$ qubits for the value qubits. Note that value qubits are also encoded in the *binary* format.\n",
    "\n",
    "Finally, the complete **qRAM** state for the array `[3, 4, 5, 6]` would be - \n",
    "\n",
    "$$ |\\Psi \\rangle = \\frac{|00\\rangle |011\\rangle + |01\\rangle |100\\rangle + |10\\rangle |101\\rangle + |11\\rangle |110\\rangle}{\\sqrt{4}}$$\n",
    "\n",
    "#### Details for Encoding\n",
    "\n",
    "- Using qiskit to encode the data into a quantum circuit \n",
    "- Note that qiskit uses little endian encoding\n",
    "\n"
   ]
  },
  {
   "cell_type": "markdown",
   "id": "59ebefb7",
   "metadata": {},
   "source": [
    "#### Relevant Imports"
   ]
  },
  {
   "cell_type": "code",
   "execution_count": 24,
   "id": "9dbc4a86",
   "metadata": {
    "ExecuteTime": {
     "end_time": "2022-12-31T17:30:56.092628Z",
     "start_time": "2022-12-31T17:30:56.084545Z"
    }
   },
   "outputs": [],
   "source": [
    "from qiskit import QuantumCircuit, QuantumRegister, execute, Aer \n",
    "import math, random\n",
    "\n",
    "qasm_sim = Aer.get_backend('qasm_simulator')"
   ]
  },
  {
   "cell_type": "code",
   "execution_count": 3,
   "id": "5b646385",
   "metadata": {
    "ExecuteTime": {
     "end_time": "2022-12-31T17:25:51.476911Z",
     "start_time": "2022-12-31T17:25:51.301148Z"
    }
   },
   "outputs": [],
   "source": [
    "test_vector = [1,2,3,4,4,3,2,1]"
   ]
  },
  {
   "cell_type": "markdown",
   "id": "3770a4ad",
   "metadata": {},
   "source": [
    "## Solution \n",
    "\n",
    "- The idea is that if the elements of the number are a palindrome, then the QRAM encoding would exactly be the same for the reversed vector too. \n",
    "- Let the array of $n$ elements be called $a$ and its reverse vector $a_v$. If $a$ is a palindrome, $a[i] == a_{v}[i], \\forall i$\n",
    "- Let the $QRAM$ containing the input vector be called $QR$. After this, we simply reverse the operations of the QRAM matrix for the vector $a_v$ to obtain $QR_{rev}$\n",
    "- Now, we make a circuit with the following $K$ qubit unitary matrix : \n",
    "\n",
    "$$ U = H .(QR_{rev}). QR .H $$\n",
    "\n",
    "- This is applied on the quantum circuit with $K + 1$ qubits with the initial state as - \n",
    "\n",
    "$$ |\\Psi \\rangle = |0 \\rangle ^{\\otimes K} |0 \\rangle$$\n",
    "\n",
    "where $K = \\lceil log_2(N) \\rceil + \\lfloor log_2(M) \\rfloor + 1,\\ N = size\\ of\\ input\\_vector, M\\ =\\ max\\ value\\ in\\ input\\ vector$ \n",
    "\n",
    "- We now apply $U$ to $|\\Psi \\rangle$ - \n",
    "\n",
    "$$ |\\Psi^{'} \\rangle = U |\\Psi \\rangle$$\n",
    "- At the end, if the input_vector was a palindrome, the first $K$ qubits of the circuit would be in the $|0\\rangle ^{\\otimes K}$ state as - \n",
    "\n",
    "$$ (QR_{rev}). QR = \\mathbf{I}$$\n",
    "\n",
    "- So, we put a $MCX$ gate controlled on the $|0\\rangle ^{\\otimes K}$ state and store the input in the extra qubit. \n",
    "\n",
    "- If palindrome, final state of the circuit is - \n",
    "$$ |\\Psi^{'} \\rangle = |0 \\rangle ^{\\otimes K} \\otimes |1 \\rangle $$\n",
    "\n",
    "- If not palindrome, the final state is : \n",
    "$$ |\\Psi^{'}  \\rangle = |\\Phi \\rangle \\otimes |0 \\rangle,\\ |\\Phi \\rangle \\neq |0 \\rangle ^ {\\otimes K} $$\n",
    "\n",
    "- That's it!"
   ]
  },
  {
   "cell_type": "markdown",
   "id": "152eab3c",
   "metadata": {},
   "source": [
    "## Functions"
   ]
  },
  {
   "cell_type": "markdown",
   "id": "55f24fc3",
   "metadata": {},
   "source": [
    "### `quantum_value(ctrl, value, name)` \n",
    "- This function encodes the `value` at the index `ctrl` into a `QauntumCircuit` object \n",
    "- Internally uses the `control` method of the `QuantumCircuit` object to prepare a multi controlled gate\n",
    "- This is returned as a circuit to the main `qc_vector` caller "
   ]
  },
  {
   "cell_type": "code",
   "execution_count": 4,
   "id": "9ffecd1a",
   "metadata": {
    "ExecuteTime": {
     "end_time": "2022-12-31T17:25:55.854921Z",
     "start_time": "2022-12-31T17:25:55.849806Z"
    }
   },
   "outputs": [],
   "source": [
    "def quantum_value(ctrl, value, name):\n",
    "    \n",
    "    # make a circuit \n",
    "    circ = QuantumCircuit(len(value), name = name)\n",
    "    \n",
    "    # reverse as the least significant bit is the \n",
    "    # last one here \n",
    "    value = value[::-1]\n",
    "    \n",
    "    # encode the value \n",
    "    for i in range(len(value)):\n",
    "        if value[i] == '1':\n",
    "            circ.x(i)\n",
    "            \n",
    "    circ = circ.control(num_ctrl_qubits = len(ctrl), ctrl_state = ctrl)\n",
    "    \n",
    "    return circ"
   ]
  },
  {
   "cell_type": "markdown",
   "id": "a50137f0",
   "metadata": {},
   "source": [
    "### `qc_vector(input_vector)`\n",
    "\n",
    "- Method to generate the vector in a quantum circuit, the quantum circuit depends of a qubit addres value, can select a binary string representation in the encoding data.\n",
    "\n",
    "- `input_vector` : Integer value or a list of positive integer values, example 12588521 or [1,2,5,8,8,5,2,1]\n",
    "\n",
    "- Returns: a quantum circuit that has a set of qubit address and a set of qubit values or a QRAM with the encoded data \n"
   ]
  },
  {
   "cell_type": "code",
   "execution_count": 5,
   "id": "9cf0176b",
   "metadata": {
    "ExecuteTime": {
     "end_time": "2022-12-31T17:25:57.632115Z",
     "start_time": "2022-12-31T17:25:57.618669Z"
    }
   },
   "outputs": [],
   "source": [
    "\n",
    "def qc_vector(input_vector):\n",
    "    n = len(input_vector)\n",
    "    m = max(input_vector)\n",
    "    \n",
    "    size_index = math.ceil(math.log2(n))\n",
    "    size_value = math.floor(math.log2(m)) + 1\n",
    "    \n",
    "    index_register = QuantumRegister(size = size_index, name = \"indices\")\n",
    "    value_register = QuantumRegister(size = size_value, name = \"values\")\n",
    "    \n",
    "    qcirc = QuantumCircuit(index_register, value_register)\n",
    "    qcirc.h(index_register)\n",
    "    # start encoding of the bits \n",
    "    for i in range(n):\n",
    "        # get the ctrl state \n",
    "        \n",
    "        ctrl_state = bin(i)[2:].zfill(size_index)\n",
    "        \n",
    "        value = bin(input_vector[i])[2:].zfill(size_value)\n",
    "        \n",
    "        qcirc = qcirc.compose(quantum_value(ctrl_state, value, f'arr_{i}'))\n",
    "    \n",
    "    \n",
    "    return qcirc #return quantum circuit"
   ]
  },
  {
   "cell_type": "code",
   "execution_count": 6,
   "id": "27e177dd",
   "metadata": {
    "ExecuteTime": {
     "end_time": "2022-12-31T17:26:04.306790Z",
     "start_time": "2022-12-31T17:25:58.603388Z"
    }
   },
   "outputs": [
    {
     "data": {
      "image/png": "[encoded data removed]",
      "text/plain": [
       "<Figure size 1169.99x385.28 with 1 Axes>"
      ]
     },
     "execution_count": 6,
     "metadata": {},
     "output_type": "execute_result"
    }
   ],
   "source": [
    "qram = qc_vector(test_vector)\n",
    "qram.draw('mpl')"
   ]
  },
  {
   "cell_type": "markdown",
   "id": "fa6a2dbb",
   "metadata": {},
   "source": [
    "### qc_vector_reverse(input_vector) \n",
    "- Generates the QRAM for the reversed vector. Note that one caveat has to be that we have to reverse the operations of the circuit to match the control values of the $MCCX$ gates. \n",
    "- For an example, take [1,2,2,1] here, the reversed verctor would be the same but if we just used the reversed encoding we would not be able to match the control qubits of the QRAMs.\n",
    "\n",
    "- `input_vector` : the input vector containing the digits of the number\n",
    "\n",
    "- Returns : the reversed QRAM matrix for the input vector"
   ]
  },
  {
   "cell_type": "code",
   "execution_count": 7,
   "id": "d6d89e95",
   "metadata": {
    "ExecuteTime": {
     "end_time": "2022-12-31T17:26:04.312532Z",
     "start_time": "2022-12-31T17:26:04.309001Z"
    }
   },
   "outputs": [],
   "source": [
    "def qc_vector_reverse(input_vector):\n",
    "    return qc_vector(input_vector[::-1]).reverse_ops()#return quantum circuit \n",
    " "
   ]
  },
  {
   "cell_type": "code",
   "execution_count": 8,
   "id": "d7178dac",
   "metadata": {
    "ExecuteTime": {
     "end_time": "2022-12-31T17:26:04.682638Z",
     "start_time": "2022-12-31T17:26:04.632675Z"
    }
   },
   "outputs": [],
   "source": [
    "reverse_qram = qc_vector_reverse(test_vector)"
   ]
  },
  {
   "cell_type": "code",
   "execution_count": 9,
   "id": "e182c196",
   "metadata": {
    "ExecuteTime": {
     "end_time": "2022-12-31T17:26:05.408782Z",
     "start_time": "2022-12-31T17:26:04.773383Z"
    }
   },
   "outputs": [
    {
     "data": {
      "image/png": "[encoded data removed]",
      "text/plain": [
       "<Figure size 1169.99x385.28 with 1 Axes>"
      ]
     },
     "execution_count": 9,
     "metadata": {},
     "output_type": "execute_result"
    }
   ],
   "source": [
    "reverse_qram.draw('mpl')"
   ]
  },
  {
   "cell_type": "markdown",
   "id": "e1016ab3",
   "metadata": {},
   "source": [
    "### `quantum_oracle(qubit_number, qram, qram_rev)`\n",
    "- Makes the $U$ matrix for our algorithm\n",
    "- `qubit_number` : the total number of qubits in the circuit\n",
    "- `qram` : qram encoding of the input vector\n",
    "- `qram_rev` : reversed qram of the reversed input vector\n",
    "\n",
    "- Returns : `QuantumCircuit` for the oracle "
   ]
  },
  {
   "cell_type": "code",
   "execution_count": 10,
   "id": "57c85bca",
   "metadata": {
    "ExecuteTime": {
     "end_time": "2022-12-31T17:26:09.082813Z",
     "start_time": "2022-12-31T17:26:09.070674Z"
    }
   },
   "outputs": [],
   "source": [
    "\"\"\"\n",
    "Method to generate an oracle for a quantum circuit, \n",
    "using m+1 qubits, and return a 0 or 1 that neabs different or equals. \n",
    "\n",
    "qubit_num: Integer value that representate the values qubits for the qram and 1 extra qubit,\n",
    "           that is the flag qubit. \n",
    "\n",
    "return: a quantum circuit that has a set of qubit values + 1 with the flag qubit. \n",
    "\"\"\"\n",
    "\n",
    "def quantum_oracle(qubit_number, qram, qram_rev):\n",
    "    \n",
    "    qc = QuantumCircuit(qubit_number, name = 'oracle')\n",
    "    \n",
    "    # make the oracle \n",
    "    qc.compose(qram, inplace = True)\n",
    "    qc.barrier()\n",
    "    qc.compose(qram_rev, inplace = True)\n",
    "    \n",
    "    \n",
    "    return qc #return quantum circuit "
   ]
  },
  {
   "cell_type": "markdown",
   "id": "165e625f",
   "metadata": {},
   "source": [
    "### `quantum_isPalindrome(input_value)\n",
    "- Takes in an input integer number, and builds and executes a quantum circuit to identify if the number is palindrome or not \n",
    "- Returns : 1 if palindrome, 0 if not palindrome"
   ]
  },
  {
   "cell_type": "code",
   "execution_count": 18,
   "id": "89e1ef9d",
   "metadata": {
    "ExecuteTime": {
     "end_time": "2022-12-31T17:26:34.015271Z",
     "start_time": "2022-12-31T17:26:34.006639Z"
    }
   },
   "outputs": [],
   "source": [
    "def quantum_isPalindrome(input_value):\n",
    "    \n",
    "    input_vector = [int(x) for x in str(input_value)]\n",
    "    \n",
    "    # make QR\n",
    "    qram = qc_vector(input_vector)\n",
    "    \n",
    "    # make QR_rev dagger\n",
    "    reverse_qram = qc_vector_reverse(input_vector)\n",
    "    \n",
    "    # define K \n",
    "    K = qram.num_qubits \n",
    "    \n",
    "    final_circuit = QuantumCircuit(K + 1,1)\n",
    "    \n",
    "    # build oracle \n",
    "    oracle = quantum_oracle(K, qram, reverse_qram)\n",
    "    \n",
    "    # add oracle\n",
    "    final_circuit.compose(oracle, inplace = True )\n",
    "    \n",
    "    # build and add the mcx gate \n",
    "    x_gate = QuantumCircuit(1, name = 'x')\n",
    "    x_gate.x(0)\n",
    "    zero_mcx_gate = x_gate.control(num_ctrl_qubits=K, ctrl_state = 0)\n",
    "    \n",
    "    # compose the gate\n",
    "    final_circuit.compose(zero_mcx_gate, inplace = True)\n",
    "    \n",
    "    # measurement of flag qubit \n",
    "    final_circuit.measure(K,0)\n",
    "    \n",
    "    results = execute(final_circuit, backend = qasm_sim, shots = 2**12).result().get_counts()\n",
    "    \n",
    "    # all the counts were 1, means all zero state on the first\n",
    "    # k qubits \n",
    "    if '0' not in results.keys():\n",
    "        return 1 \n",
    "    else:\n",
    "        return 0\n",
    "    "
   ]
  },
  {
   "cell_type": "markdown",
   "id": "b410751c",
   "metadata": {},
   "source": [
    "### Checking the quantum algorithm"
   ]
  },
  {
   "cell_type": "code",
   "execution_count": 21,
   "id": "5b6cd2d7",
   "metadata": {
    "ExecuteTime": {
     "end_time": "2022-12-31T17:26:38.344841Z",
     "start_time": "2022-12-31T17:26:38.049984Z"
    }
   },
   "outputs": [
    {
     "data": {
      "text/plain": [
       "1"
      ]
     },
     "execution_count": 21,
     "metadata": {},
     "output_type": "execute_result"
    }
   ],
   "source": [
    "quantum_isPalindrome(3125885213)"
   ]
  },
  {
   "cell_type": "code",
   "execution_count": 22,
   "id": "fe356b42",
   "metadata": {
    "ExecuteTime": {
     "end_time": "2022-12-31T17:26:40.226903Z",
     "start_time": "2022-12-31T17:26:39.988845Z"
    }
   },
   "outputs": [
    {
     "data": {
      "text/plain": [
       "0"
      ]
     },
     "execution_count": 22,
     "metadata": {},
     "output_type": "execute_result"
    }
   ],
   "source": [
    "quantum_isPalindrome(126776212)"
   ]
  },
  {
   "cell_type": "markdown",
   "id": "dce7a7b6",
   "metadata": {},
   "source": [
    "### Stress Testing \n",
    "- We test our quantum algorithm against the classical one\n",
    "- The range chosen is arbitray, nevertheless we can see the results are correct for each number in the range"
   ]
  },
  {
   "cell_type": "code",
   "execution_count": 25,
   "id": "1978370c",
   "metadata": {
    "ExecuteTime": {
     "end_time": "2022-12-31T17:31:59.671899Z",
     "start_time": "2022-12-31T17:31:25.798634Z"
    }
   },
   "outputs": [],
   "source": [
    "success = 0\n",
    "failure = 0\n",
    "\n",
    "for _ in range(100):\n",
    "    # choosing any random number \n",
    "    num = random.randint(1, 1e10)\n",
    "    \n",
    "    # quantum result\n",
    "    result = quantum_isPalindrome(num)\n",
    "    \n",
    "    # classical expectation\n",
    "    if isPalindrome(num):\n",
    "        expected = 1 \n",
    "    else:\n",
    "        expected = 0 \n",
    "    \n",
    "    if result == expected:\n",
    "        success+=1 \n",
    "    else:\n",
    "        failure += 1\n",
    "   \n",
    "        "
   ]
  },
  {
   "cell_type": "code",
   "execution_count": 26,
   "id": "cddb2f7a",
   "metadata": {
    "ExecuteTime": {
     "end_time": "2022-12-31T17:32:04.791190Z",
     "start_time": "2022-12-31T17:32:04.782320Z"
    }
   },
   "outputs": [
    {
     "name": "stdout",
     "output_type": "stream",
     "text": [
      "Success :  100\n",
      "Failure :  0\n"
     ]
    }
   ],
   "source": [
    "print(\"Success : \",success)\n",
    "print(\"Failure : \", failure)"
   ]
  },
  {
   "cell_type": "code",
   "execution_count": 27,
   "id": "84e53c87",
   "metadata": {
    "ExecuteTime": {
     "end_time": "2022-12-31T17:32:07.530325Z",
     "start_time": "2022-12-31T17:32:07.525113Z"
    }
   },
   "outputs": [
    {
     "data": {
      "text/plain": [
       "{'qiskit-terra': '0.22.3', 'qiskit-aer': '0.11.2', 'qiskit-ignis': '0.7.0', 'qiskit-ibmq-provider': '0.19.2', 'qiskit': '0.39.4', 'qiskit-nature': None, 'qiskit-finance': None, 'qiskit-optimization': None, 'qiskit-machine-learning': None}"
      ]
     },
     "execution_count": 27,
     "metadata": {},
     "output_type": "execute_result"
    }
   ],
   "source": [
    "from qiskit import __qiskit_version__\n",
    "__qiskit_version__"
   ]
  },
  {
   "cell_type": "markdown",
   "id": "dce383fa",
   "metadata": {
    "heading_collapsed": true
   },
   "source": [
    "## References\n",
    "\n",
    "\n",
    "[1] Deutsch, David, and Richard Jozsa. \"Rapid solution of problems by quantum computation.\" Proceedings of the Royal Society of London. Series A: Mathematical and Physical Sciences 439.1907 (1992): 553-558., https://www.isical.ac.in/~rcbose/internship/lectures2016/rt08deutschjozsa.pdf\n",
    "\n",
    "[2] Bernstein, Ethan, and Umesh Vazirani. \"Quantum complexity theory.\" SIAM Journal on computing 26.5 (1997): 1411-1473.https://citeseerx.ist.psu.edu/viewdoc/download?doi=10.1.1.655.1186&rep=rep1&type=pdf\n",
    "\n",
    "[3] Grover, Lov K. , \"A fast quantum mechanical algorithm for database search\", Proceedings of the 28th Annual ACM Symposium on the Theory of Computing (1996), arXiv:quant-ph/9605043\n"
   ]
  }
 ],
 "metadata": {
  "kernelspec": {
   "display_name": "Python 3",
   "language": "python",
   "name": "python3"
  },
  "language_info": {
   "codemirror_mode": {
    "name": "ipython",
    "version": 3
   },
   "file_extension": ".py",
   "mimetype": "text/x-python",
   "name": "python",
   "nbconvert_exporter": "python",
   "pygments_lexer": "ipython3",
   "version": "3.8.10"
  }
 },
 "nbformat": 4,
 "nbformat_minor": 5
}
