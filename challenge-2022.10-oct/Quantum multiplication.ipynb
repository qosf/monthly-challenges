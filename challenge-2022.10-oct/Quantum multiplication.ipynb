{
 "cells": [
  {
   "cell_type": "markdown",
   "id": "d3106334-28c2-4f37-b7d4-15555c13a9ba",
   "metadata": {},
   "source": [
    "This is where we will define a quantum multiplier."
   ]
  },
  {
   "cell_type": "markdown",
   "id": "0e79d974-0eb1-4433-bf47-708f4457a5d1",
   "metadata": {},
   "source": [
    "Step 1: Set up environment"
   ]
  },
  {
   "cell_type": "code",
   "execution_count": 1,
   "id": "f7d4b23b-107e-44d3-a49b-85d3dc9f1950",
   "metadata": {},
   "outputs": [],
   "source": [
    "# !pip install cirq\n",
    "import cirq\n",
    "from cirq.circuits import InsertStrategy\n",
    "from cirq import H, SWAP, CZPowGate\n",
    "from cirq import X"
   ]
  },
  {
   "cell_type": "markdown",
   "id": "c320ad78-fef8-48a9-8a35-988d49ec1b47",
   "metadata": {},
   "source": [
    "Step 2: Implementing QFT and IQFT"
   ]
  },
  {
   "cell_type": "code",
   "execution_count": 2,
   "id": "ff566126-129b-4729-b854-ee231911073e",
   "metadata": {},
   "outputs": [],
   "source": [
    "def iqft(n,qubits,circuit):\n",
    "    #Swap the qubits\n",
    "    for i in range(n//2):\n",
    "        circuit.append(SWAP(qubits[i],qubits[n-i-1]), strategy = InsertStrategy.NEW)    \n",
    "    \n",
    "    for i in range(n-1,-1,-1):\n",
    "        #Apply CR_k gates where j is the control and i is the target\n",
    "        k=n-i\n",
    "        for j in range(n-1,i,-1):\n",
    "            #Define and apply CR_k gate  \n",
    "            crk = CZPowGate(exponent = -2/2**(k))\n",
    "            circuit.append(crk(qubits[j],qubits[i]),strategy = InsertStrategy.NEW)\n",
    "            k-=1 #Increment k at each step\n",
    "    \n",
    "        #Apply Hadamard to the qubit\n",
    "        circuit.append(H(qubits[i]), strategy = InsertStrategy.NEW)"
   ]
  },
  {
   "cell_type": "code",
   "execution_count": 6,
   "id": "a36f895d-2ee4-4428-85c1-9133fd547e7c",
   "metadata": {},
   "outputs": [],
   "source": [
    "def qft(n,qubits,circuit):\n",
    "    #Define shorthand notation for Hadamard and Swap gates\n",
    "    H = cirq.H\n",
    "    swap = cirq.SWAP\n",
    "\n",
    "    #For each qubit\n",
    "    for i in range(n):\n",
    "        #Apply Hadamard to the qubit\n",
    "        circuit.append(H(qubits[i]))\n",
    "        #Apply CR_j gates where j is the control and i is the target\n",
    "        for j in range(i+1,n):\n",
    "            #Define and apply CR_j gate\n",
    "            crj = cirq.CZPowGate(exponent = 2/2**j)\n",
    "            circuit.append(crj(qubits[j],qubits[i]))\n",
    "\n",
    "    #Swap gates\n",
    "    if n%2==0:\n",
    "        k=int(n/2)\n",
    "    else:\n",
    "        k=int((n-1)/2)\n",
    "        \n",
    "    for i in range(k):\n",
    "        circuit.append(swap(qubits[i],qubits[n-i-1]))"
   ]
  },
  {
   "cell_type": "code",
   "execution_count": 11,
   "id": "ba62b332-58e5-4ea7-a68f-2b017baeb7d3",
   "metadata": {},
   "outputs": [
    {
     "name": "stdout",
     "output_type": "stream",
     "text": [
      "Sample the circuit:\n",
      "Counter({0: 1000})\n",
      "              ┌──────┐\n",
      "0: ───H───@────@─────────────────────×───×────────────────────@─────────@────────H───M('result')───\n",
      "          │    │                     │   │                    │         │            │\n",
      "1: ───────@────┼────H────@───────────┼───┼───────@────────H───┼─────────@^-0.5───────M─────────────\n",
      "               │         │           │   │       │            │                      │\n",
      "2: ────────────@^0.5─────@^0.5───H───×───×───H───@^-0.5───────@^-0.25────────────────M─────────────\n",
      "\n",
      "3: ───X────────────────────────────────────────────────────────────────────────────────────────────\n",
      "              └──────┘\n"
     ]
    }
   ],
   "source": [
    "circuit = cirq.Circuit()\n",
    "\n",
    "t=3 #Number of qubits in the a and b register\n",
    "n=2*t-1 #Number of qubits in the output\n",
    "\n",
    "#Create t control qubits\n",
    "a = [cirq.LineQubit(i) for i in range(t)]\n",
    "b = [cirq.LineQubit(i) for i in range(t, 2*t)]\n",
    "#Create n target qubits\n",
    "target = [cirq.LineQubit(i) for i in range(2*t,t+n) ]\n",
    "\n",
    "qft(b ,control,circuit)\n",
    "iqft(t,control,circuit)\n",
    "circuit.append(X.on_each(target))\n",
    "circuit.append(cirq.measure(*control, key='result'))\n",
    "s=cirq.Simulator()\n",
    "print('Sample the circuit:')\n",
    "samples=s.run(circuit, repetitions=1000)\n",
    "# Print a histogram of results\n",
    "print(samples.histogram(key='result'))\n",
    "print(circuit)"
   ]
  },
  {
   "cell_type": "code",
   "execution_count": null,
   "id": "7c705da2-0b11-48de-adf6-281c219e239e",
   "metadata": {},
   "outputs": [],
   "source": []
  }
 ],
 "metadata": {
  "kernelspec": {
   "display_name": "Python 3 [Womanium]",
   "language": "python",
   "name": "python3_womanium_go14xk"
  },
  "language_info": {
   "codemirror_mode": {
    "name": "ipython",
    "version": 3
   },
   "file_extension": ".py",
   "mimetype": "text/x-python",
   "name": "python",
   "nbconvert_exporter": "python",
   "pygments_lexer": "ipython3",
   "version": "3.9.10"
  }
 },
 "nbformat": 4,
 "nbformat_minor": 5
}
