{
 "cells": [
  {
   "cell_type": "markdown",
   "id": "8c52a3cd",
   "metadata": {},
   "source": [
    "## Task 1"
   ]
  },
  {
   "cell_type": "code",
   "execution_count": 1,
   "id": "7b87d1c4",
   "metadata": {},
   "outputs": [],
   "source": [
    "def check_board(alice_nums, bob_nums, row, col):\n",
    "    # Check if binary sum of Alice's numbers == 0\n",
    "    if (sum(alice_nums) % 2) != 0:\n",
    "        return False\n",
    "    \n",
    "    # Check if binary sum of Bob's numbers == 1\n",
    "    if (sum(bob_nums) % 2) != 1:\n",
    "        return False\n",
    "    \n",
    "    # Check if Alice and Bob placed same number in cell where her row and his column intersect\n",
    "    if alice_nums[col] != bob_nums[row]:\n",
    "        return False\n",
    "    \n",
    "    return True\n",
    "\n",
    "\n",
    "# print(check_board([1, 0, 1], [1, 1, 0], 1, 2))\n",
    "# print(check_board([0, 0, 0], [0, 0, 1], 2, 2))\n",
    "# print(check_board([0, 1, 1], [1, 0, 0], 0, 1))"
   ]
  },
  {
   "cell_type": "code",
   "execution_count": 2,
   "id": "3f4aea39",
   "metadata": {},
   "outputs": [
    {
     "name": "stdout",
     "output_type": "stream",
     "text": [
      "34895 games won\n",
      "500000 games played\n",
      "0.06979 games won\n"
     ]
    }
   ],
   "source": [
    "import random\n",
    "import numpy as np\n",
    "\n",
    "\n",
    "def simulate_task1():\n",
    "    '''\n",
    "    returns True if Alice and Bob won\n",
    "            False if Alice and Bob lost\n",
    "    '''\n",
    "    \n",
    "    \n",
    "    # Richard randomly chooses row and column\n",
    "    row = random.randint(0, 2)\n",
    "    col = random.randint(0, 2)\n",
    "    \n",
    "    # the values filled are represented by the binary representation of the random int\n",
    "    rand1 = random.randint(0, 7)\n",
    "    rand2 = random.randint(0, 7)\n",
    "    \n",
    "    alice_nums = [rand1 & (1 << x) for x in range(3)]\n",
    "    bob_nums = [rand2 & (1 << x) for x in range(3)]\n",
    "    \n",
    "    return check_board(alice_nums, bob_nums, row, col)\n",
    "\n",
    "\n",
    "results = [simulate_task1() for _ in range(500000)]\n",
    "\n",
    "print(f'{sum(results)} games won')\n",
    "print(f'{len(results)} games played')\n",
    "print(f'{sum(results)/len(results):.5f} games won')"
   ]
  },
  {
   "cell_type": "code",
   "execution_count": 3,
   "id": "078ddda5",
   "metadata": {},
   "outputs": [
    {
     "name": "stdout",
     "output_type": "stream",
     "text": [
      "40 winning boards\n",
      "576 total possible boards\n",
      "0.06944 probability of winning\n"
     ]
    }
   ],
   "source": [
    "def generate_all_boards_task1():    \n",
    "    all_boards = []\n",
    "    for row in range(3):\n",
    "        for col in range(3):\n",
    "            for rand1 in range(8):\n",
    "                for rand2 in range(8):\n",
    "                    alice_nums = [rand1 & (1 << x) for x in range(3)]\n",
    "                    bob_nums = [rand2 & (1 << x) for x in range(3)]\n",
    "                    all_boards.append((alice_nums, bob_nums, row, col))\n",
    "    return all_boards\n",
    "\n",
    "results = [check_board(*board) for board in generate_all_boards_task1()]\n",
    "\n",
    "print(f'{sum(results)} winning boards')\n",
    "print(f'{len(results)} total possible boards')\n",
    "print(f'{sum(results)/len(results):.5f} probability of winning')"
   ]
  },
  {
   "cell_type": "markdown",
   "id": "6c35644b",
   "metadata": {},
   "source": [
    "Through simulation of all possible states of the board, we can determine that the probability of winning would be $\\frac{40}{576}=\\frac{5}{72}\\approx0.06944$. This is rather close to the value obtained from above."
   ]
  },
  {
   "cell_type": "markdown",
   "id": "aaa77ace",
   "metadata": {},
   "source": [
    "## Task 2"
   ]
  },
  {
   "cell_type": "markdown",
   "id": "85dbf18f",
   "metadata": {},
   "source": [
    "We make a minor adjustment to the solution for Task 1. Instead of randomly generating all 3 bits, we only generate the first 2 bits. The first 2 bits will determine what the last bit is in order to satisfy the binary sum condition.\n",
    "\n",
    "Alice:\n",
    "\n",
    "| Bit 1 | Bit 2 | Bit 3 |\n",
    "|:-:|:-:|:-:|\n",
    "| 0 | 0 | 0 |\n",
    "| 0 | 1 | 1 |\n",
    "| 1 | 0 | 1 |\n",
    "| 1 | 1 | 0 |\n",
    "\n",
    "Bob:\n",
    "\n",
    "| Bit 1 | Bit 2 | Bit 3 |\n",
    "|:-:|:-:|:-:|\n",
    "| 0 | 0 | 1 |\n",
    "| 0 | 1 | 0 |\n",
    "| 1 | 0 | 0 |\n",
    "| 1 | 1 | 1 |"
   ]
  },
  {
   "cell_type": "code",
   "execution_count": 4,
   "id": "4ea7f1d5",
   "metadata": {},
   "outputs": [
    {
     "name": "stdout",
     "output_type": "stream",
     "text": [
      "Task 2\n",
      "138956 games won\n",
      "500000 games played\n",
      "0.27791 games won\n"
     ]
    }
   ],
   "source": [
    "def simulate_task2():\n",
    "    '''\n",
    "    returns True if Alice and Bob won\n",
    "            False if Alice and Bob lost\n",
    "    '''\n",
    "    \n",
    "    # Mostly similar to Task 1\n",
    "    \n",
    "    row = random.randint(0, 2)\n",
    "    col = random.randint(0, 2)\n",
    "    \n",
    "    # Only generate first 2 bits\n",
    "    # Last bit will be uniquely determined by the first 2 bits\n",
    "    rand1 = random.randint(0, 3)\n",
    "    rand2 = random.randint(0, 3)\n",
    "    \n",
    "    alice_nums = [rand1 & (1 << x) for x in range(2)]\n",
    "    alice_nums.append((2 - sum(alice_nums) % 2))\n",
    "    bob_nums = [rand2 & (1 << x) for x in range(2)]\n",
    "    bob_nums.append((3 - sum(bob_nums) % 2))\n",
    "    \n",
    "    return check_board(alice_nums, bob_nums, row, col)\n",
    "\n",
    "\n",
    "results = [simulate_task2() for _ in range(500000)]\n",
    "\n",
    "print('Task 2')\n",
    "print(f'{sum(results)} games won')\n",
    "print(f'{len(results)} games played')\n",
    "print(f'{sum(results)/len(results):.5f} games won')"
   ]
  },
  {
   "cell_type": "code",
   "execution_count": 5,
   "id": "4f43dd44",
   "metadata": {},
   "outputs": [
    {
     "name": "stdout",
     "output_type": "stream",
     "text": [
      "40 winning boards\n",
      "144 total possible boards\n",
      "0.27778 probability of winning\n"
     ]
    }
   ],
   "source": [
    "def generate_all_boards_task2():    \n",
    "    all_boards = []\n",
    "    for row in range(3):\n",
    "        for col in range(3):\n",
    "            for rand1 in range(4):\n",
    "                for rand2 in range(4):\n",
    "                    alice_nums = [rand1 & (1 << x) for x in range(2)]\n",
    "                    alice_nums.append((2 - sum(alice_nums) % 2))\n",
    "                    bob_nums = [rand2 & (1 << x) for x in range(2)]\n",
    "                    bob_nums.append((3 - sum(bob_nums) % 2))\n",
    "                    all_boards.append((alice_nums, bob_nums, row, col))\n",
    "    return all_boards\n",
    "\n",
    "results = [check_board(*board) for board in generate_all_boards_task2()]\n",
    "\n",
    "print(f'{sum(results)} winning boards')\n",
    "print(f'{len(results)} total possible boards')\n",
    "print(f'{sum(results)/len(results):.5f} probability of winning')"
   ]
  }
 ],
 "metadata": {
  "kernelspec": {
   "display_name": "Python 3",
   "language": "python",
   "name": "python3"
  },
  "language_info": {
   "codemirror_mode": {
    "name": "ipython",
    "version": 3
   },
   "file_extension": ".py",
   "mimetype": "text/x-python",
   "name": "python",
   "nbconvert_exporter": "python",
   "pygments_lexer": "ipython3",
   "version": "3.8.8"
  }
 },
 "nbformat": 4,
 "nbformat_minor": 5
}
