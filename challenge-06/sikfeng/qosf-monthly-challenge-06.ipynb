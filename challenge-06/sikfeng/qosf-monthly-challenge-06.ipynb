{
 "cells": [
  {
   "cell_type": "markdown",
   "id": "8c52a3cd",
   "metadata": {},
   "source": [
    "## Task 1"
   ]
  },
  {
   "cell_type": "code",
   "execution_count": 1,
   "id": "7b87d1c4",
   "metadata": {},
   "outputs": [],
   "source": [
    "import random\n",
    "import numpy as np\n",
    "\n",
    "def check_board(alice_nums, bob_nums, row, col):\n",
    "    # Function to check if Alice and Bob win a game\n",
    "    # given their numbers, row and column\n",
    "    \n",
    "    # Check if binary sum of Alice's numbers == 0\n",
    "    if (sum(alice_nums) % 2) != 0:\n",
    "        return False\n",
    "    \n",
    "    # Check if binary sum of Bob's numbers == 1\n",
    "    if (sum(bob_nums) % 2) != 1:\n",
    "        return False\n",
    "    \n",
    "    # Check if Alice and Bob placed same number in cell where her row and his column intersect\n",
    "    if alice_nums[col] != bob_nums[row]:\n",
    "        return False\n",
    "    \n",
    "    return True\n",
    "\n",
    "\n",
    "# print(check_board([1, 0, 1], [1, 1, 0], 1, 2))\n",
    "# print(check_board([0, 0, 0], [0, 0, 1], 2, 2))\n",
    "# print(check_board([0, 1, 1], [1, 0, 0], 0, 1))"
   ]
  },
  {
   "cell_type": "code",
   "execution_count": 2,
   "id": "3f4aea39",
   "metadata": {},
   "outputs": [
    {
     "name": "stdout",
     "output_type": "stream",
     "text": [
      "Task 1\n",
      "62466 games won\n",
      "500000 games played\n",
      "0.12493 of games won\n"
     ]
    }
   ],
   "source": [
    "def simulate_task1():\n",
    "    '''\n",
    "    returns True if Alice and Bob won\n",
    "            False if Alice and Bob lost\n",
    "    '''\n",
    "    \n",
    "    \n",
    "    # Richard randomly chooses row and column\n",
    "    row = random.randint(0, 2)\n",
    "    col = random.randint(0, 2)\n",
    "    \n",
    "    # the values filled are represented by the binary representation of the random int\n",
    "    rand1 = random.randint(0, 7)\n",
    "    rand2 = random.randint(0, 7)\n",
    "    \n",
    "    alice_nums = [int((rand1 & (1 << x)) > 0) for x in range(3)]\n",
    "    bob_nums = [int((rand2 & (1 << x)) > 0) for x in range(3)]\n",
    "    \n",
    "    return check_board(alice_nums, bob_nums, row, col)\n",
    "\n",
    "\n",
    "results = [simulate_task1() for _ in range(500000)]\n",
    "\n",
    "print('Task 1')\n",
    "print(f'{sum(results)} games won')\n",
    "print(f'{len(results)} games played')\n",
    "print(f'{sum(results)/len(results):.5f} of games won')"
   ]
  },
  {
   "cell_type": "code",
   "execution_count": 3,
   "id": "078ddda5",
   "metadata": {},
   "outputs": [
    {
     "name": "stdout",
     "output_type": "stream",
     "text": [
      "Task 1\n",
      "72 winning boards\n",
      "576 total possible boards\n",
      "0.12500 probability of winning\n"
     ]
    }
   ],
   "source": [
    "def generate_all_boards_task1():    \n",
    "    all_boards = []\n",
    "    for row in range(3):\n",
    "        for col in range(3):\n",
    "            for rand1 in range(8):\n",
    "                for rand2 in range(8):\n",
    "                    alice_nums = [int((rand1 & (1 << x)) > 0) for x in range(3)]\n",
    "                    bob_nums = [int((rand2 & (1 << x)) > 0) for x in range(3)]\n",
    "                    all_boards.append((alice_nums, bob_nums, row, col))\n",
    "    return all_boards\n",
    "\n",
    "results = [check_board(*board) for board in generate_all_boards_task1()]\n",
    "\n",
    "print('Task 1')\n",
    "print(f'{sum(results)} winning boards')\n",
    "print(f'{len(results)} total possible boards')\n",
    "print(f'{sum(results)/len(results):.5f} probability of winning')"
   ]
  },
  {
   "cell_type": "markdown",
   "id": "6c35644b",
   "metadata": {},
   "source": [
    "Through simulation of all possible states of the board, we can determine that the probability of winning would be $\\frac{72}{576}=0.125$. This is rather close to the value obtained from above."
   ]
  },
  {
   "cell_type": "markdown",
   "id": "aaa77ace",
   "metadata": {},
   "source": [
    "## Task 2"
   ]
  },
  {
   "cell_type": "markdown",
   "id": "85dbf18f",
   "metadata": {},
   "source": [
    "We make a minor adjustment to the solution for Task 1. Instead of randomly generating all $3$ bits, we only generate the first $2$ bits. The first $2$ bits will determine what the last bit is in order to satisfy the binary sum condition.\n",
    "\n",
    "Alice:\n",
    "\n",
    "| Bit 1 | Bit 2 | Bit 3 |\n",
    "|:-:|:-:|:-:|\n",
    "| 0 | 0 | 0 |\n",
    "| 0 | 1 | 1 |\n",
    "| 1 | 0 | 1 |\n",
    "| 1 | 1 | 0 |\n",
    "\n",
    "Bob:\n",
    "\n",
    "| Bit 1 | Bit 2 | Bit 3 |\n",
    "|:-:|:-:|:-:|\n",
    "| 0 | 0 | 1 |\n",
    "| 0 | 1 | 0 |\n",
    "| 1 | 0 | 0 |\n",
    "| 1 | 1 | 1 |"
   ]
  },
  {
   "cell_type": "code",
   "execution_count": 4,
   "id": "4ea7f1d5",
   "metadata": {},
   "outputs": [
    {
     "name": "stdout",
     "output_type": "stream",
     "text": [
      "Task 2\n",
      "249704 games won\n",
      "500000 games played\n",
      "0.49941 of games won\n"
     ]
    }
   ],
   "source": [
    "def simulate_task2():\n",
    "    '''\n",
    "    returns True if Alice and Bob won\n",
    "            False if Alice and Bob lost\n",
    "    '''\n",
    "    \n",
    "    # Mostly similar to Task 1\n",
    "    \n",
    "    row = random.randint(0, 2)\n",
    "    col = random.randint(0, 2)\n",
    "    \n",
    "    # Only generate first 2 bits\n",
    "    # Last bit will be uniquely determined by the first 2 bits\n",
    "    rand1 = random.randint(0, 3)\n",
    "    rand2 = random.randint(0, 3)\n",
    "    \n",
    "    alice_nums = [int((rand1 & (1 << x)) > 0) for x in range(2)]\n",
    "    alice_nums.append((2 - sum(alice_nums)) % 2)\n",
    "    bob_nums = [int((rand2 & (1 << x)) > 0) for x in range(2)]\n",
    "    bob_nums.append((3 - sum(bob_nums)) % 2)\n",
    "    \n",
    "    return check_board(alice_nums, bob_nums, row, col)\n",
    "\n",
    "\n",
    "results = [simulate_task2() for _ in range(500000)]\n",
    "\n",
    "print('Task 2')\n",
    "print(f'{sum(results)} games won')\n",
    "print(f'{len(results)} games played')\n",
    "print(f'{sum(results)/len(results):.5f} of games won')"
   ]
  },
  {
   "cell_type": "code",
   "execution_count": 5,
   "id": "4f43dd44",
   "metadata": {},
   "outputs": [
    {
     "name": "stdout",
     "output_type": "stream",
     "text": [
      "Task 2\n",
      "72 winning boards\n",
      "144 total possible boards\n",
      "0.50000 probability of winning\n"
     ]
    }
   ],
   "source": [
    "def generate_all_boards_task2():    \n",
    "    all_boards = []\n",
    "    for row in range(3):\n",
    "        for col in range(3):\n",
    "            for rand1 in range(4):\n",
    "                for rand2 in range(4):\n",
    "                    alice_nums = [int((rand1 & (1 << x)) > 0) for x in range(2)]\n",
    "                    alice_nums.append((2 - sum(alice_nums)) % 2)\n",
    "                    bob_nums = [int((rand2 & (1 << x)) > 0) for x in range(2)]\n",
    "                    bob_nums.append((3 - sum(bob_nums)) % 2)\n",
    "                    all_boards.append((alice_nums, bob_nums, row, col))\n",
    "    return all_boards\n",
    "\n",
    "results = [check_board(*board) for board in generate_all_boards_task2()]\n",
    "\n",
    "print('Task 2')\n",
    "print(f'{sum(results)} winning boards')\n",
    "print(f'{len(results)} total possible boards')\n",
    "print(f'{sum(results)/len(results):.5f} probability of winning')"
   ]
  },
  {
   "cell_type": "markdown",
   "id": "ff973e94",
   "metadata": {},
   "source": [
    "## Task 3"
   ]
  },
  {
   "cell_type": "markdown",
   "id": "f5e53de4",
   "metadata": {},
   "source": [
    "Possible strategy:\n",
    "Alice always puts $[0, 1, 1]$. If Bob is told first column, Bob puts $[1, 0, 0]$. Otherwise, Bob puts $[1, 1, 1]$. \n",
    "\n",
    "Using this strategy there are only $9$ possible boards, which are determined by the row and column given by Richard. They will lose only if Richard says row $1$, column $1$.\n",
    "\n",
    "Hence this strategy will give $\\frac{8}{9}$ winning probability, which is the most optimal."
   ]
  },
  {
   "cell_type": "code",
   "execution_count": 6,
   "id": "b4a3d3d9",
   "metadata": {},
   "outputs": [
    {
     "name": "stdout",
     "output_type": "stream",
     "text": [
      "Task 3\n",
      "444406 games won\n",
      "500000 games played\n",
      "0.88881 of games won\n"
     ]
    }
   ],
   "source": [
    "def simulate_task3():\n",
    "    '''\n",
    "    returns True if Alice and Bob won\n",
    "            False if Alice and Bob lost\n",
    "    '''\n",
    "    \n",
    "    row = random.randint(0, 2)\n",
    "    col = random.randint(0, 2)\n",
    "    \n",
    "    alice_nums = [0, 1, 1]\n",
    "    bob_nums = [1, 1, 1]\n",
    "    \n",
    "    if col == 0:\n",
    "        bob_nums = [1, 0, 0]\n",
    "    \n",
    "    return check_board(alice_nums, bob_nums, row, col)\n",
    "\n",
    "\n",
    "results = [simulate_task3() for _ in range(500000)]\n",
    "\n",
    "print('Task 3')\n",
    "print(f'{sum(results)} games won')\n",
    "print(f'{len(results)} games played')\n",
    "print(f'{sum(results)/len(results):.5f} of games won')"
   ]
  },
  {
   "cell_type": "code",
   "execution_count": 7,
   "id": "f06ee0fb",
   "metadata": {},
   "outputs": [
    {
     "name": "stdout",
     "output_type": "stream",
     "text": [
      "Task 3\n",
      "8 winning boards\n",
      "9 total possible boards\n",
      "0.88889 probability of winning\n"
     ]
    }
   ],
   "source": [
    "def generate_all_boards_task3():    \n",
    "    all_boards = []\n",
    "    for row in range(3):\n",
    "        for col in range(3):\n",
    "            alice_nums = [0, 1, 1]\n",
    "            bob_nums = [1, 1, 1]\n",
    "\n",
    "            if col == 0:\n",
    "                bob_nums = [1, 0, 0]\n",
    "            all_boards.append((alice_nums, bob_nums, row, col))\n",
    "    return all_boards\n",
    "\n",
    "results = [check_board(*board) for board in generate_all_boards_task3()]\n",
    "\n",
    "print('Task 3')\n",
    "print(f'{sum(results)} winning boards')\n",
    "print(f'{len(results)} total possible boards')\n",
    "print(f'{sum(results)/len(results):.5f} probability of winning')"
   ]
  },
  {
   "cell_type": "markdown",
   "id": "2558401f",
   "metadata": {},
   "source": [
    "## Task 4"
   ]
  },
  {
   "cell_type": "code",
   "execution_count": 8,
   "id": "94073ecf",
   "metadata": {},
   "outputs": [],
   "source": [
    "%matplotlib inline\n",
    "# Importing standard Qiskit libraries\n",
    "import math\n",
    "import qiskit as q\n",
    "from qiskit import QuantumCircuit, execute, Aer, IBMQ\n",
    "from qiskit.compiler import transpile, assemble\n",
    "from qiskit.tools.jupyter import *\n",
    "from qiskit.visualization import *\n",
    "from ibm_quantum_widgets import *\n",
    "\n",
    "# Loading your IBM Q account(s)\n",
    "provider = IBMQ.load_account()\n",
    "backend = Aer.get_backend('qasm_simulator')"
   ]
  },
  {
   "cell_type": "markdown",
   "id": "241e11b2",
   "metadata": {},
   "source": [
    "\n",
    "$$\\newcommand{\\ket}[1]{\\left|{#1}\\right\\rangle}$$\n",
    "Alice is $q_0$ and $q_1$, while Bob is given $q_2$ and $q_3$. The qubits are entangled by $\\ket{q_0 q_2}=\\ket{q_1 q_3}=\\ket{\\Phi^+}=CNOT(H \\otimes I)\\ket{00}$.\n",
    "\n",
    "The following table is taken from [Reference B](http://electron6.phys.utk.edu/phys250/modules/module%203/a_pseudotelepathy_game.htm).\n",
    "\n",
    "| | col 1 | col 2 | col 3 |\n",
    "|:-:|:-:|:-:|:-:|\n",
    "| row 1 | $I \\otimes S_z$ | $S_z \\otimes I$ | $-S_z \\otimes S_z$ |\n",
    "| row 2 | $S_x \\otimes I$ | $I \\otimes S_x$ | $-S_x \\otimes S_x$ |\n",
    "| row 3 | $S_x \\otimes S_z$ | $S_z \\otimes S_x$ | $-S_y \\otimes S_y$ |\n",
    "\n",
    "Each cell in this table shows the basis which they should measure their qubits in. The result of the measurment is what they will fill in the cell. We will perform measurements to find the values in the first and second cell of each row and column.\n",
    "\n",
    "### Bob's strategy\n",
    "\n",
    "If Bob is given column $1$, he needs to measure $q_3$ in the $S_z$ basis and $q_2$ in the $S_x$ basis. The cell in row $1$ will take the measurement of $q_3$, and row $2$ will take the measurement of $q_2$. This can be implemented using a $H$ gate on $q_2$ followed by a $SWAP$ gate on $q_2$ and $q_3$.\n",
    "\n",
    "If Bob is given column $2$, he needs to measure $q_2$ in the $S_z$ basis and $q_3$ in the $S_x$ basis. The cell in row $1$ will take the measurement of $q_2$, and row $2$ will take the measurement of $q_3$. This can be implemented by using a $H$ gate on $q_2$ only.\n",
    "\n",
    "If Bob is given column $3$, the result of measururing $-S_z \\otimes S_z$ goes into row $1$, and result of measuring $-S_x \\otimes S_x$ goes into row $2$. This can be done using a $CNOT$ gate with $q_3$ as the control and $q_2$ as the target, followed by a $H$ gate on $q_2$.\n",
    "\n",
    "### Alice's strategy\n",
    "\n",
    "If Alice is given row $1$, she needs to measure both $q_0$ and $q_1$ in the $S_z$ basis. The cell in column $1$ will take the measurement of $q_1$, and column $2$ will take the measurement of $q_0$. This can be implemented using a $SWAP$ gate only.\n",
    "\n",
    "If Alice is given row $2$, she needs to measure both $q_0$ and $q_1$ in the $S_x$ basis. The cell in column $1$ will take the measurement of $q_0$, and column $2$ will take the measurement of $q_1$. This can be simply implemented by using $H$ gates on both $q_0$ and $q_1$.\n",
    "\n",
    "If Alice is given row $3$, the result of measururing $S_x \\otimes S_z$ goes into column $1$, and result of measuring $S_z \\otimes S_x$ goes into column $2$. This can be done using a $H$ gate on $q_1$, followed by $X$ gates on both $q_0$ and $q_1$, followed by $CNOT$ gate with $q_1$ as the control and $q_0$ as the target, followed by a $H$ gate on $q_0$.\n",
    "\n"
   ]
  },
  {
   "cell_type": "code",
   "execution_count": 9,
   "id": "afc40e81",
   "metadata": {},
   "outputs": [],
   "source": [
    "def alice_task4(circ, row):\n",
    "    if row == 0:\n",
    "        circ.swap(0, 1)\n",
    "    if row == 1:\n",
    "        circ.h(0)\n",
    "        circ.h(1)\n",
    "    if row == 2:\n",
    "        circ.x(0)\n",
    "        circ.x(1)\n",
    "        circ.h(0)\n",
    "        circ.cx(1, 0)\n",
    "        circ.h(1)\n",
    "\n",
    "def bob_task4(circ, col):\n",
    "    if col == 0:\n",
    "        circ.h(2)\n",
    "        circ.swap(2, 3)\n",
    "    if col == 1:\n",
    "        circ.h(3)\n",
    "    if col == 2:\n",
    "        circ.cx(3, 2)\n",
    "        circ.h(3)"
   ]
  },
  {
   "cell_type": "code",
   "execution_count": 10,
   "id": "b0091cf9",
   "metadata": {
    "scrolled": true
   },
   "outputs": [
    {
     "name": "stdout",
     "output_type": "stream",
     "text": [
      "Task 4\n",
      "5000 games won\n",
      "5000 games played\n",
      "1.00000 of games won\n"
     ]
    }
   ],
   "source": [
    "def simulate_task4():\n",
    "    '''\n",
    "    returns True if Alice and Bob won\n",
    "            False if Alice and Bob lost\n",
    "    '''\n",
    "    \n",
    "    row = random.randint(0, 2)\n",
    "    col = random.randint(0, 2)\n",
    "    \n",
    "    # Prepare entangled states\n",
    "    circ = q.QuantumCircuit(4, 4)\n",
    "    circ.h(0)\n",
    "    circ.h(1)\n",
    "    circ.cx(0, 2)\n",
    "    circ.cx(1, 3)\n",
    "\n",
    "    alice_task4(circ, row)\n",
    "    bob_task4(circ, col)\n",
    "    \n",
    "    circ.measure(0, 0)\n",
    "    circ.measure(1, 1)\n",
    "    circ.measure(2, 2)\n",
    "    circ.measure(3, 3)\n",
    "\n",
    "    job = execute(circ, backend, shots=1, memory=True)\n",
    "    alice_nums = [int(job.result().get_memory()[0][3]), int(job.result().get_memory()[0][2])]\n",
    "    alice_nums.append((2 - sum(alice_nums)) % 2)\n",
    "    bob_nums = [int(job.result().get_memory()[0][1]), int(job.result().get_memory()[0][0])]\n",
    "    bob_nums.append((3 - sum(bob_nums)) % 2)\n",
    "    \n",
    "    return check_board(alice_nums, bob_nums, row, col)\n",
    "\n",
    "# Simulating circuits is slow, hence number of runs has been reduced\n",
    "results = [simulate_task4() for _ in range(5000)]\n",
    "\n",
    "print('Task 4')\n",
    "print(f'{sum(results)} games won')\n",
    "print(f'{len(results)} games played')\n",
    "print(f'{sum(results)/len(results):.5f} of games won')"
   ]
  },
  {
   "cell_type": "code",
   "execution_count": 11,
   "id": "1535fd45",
   "metadata": {},
   "outputs": [
    {
     "name": "stdout",
     "output_type": "stream",
     "text": [
      "Task 4\n",
      "9 winning boards\n",
      "9 total possible boards\n",
      "1.00000 probability of winning\n"
     ]
    }
   ],
   "source": [
    "def generate_all_boards_task4():    \n",
    "    all_boards = []\n",
    "    for row in range(3):\n",
    "        for col in range(3):\n",
    "            \n",
    "            # Prepare entangled states\n",
    "            circ = q.QuantumCircuit(4, 4)\n",
    "            circ.h(0)\n",
    "            circ.h(1)\n",
    "            circ.cx(0, 2)\n",
    "            circ.cx(1, 3)\n",
    "            \n",
    "            alice_task4(circ, row)\n",
    "            bob_task4(circ, col)\n",
    "            \n",
    "            circ.measure(0, 0)\n",
    "            circ.measure(1, 1)\n",
    "            circ.measure(2, 2)\n",
    "            circ.measure(3, 3)\n",
    "            \n",
    "            job = execute(circ, backend, shots=1, memory=True)\n",
    "            alice_nums = [int(job.result().get_memory()[0][3]), int(job.result().get_memory()[0][2])]\n",
    "            alice_nums.append((2 - sum(alice_nums)) % 2)\n",
    "            bob_nums = [int(job.result().get_memory()[0][1]), int(job.result().get_memory()[0][0])]\n",
    "            bob_nums.append((3 - sum(bob_nums)) % 2)\n",
    "            \n",
    "            all_boards.append((alice_nums, bob_nums, row, col))\n",
    "    return all_boards\n",
    "\n",
    "\n",
    "results = [check_board(*board) for board in generate_all_boards_task4()]\n",
    "\n",
    "print('Task 4')\n",
    "print(f'{sum(results)} winning boards')\n",
    "print(f'{len(results)} total possible boards')\n",
    "print(f'{sum(results)/len(results):.5f} probability of winning')"
   ]
  },
  {
   "cell_type": "markdown",
   "id": "10884145",
   "metadata": {},
   "source": [
    "The simulations indeed show that the quantum strategy can allow for a $100\\%$ win rate."
   ]
  }
 ],
 "metadata": {
  "kernelspec": {
   "display_name": "Python 3",
   "language": "python",
   "name": "python3"
  },
  "language_info": {
   "codemirror_mode": {
    "name": "ipython",
    "version": 3
   },
   "file_extension": ".py",
   "mimetype": "text/x-python",
   "name": "python",
   "nbconvert_exporter": "python",
   "pygments_lexer": "ipython3",
   "version": "3.8.8"
  }
 },
 "nbformat": 4,
 "nbformat_minor": 5
}
