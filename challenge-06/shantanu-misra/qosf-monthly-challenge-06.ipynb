{
 "cells": [
  {
   "cell_type": "markdown",
   "metadata": {},
   "source": [
    "# Task 1"
   ]
  },
  {
   "cell_type": "markdown",
   "metadata": {},
   "source": [
    "First we have to import all necessary libraries "
   ]
  },
  {
   "cell_type": "code",
   "execution_count": null,
   "metadata": {},
   "outputs": [],
   "source": [
    "from qiskit import *\n",
    "import random as random\n",
    "import numpy as np\n",
    "import matplotlib.pyplot as plt\n",
    "from qiskit.providers.ibmq import least_busy\n",
    "from qiskit.visualization import plot_histogram"
   ]
  },
  {
   "cell_type": "markdown",
   "metadata": {},
   "source": [
    "Let's define a function called richard which randomly assigns Alice and Bob a pair of numbers between 1 and 3, signifying the row and the column."
   ]
  },
  {
   "cell_type": "code",
   "execution_count": null,
   "metadata": {},
   "outputs": [],
   "source": [
    "def richard():\n",
    "    row = random.randint(1,3)\n",
    "    col = random.randint(1,3)\n",
    "    return (row, col)"
   ]
  },
  {
   "cell_type": "markdown",
   "metadata": {},
   "source": [
    "For each box assigned to Alice and Bob, we need to give them a qubit. Now we have to define a function which would random assign Alice and Bob qubits. "
   ]
  },
  {
   "cell_type": "code",
   "execution_count": null,
   "metadata": {},
   "outputs": [],
   "source": [
    "possible_qubits = ['000', '001', '010', '011', '100', '101', '110', '111']\n",
    "\n",
    "def alice_qubits():\n",
    "    random_number = random.randint(0, 7)\n",
    "    return possible_qubits[random_number]\n",
    "\n",
    "def bob_qubits():\n",
    "    random_number = random.randint(0, 7)\n",
    "    return possible_qubits[random_number]"
   ]
  },
  {
   "cell_type": "markdown",
   "metadata": {},
   "source": [
    "Before doing anythong else, we need to define our oracles. After random chosing their qubits which qubits Alics and Bob would place in their respective rows or columns, they would have to implement a particular series of gates so as to initialse all qubits to 0. Alice would be assigned the first three qubits, and Bob the last 3 qubits."
   ]
  },
  {
   "cell_type": "code",
   "execution_count": null,
   "metadata": {},
   "outputs": [],
   "source": [
    "def initialise_alice_qubits(alice_qubits, circuit):\n",
    "    for i in range(3):\n",
    "        if alice_qubits[i] == '1':\n",
    "            qc.x(i)\n",
    "\n",
    "def initialise_bob_qubits(bob_qubits, circuit):\n",
    "    for i in range(3):\n",
    "        if bob_qubits[i] == '1':\n",
    "            qc.x(i+3)\n",
    "    \n",
    "    qc.barrier()"
   ]
  },
  {
   "cell_type": "markdown",
   "metadata": {},
   "source": [
    "Depending on which random row and column have been assigned, we would have to make a circuit with different gates. "
   ]
  },
  {
   "cell_type": "code",
   "execution_count": null,
   "metadata": {},
   "outputs": [],
   "source": [
    "def create_main_circuit(circuit, row, col):\n",
    "    \n",
    "    if (row, col) == (1, 1):\n",
    "        # putting the commom qubits between Alice and Bob in an equal superposition of |00> and |11> so that they are always equal\n",
    "        circuit.h(0)\n",
    "        circuit.cx(0, 3)\n",
    "        circuit.barrier()\n",
    "        # putting the rest of alice's qubits in a favorable superposition\n",
    "        circuit.h(1)\n",
    "        circuit.cx(1, 2)\n",
    "        circuit.cx(0, 1)\n",
    "        circuit.barrier()\n",
    "        # putting bob's qubits in a favorable superposition\n",
    "        circuit.h(4)\n",
    "        circuit.cx(4, 5)\n",
    "        circuit.x(4)\n",
    "        circuit.cx(3, 4)\n",
    "        circuit.barrier()\n",
    "    \n",
    "    # now we have to create the exact same circuit for each row and column combinatoin\n",
    "    \n",
    "    elif (row, col) == (1, 2):\n",
    "        circuit.cx(1, 3)\n",
    "        circuit.barrier()\n",
    "        # putting the rest of alice's qubits in a favorable superposition\n",
    "        circuit.h(0)\n",
    "        circuit.cx(0, 2)\n",
    "        circuit.cx(1, 0)\n",
    "        circuit.barrier()\n",
    "        # putting bob's qubits in a favorable superposition\n",
    "        circuit.h(4)\n",
    "        circuit.cx(4, 5)\n",
    "        circuit.x(4)\n",
    "        circuit.cx(3, 4)\n",
    "        circuit.barrier()\n",
    "        \n",
    "    elif (row, col) == (1, 3):\n",
    "        circuit.h(2)\n",
    "        circuit.cx(2, 3)\n",
    "        circuit.barrier()\n",
    "        # putting the rest of alice's qubits in a favorable superposition\n",
    "        circuit.h(0)\n",
    "        circuit.cx(0, 1)\n",
    "        circuit.cx(2, 0)\n",
    "        circuit.barrier()\n",
    "        # putting bob's qubits in a favorable superposition\n",
    "        circuit.h(4)\n",
    "        circuit.cx(4, 5)\n",
    "        circuit.x(4)\n",
    "        circuit.cx(3, 4)\n",
    "        circuit.barrier()\n",
    "        \n",
    "    elif (row, col) == (2, 1):\n",
    "        circuit.h(0)\n",
    "        circuit.cx(0, 4)\n",
    "        circuit.barrier()\n",
    "        # putting the rest of alice's qubits in a favorable superposition\n",
    "        circuit.h(1)\n",
    "        circuit.cx(1, 2)\n",
    "        circuit.cx(0, 1)\n",
    "        circuit.barrier()\n",
    "        # putting bob's qubits in a favorable superposition\n",
    "        circuit.h(3)\n",
    "        circuit.cx(3, 5)\n",
    "        circuit.x(3)\n",
    "        circuit.cx(4, 3)\n",
    "        circuit.barrier()\n",
    "    \n",
    "    elif (row, col) == (2, 2):\n",
    "        circuit.h(1)\n",
    "        circuit.cx(1, 4)\n",
    "        circuit.barrier()\n",
    "        # putting the rest of alice's qubits in a favorable superposition\n",
    "        circuit.h(0)\n",
    "        circuit.cx(0, 2)\n",
    "        circuit.cx(1, 0)\n",
    "        circuit.barrier()\n",
    "        # putting bob's qubits in a favorable superposition\n",
    "        circuit.h(3)\n",
    "        circuit.cx(3, 5)\n",
    "        circuit.x(3)\n",
    "        circuit.cx(4, 3)\n",
    "        circuit.barrier()\n",
    "        \n",
    "    elif (row, col) == (2, 3):\n",
    "        circuit.h(2)\n",
    "        circuit.cx(2, 4)\n",
    "        circuit.barrier()\n",
    "        # putting the rest of alice's qubits in a favorable superposition\n",
    "        circuit.h(0)\n",
    "        circuit.cx(0, 1)\n",
    "        circuit.cx(2, 0)\n",
    "        circuit.barrier()\n",
    "        # putting bob's qubits in a favorable superposition\n",
    "        circuit.h(3)\n",
    "        circuit.cx(3, 5)\n",
    "        circuit.x(3)\n",
    "        circuit.cx(4, 3)\n",
    "        circuit.barrier()\n",
    "        \n",
    "    elif (row, col) == (3, 1):\n",
    "        circuit.h(0)\n",
    "        circuit.cx(0, 5)\n",
    "        circuit.barrier()\n",
    "        # putting the rest of alice's qubits in a favorable superposition\n",
    "        circuit.h(1)\n",
    "        circuit.cx(1, 2)\n",
    "        circuit.cx(0, 1)\n",
    "        circuit.barrier()\n",
    "        # putting bob's qubits in a favorable superposition\n",
    "        circuit.h(4)\n",
    "        circuit.cx(4, 3)\n",
    "        circuit.x(4)\n",
    "        circuit.cx(3, 4)\n",
    "        circuit.barrier()\n",
    "        \n",
    "    elif (row, col) == (3, 2):\n",
    "        circuit.h(1)\n",
    "        circuit.cx(1, 5)\n",
    "        circuit.barrier()\n",
    "        # putting the rest of alice's qubits in a favorable superposition\n",
    "        circuit.h(0)\n",
    "        circuit.cx(0, 2)\n",
    "        circuit.cx(1, 0)\n",
    "        circuit.barrier()\n",
    "        # putting bob's qubits in a favorable superposition\n",
    "        circuit.h(4)\n",
    "        circuit.cx(4, 3)\n",
    "        circuit.x(4)\n",
    "        circuit.cx(3, 4)\n",
    "        circuit.barrier()\n",
    "    \n",
    "    elif (row, col) == (3, 3):\n",
    "        circuit.h(2)\n",
    "        circuit.cx(2, 5)\n",
    "        circuit.barrier()\n",
    "        # putting the rest of alice's qubits in a favorable superposition\n",
    "        circuit.h(0)\n",
    "        circuit.cx(0, 1)\n",
    "        circuit.cx(2, 0)\n",
    "        circuit.barrier()\n",
    "        # putting bob's qubits in a favorable superposition\n",
    "        circuit.h(4)\n",
    "        circuit.cx(4, 3)\n",
    "        circuit.x(4)\n",
    "        circuit.cx(3, 4)\n",
    "        circuit.barrier()"
   ]
  },
  {
   "cell_type": "markdown",
   "metadata": {},
   "source": [
    "Let's define a little function to measure all qubits."
   ]
  },
  {
   "cell_type": "code",
   "execution_count": null,
   "metadata": {},
   "outputs": [],
   "source": [
    "def measurement(circuit):\n",
    "    for i in range(6):\n",
    "        circuit.measure(i, i)"
   ]
  },
  {
   "cell_type": "markdown",
   "metadata": {},
   "source": [
    "Now that we have everything in place, we can start making the circuit for real. Let's define all the prerequisites.  "
   ]
  },
  {
   "cell_type": "code",
   "execution_count": null,
   "metadata": {},
   "outputs": [],
   "source": [
    "row, col = richard()\n",
    "state_of_alice_qubits = alice_qubits()\n",
    "state_of_bob_qubits = bob_qubits()\n",
    "\n",
    "qc = QuantumCircuit(6,6)\n",
    "# Now let's assign Alice's and Bob's qubits randomly as they chose \n",
    "\n",
    "for i in range(3):\n",
    "    if state_of_alice_qubits[i] == '1':\n",
    "        qc.x(i)\n",
    "  \n",
    "for i in range(3):\n",
    "    if state_of_bob_qubits[i] == '1':\n",
    "        qc.x(i+3)\n",
    "\n",
    "qc.barrier()\n",
    "\n",
    "print(f'Alice: {state_of_alice_qubits}, Bob: {state_of_bob_qubits}')\n",
    "qc.draw('mpl')"
   ]
  },
  {
   "cell_type": "markdown",
   "metadata": {},
   "source": [
    "After the circuit has been prepared randomly, Alice and Bob would have to apply the initiLise gate combination defined long back. "
   ]
  },
  {
   "cell_type": "code",
   "execution_count": null,
   "metadata": {},
   "outputs": [],
   "source": [
    "initialise_alice_qubits(state_of_alice_qubits, qc)\n",
    "initialise_bob_qubits(state_of_bob_qubits, qc)\n",
    "\n",
    "qc.draw('mpl')"
   ]
  },
  {
   "cell_type": "markdown",
   "metadata": {},
   "source": [
    "Now let's inplement the main circuit"
   ]
  },
  {
   "cell_type": "code",
   "execution_count": null,
   "metadata": {},
   "outputs": [],
   "source": [
    "create_main_circuit(qc, row, col)\n",
    "measurement(qc)\n",
    "qc.draw('mpl')"
   ]
  },
  {
   "cell_type": "markdown",
   "metadata": {},
   "source": [
    "Setting up simulator to get measurements."
   ]
  },
  {
   "cell_type": "code",
   "execution_count": null,
   "metadata": {},
   "outputs": [],
   "source": [
    "backend = Aer.get_backend('qasm_simulator')\n",
    "job = execute(qc, backend, shots = 1024)\n",
    "result = job.result()\n",
    "counts = result.get_counts()\n",
    "print(counts)\n",
    "plot_histogram(counts)"
   ]
  },
  {
   "cell_type": "markdown",
   "metadata": {},
   "source": [
    "Let's define a function to test whether the conditions of the questions were met. That is, the binary sum (XOR) of all of Alice's Qubits is 0 and Bob's Qubits is 1.\n",
    "\n",
    "Remember, because of qiskit indexing, Alice's qubits are the last 3, whereas Bob's qubits are the first 3. "
   ]
  },
  {
   "cell_type": "code",
   "execution_count": null,
   "metadata": {},
   "outputs": [],
   "source": [
    "def xor_check_for_Bob(counts):\n",
    "    states_of_bob = []\n",
    "    \n",
    "    for qubits in counts:\n",
    "        states_of_bob.append(qubits[0:3])\n",
    "    \n",
    "    print(f'Bob qubits: {states_of_bob}')\n",
    "    \n",
    "    for state in states_of_bob:\n",
    "        print(f'Binary sum of {state}: {int(state[0])^int(state[1])^int(state[2])}')\n",
    "\n",
    "def xor_check_for_Alice(counts):\n",
    "    states_of_Alice = []\n",
    "    \n",
    "    for qubits in counts:\n",
    "        states_of_Alice.append(qubits[3:6])\n",
    "    \n",
    "    print(f'Alice qubits: {states_of_Alice}')\n",
    "          \n",
    "    for state in states_of_Alice:\n",
    "        print(f'Binary sum of {state}: {int(state[0])^int(state[1])^int(state[2])}')"
   ]
  },
  {
   "cell_type": "markdown",
   "metadata": {},
   "source": [
    "Now, we have to check the second condition. The common box between Alice and Bob must contain 2 qubits in the same state. "
   ]
  },
  {
   "cell_type": "code",
   "execution_count": null,
   "metadata": {},
   "outputs": [],
   "source": [
    "def check_commonality(row, col):\n",
    "    indexes_to_check = []\n",
    "    \n",
    "    if (row, col) == (1,1):\n",
    "        indexes_to_check = [0,3]   \n",
    "    elif (row, col) == (1,2):\n",
    "        indexes_to_check = [1,3]\n",
    "    elif (row, col) == (1,3):\n",
    "        indexes_to_check = [2,3]\n",
    "    \n",
    "    elif (row, col) == (2,1):\n",
    "        indexes_to_check = [0,4]\n",
    "    elif (row, col) == (2,2):\n",
    "        indexes_to_check = [1,4]\n",
    "    elif (row, col) == (2,3):\n",
    "        indexes_to_check = [2,4]\n",
    "    \n",
    "    elif (row, col) == (3,1):\n",
    "        indexes_to_check = [0,5]\n",
    "    elif (row, col) == (3,2):\n",
    "        indexes_to_check = [1,5]\n",
    "    elif (row, col) == (3,3):\n",
    "        indexes_to_check = [2,5]\n",
    "    \n",
    "    return indexes_to_check"
   ]
  },
  {
   "cell_type": "code",
   "execution_count": null,
   "metadata": {},
   "outputs": [],
   "source": [
    "alice_index, bob_index = check_commonality(row, col)\n",
    "\n",
    "for qubits in counts:\n",
    "    print(f'For the state {qubits}, in the box they share, Alice qubit: {qubits[alice_index]}, Bob qubit: {qubits[bob_index]}')\n",
    "    print()\n",
    "    "
   ]
  },
  {
   "cell_type": "markdown",
   "metadata": {},
   "source": [
    "I will son upload a handwritten file in this very folder explaining why this methid works. "
   ]
  },
  {
   "cell_type": "code",
   "execution_count": null,
   "metadata": {},
   "outputs": [],
   "source": []
  }
 ],
 "metadata": {
  "kernelspec": {
   "display_name": "Python 3",
   "language": "python",
   "name": "python3"
  },
  "language_info": {
   "codemirror_mode": {
    "name": "ipython",
    "version": 3
   },
   "file_extension": ".py",
   "mimetype": "text/x-python",
   "name": "python",
   "nbconvert_exporter": "python",
   "pygments_lexer": "ipython3",
   "version": "3.8.5"
  }
 },
 "nbformat": 4,
 "nbformat_minor": 4
}
